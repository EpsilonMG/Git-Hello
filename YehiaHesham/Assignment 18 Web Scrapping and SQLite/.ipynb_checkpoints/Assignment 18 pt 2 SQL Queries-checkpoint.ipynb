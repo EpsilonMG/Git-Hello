{
 "cells": [
  {
   "cell_type": "markdown",
   "id": "afd654de",
   "metadata": {},
   "source": [
    "Task\n",
    "----------\n",
    "### Design and create a database for scraping All books for each category using DB Browser for sqllite from this web site (http://books.toscrape.com/) ###\n",
    "\n",
    "01) Write a sql query to get books that has rate >=3 and has 'Mr' in its name.\n",
    "\n",
    "02) Write a sql query to get books that has rate >=3 or price > 20.\n",
    "\n",
    "03) Write a sql query to get books that has rate not 3.\n",
    "\n",
    "04) Write a sql query to get books that has price between 10 and 40 and has rate 3 or 4 or 1.\n",
    "\n",
    "05) Write a sql query to get the top 5 most expensive books (order books desc with price column and then limit the result to the first 5).\n",
    "\n",
    "06) Write a sql query to get the 3rd 10 books in the books table order first by rate desc and then by price asc.\n",
    "\n",
    "07) Write a sql query to add a new category in categories table and add 5 books to this category in books table with title, rate and price.\n",
    "\n",
    "08) Write a sql query to update book's rate to 3 that thier price < 20£.\n",
    "\n",
    "09) Write a sql query to delete all books that have price > 50£ and has rate <= 2.\n",
    "\n",
    "10) Write a sql query to count the number of books that have 'Secret' in thier names and price between 10£ and 25£.\n",
    "\n",
    "11) Write a sql query to get the minimum & maximum price for all the books that have rate 5.\n",
    "\n",
    "12) Write a sql query to calculate the avg price for all the books that have rate 5.\n",
    "\n",
    "13) Write a sql query to sum all book's price that have rate 2 and price between 10 and 40.\n",
    "\n",
    "14) Write a sql query to join both books & categories table into one new table containing book_name & category_name & book_rate and book_price.\n",
    "\n",
    "15) Write a sql query to calculate how many books each rate has and have price between 20£ and 30£.\n",
    "\n",
    "16) Write a sql query to calculate how many books each category has having count > 10.\n",
    "\n",
    "17) Write a sql query to get all books with category_name='Music' using subquery."
   ]
  },
  {
   "cell_type": "code",
   "execution_count": null,
   "id": "9a07d53c",
   "metadata": {},
   "outputs": [],
   "source": [
    "#refresh\n",
    "connection.close()"
   ]
  },
  {
   "cell_type": "code",
   "execution_count": null,
   "id": "c47454ae",
   "metadata": {},
   "outputs": [],
   "source": [
    "#refresh\n",
    "connection = sqlite3.connect('edited database\\Books to scrape.db')"
   ]
  },
  {
   "cell_type": "markdown",
   "id": "033b797c",
   "metadata": {},
   "source": [
    "### ==== Code ==== ###"
   ]
  },
  {
   "cell_type": "code",
   "execution_count": 20,
   "id": "03581540",
   "metadata": {},
   "outputs": [],
   "source": [
    "import sqlite3\n",
    "connection = sqlite3.connect('edited database\\Books to scrape.db')"
   ]
  },
  {
   "cell_type": "code",
   "execution_count": 2,
   "id": "550f2387",
   "metadata": {},
   "outputs": [
    {
     "data": {
      "text/plain": [
       "[(1049, 'Mrs. Houdini', 30.25, 5, 3051),\n",
       " (1244, 'My Mrs. Brown', 24.48, 3, 3086),\n",
       " (1249, 'Dear Mr. Knightley', 11.21, 5, 3086)]"
      ]
     },
     "execution_count": 2,
     "metadata": {},
     "output_type": "execute_result"
    }
   ],
   "source": [
    "#01) Write a sql query to get books that has rate >=3 and has 'Mr' in its name.\n",
    "sql = \"SELECT * FROM Books WHERE Book_Rating >= 3 AND Book_Name LIKE '%Mr%'\"\n",
    "cursor = connection.execute(sql)\n",
    "cursor.fetchmany(10)"
   ]
  },
  {
   "cell_type": "code",
   "execution_count": 3,
   "id": "4ee34074",
   "metadata": {},
   "outputs": [
    {
     "data": {
      "text/plain": [
       "[(\"It's Only the Himalayas\", 2, 45.17),\n",
       " ('Full Moon over Noah’s Ark: An Odyssey to Mount Ararat and Beyond',\n",
       "  4,\n",
       "  49.43),\n",
       " ('See America: A Celebration of Our National Parks & Treasured Sites',\n",
       "  3,\n",
       "  48.87),\n",
       " ('Vagabonding: An Uncommon Guide to the Art of Long-Term World Travel',\n",
       "  2,\n",
       "  36.94),\n",
       " ('Under the Tuscan Sun', 3, 37.33),\n",
       " ('A Summer In Europe', 2, 44.34),\n",
       " ('The Great Railway Bazaar', 1, 30.54),\n",
       " ('A Year in Provence (Provence #1)', 4, 56.88),\n",
       " ('The Road to Little Dribbling: Adventures of an American in Britain (Notes From a Small Island #2)',\n",
       "  1,\n",
       "  23.21),\n",
       " ('Neither Here nor There: Travels in Europe', 3, 38.95)]"
      ]
     },
     "execution_count": 3,
     "metadata": {},
     "output_type": "execute_result"
    }
   ],
   "source": [
    "#02) Write a sql query to get books that has rate >=3 or price > 20.\n",
    "sql = \"SELECT Book_Name, Book_Rating, Book_Price FROM Books WHERE Book_Rating >= 3 OR Book_Price > 20 \"\n",
    "cursor = connection.execute(sql)\n",
    "cursor.fetchmany(10)"
   ]
  },
  {
   "cell_type": "code",
   "execution_count": 4,
   "id": "13ad5744",
   "metadata": {},
   "outputs": [
    {
     "data": {
      "text/plain": [
       "[(\"It's Only the Himalayas\", 2),\n",
       " ('Full Moon over Noah’s Ark: An Odyssey to Mount Ararat and Beyond', 4),\n",
       " ('Vagabonding: An Uncommon Guide to the Art of Long-Term World Travel', 2),\n",
       " ('A Summer In Europe', 2),\n",
       " ('The Great Railway Bazaar', 1),\n",
       " ('A Year in Provence (Provence #1)', 4),\n",
       " ('The Road to Little Dribbling: Adventures of an American in Britain (Notes From a Small Island #2)',\n",
       "  1),\n",
       " ('1,000 Places to See Before You Die', 5),\n",
       " ('Sharp Objects', 4),\n",
       " ('In a Dark, Dark Wood', 1)]"
      ]
     },
     "execution_count": 4,
     "metadata": {},
     "output_type": "execute_result"
    }
   ],
   "source": [
    "#03) Write a sql query to get books that has rate not 3.\n",
    "sql = \"SELECT Book_Name, Book_Rating FROM Books WHERE NOT Book_Rating = 3\"\n",
    "cursor = connection.execute(sql)\n",
    "cursor.fetchmany(10)"
   ]
  },
  {
   "cell_type": "code",
   "execution_count": 5,
   "id": "1e4a8ebc",
   "metadata": {},
   "outputs": [
    {
     "data": {
      "text/plain": [
       "[('Under the Tuscan Sun', 37.33, 3),\n",
       " ('The Great Railway Bazaar', 30.54, 1),\n",
       " ('The Road to Little Dribbling: Adventures of an American in Britain (Notes From a Small Island #2)',\n",
       "  23.21,\n",
       "  1),\n",
       " ('Neither Here nor There: Travels in Europe', 38.95, 3),\n",
       " ('In a Dark, Dark Wood', 19.63, 1),\n",
       " ('A Murder in Time', 16.64, 1),\n",
       " ('That Darkness (Gardiner and Renner #1)', 13.92, 1),\n",
       " ('Tastes Like Fear (DI Marnie Rome #3)', 10.69, 1),\n",
       " ('Poisonous (Max Revere Novels #3)', 26.8, 3),\n",
       " ('Most Wanted', 35.28, 3)]"
      ]
     },
     "execution_count": 5,
     "metadata": {},
     "output_type": "execute_result"
    }
   ],
   "source": [
    "#04) Write a sql query to get books that has price between 10 and 40 and has rate 3 or 4 or 1.\n",
    "sql = \"SELECT Book_Name, Book_Price, Book_Rating FROM Books WHERE (Book_Price > 10 AND Book_Price < 40) AND Book_Rating IN (1,3,4)\"\n",
    "cursor = connection.execute(sql)\n",
    "cursor.fetchmany(10)"
   ]
  },
  {
   "cell_type": "code",
   "execution_count": 6,
   "id": "f2510ae7",
   "metadata": {},
   "outputs": [
    {
     "data": {
      "text/plain": [
       "[('The Perfect Play (Play by Play #1)', 59.99),\n",
       " ('Last One Home (New Beginnings #1)', 59.98),\n",
       " ('Civilization and Its Discontents', 59.95),\n",
       " ('The Barefoot Contessa Cookbook', 59.92),\n",
       " ('The Diary of a Young Girl', 59.9)]"
      ]
     },
     "execution_count": 6,
     "metadata": {},
     "output_type": "execute_result"
    }
   ],
   "source": [
    "#05) Write a sql query to get the top 5 most expensive books \n",
    "#(order books desc with price column and then limit the result to the first 5).\n",
    "sql = \"SELECT Book_Name, Book_Price FROM Books ORDER BY Book_Price DESC\"\n",
    "cursor = connection.execute(sql)\n",
    "cursor.fetchmany(5)"
   ]
  },
  {
   "cell_type": "code",
   "execution_count": 7,
   "id": "5628009d",
   "metadata": {},
   "outputs": [
    {
     "data": {
      "text/plain": [
       "[('The Epidemic (The Program 0.6)', 5, 14.44),\n",
       " (\"A Gentleman's Position (Society of Gentlemen #3)\", 5, 14.75),\n",
       " ('Hyperbole and a Half: Unfortunate Situations, Flawed Coping Mechanisms, Mayhem, and Other Things That Happened',\n",
       "  5,\n",
       "  14.75),\n",
       " ('Disrupted: My Misadventure in the Start-Up Bubble', 5, 15.28),\n",
       " ('Fifty Shades Freed (Fifty Shades #3)', 5, 15.36),\n",
       " ('Batman: The Dark Knight Returns (Batman)', 5, 15.38),\n",
       " ('The Collected Poems of W.B. Yeats (The Collected Works of W.B. Yeats #1)',\n",
       "  5,\n",
       "  15.42),\n",
       " ('Kill the Boy Band', 5, 15.52),\n",
       " (\"Sophie's World\", 5, 15.94),\n",
       " ('Shiver (The Wolves of Mercy Falls #1)', 5, 16.23)]"
      ]
     },
     "execution_count": 7,
     "metadata": {},
     "output_type": "execute_result"
    }
   ],
   "source": [
    "#06) Write a sql query to get the 3rd 10 books in the books table \n",
    "#order first by rate desc and then by price asc.\n",
    "\n",
    "sql = \"SELECT * FROM (SELECT Book_Name, Book_Rating, Book_Price From Books ORDER BY Book_Rating DESC, Book_Price ASC) LIMIT 20,10\"\n",
    "\n",
    "# \"SELECT * FROM (\n",
    "#     SELECT Book_Name, Book_Rating, Book_Price \n",
    "#     From Books ORDER BY Book_Rating DESC, Book_Price ASC\n",
    "#  )LIMIT 20,10\"\n",
    "\n",
    "cursor = connection.execute(sql)\n",
    "#cursor.fetchmany(10)\n",
    "cursor.fetchall()"
   ]
  },
  {
   "cell_type": "code",
   "execution_count": 21,
   "id": "89490e75",
   "metadata": {},
   "outputs": [],
   "source": [
    "#07) Write a sql query to add a new category in categories table\n",
    "# and add 5 books to this category in books table with title, rate and price.\n",
    "\n",
    "sql = \"INSERT INTO Categories (Cat_Name) VALUES (?)\"\n",
    "data = ['New']\n",
    "cursor = connection.execute(sql,data)\n",
    "connection.commit()"
   ]
  },
  {
   "cell_type": "code",
   "execution_count": 22,
   "id": "b7e9e80b",
   "metadata": {},
   "outputs": [
    {
     "data": {
      "text/plain": [
       "[(3105, 'New')]"
      ]
     },
     "execution_count": 22,
     "metadata": {},
     "output_type": "execute_result"
    }
   ],
   "source": [
    "sql = \"SELECT * FROM Categories WHERE Cat_Name = ?\"\n",
    "#data = ['New']\n",
    "cursor = connection.execute(sql,data)\n",
    "cursor.fetchall()"
   ]
  },
  {
   "cell_type": "code",
   "execution_count": 23,
   "id": "7691eac1",
   "metadata": {},
   "outputs": [],
   "source": [
    "sql = \"INSERT INTO Books (Book_Name,Book_Rating,Book_Price,Cat_ID) VALUES ('The Childern of Tomorrow',3,10,3105),('2938: Prophecy',4,23,3105),('Ascendent Exile',3,11,3105),('Halcyon Frontier',4,20,3105),('Last Instinct',4,18,3105)\"\n",
    "\n",
    "# \"INSERT INTO Books (Book_Name,Book_Rating,Book_Price,Cat_ID) VALUES \n",
    "#     ('The Childern of Tomorrow',3,10,3105),\n",
    "#     ('2938: Prophecy',4,23,3105),\n",
    "#     ('Ascendent Exile',3,11,3105),\n",
    "#     ('Halcyon Frontier',4,20,3105),\n",
    "#     ('Last Instinct',4,18,3105)\"\n",
    "\n",
    "cursor = connection.execute(sql)\n",
    "connection.commit()"
   ]
  },
  {
   "cell_type": "code",
   "execution_count": 24,
   "id": "173af992",
   "metadata": {},
   "outputs": [
    {
     "data": {
      "text/plain": [
       "[('The Childern of Tomorrow', 3, 10),\n",
       " ('2938: Prophecy', 4, 23),\n",
       " ('Ascendent Exile', 3, 11),\n",
       " ('Halcyon Frontier', 4, 20),\n",
       " ('Last Instinct', 4, 18)]"
      ]
     },
     "execution_count": 24,
     "metadata": {},
     "output_type": "execute_result"
    }
   ],
   "source": [
    "sql = \"SELECT Book_Name, Book_Rating, Book_Price FROM Books WHERE Cat_ID = 3105\"\n",
    "cursor.execute(sql)\n",
    "cursor.fetchall()"
   ]
  },
  {
   "cell_type": "code",
   "execution_count": 25,
   "id": "9dec2a90",
   "metadata": {},
   "outputs": [],
   "source": [
    "#08) Write a sql query to update book's rate to 3 that thier price < 20£.\n",
    "sql = \"UPDATE Books SET Book_Rating = 3 WHERE Book_Price < 20\"\n",
    "cursor = connection.execute(sql)\n",
    "connection.commit()"
   ]
  },
  {
   "cell_type": "code",
   "execution_count": 26,
   "id": "b2cf216f",
   "metadata": {},
   "outputs": [
    {
     "data": {
      "text/plain": [
       "[('In a Dark, Dark Wood', 3, 19.63),\n",
       " ('A Murder in Time', 3, 16.64),\n",
       " ('That Darkness (Gardiner and Renner #1)', 3, 13.92),\n",
       " ('Tastes Like Fear (DI Marnie Rome #3)', 3, 10.69),\n",
       " ('A Study in Scarlet (Sherlock Holmes #1)', 3, 16.73),\n",
       " ('Hide Away (Eve Duncan #20)', 3, 11.84),\n",
       " ('Playing with Fire', 3, 13.71),\n",
       " (\"The Cuckoo's Calling (Cormoran Strike #1)\", 3, 19.21),\n",
       " ('The Girl You Lost', 3, 12.29),\n",
       " ('The Girl In The Ice (DCI Erika Foster #1)', 3, 15.85)]"
      ]
     },
     "execution_count": 26,
     "metadata": {},
     "output_type": "execute_result"
    }
   ],
   "source": [
    "sql = \"SELECT Book_Name, Book_Rating, Book_Price FROM Books WHERE Book_Price < 20\"\n",
    "cursor.execute(sql)\n",
    "cursor.fetchmany(10)"
   ]
  },
  {
   "cell_type": "code",
   "execution_count": 27,
   "id": "b109fd47",
   "metadata": {},
   "outputs": [],
   "source": [
    "#09) Write a sql query to delete all books that have price > 50£ and has rate <= 2.\n",
    "sql = \"DELETE FROM Books WHERE Book_Price > 50 AND Book_Rating <= 2\"\n",
    "cursor = connection.execute(sql)\n",
    "connection.commit()"
   ]
  },
  {
   "cell_type": "code",
   "execution_count": 29,
   "id": "01386cbc",
   "metadata": {},
   "outputs": [
    {
     "data": {
      "text/plain": [
       "[]"
      ]
     },
     "execution_count": 29,
     "metadata": {},
     "output_type": "execute_result"
    }
   ],
   "source": [
    "sql = \"SELECT * FROM Books WHERE Book_Price > 50 AND Book_Rating <= 2\"\n",
    "cursor.execute(sql)\n",
    "cursor.fetchall()"
   ]
  },
  {
   "cell_type": "code",
   "execution_count": 33,
   "id": "7f9647fd",
   "metadata": {},
   "outputs": [
    {
     "data": {
      "text/plain": [
       "(5,)"
      ]
     },
     "execution_count": 33,
     "metadata": {},
     "output_type": "execute_result"
    }
   ],
   "source": [
    "#10) Write a sql query to count the number of books that have 'Secret' in thier names \n",
    "#and price between 10£ and 25£.\n",
    "sql = \"SELECT COUNT(Book_Name) FROM Books WHERE Book_Name LIKE '%Secret%' AND Book_Price > 10 AND Book_Price < 25\"\n",
    "cursor.execute(sql)\n",
    "cursor.fetchone()"
   ]
  },
  {
   "cell_type": "code",
   "execution_count": 35,
   "id": "5cb7a209",
   "metadata": {},
   "outputs": [
    {
     "data": {
      "text/plain": [
       "(20.02, 59.92)"
      ]
     },
     "execution_count": 35,
     "metadata": {},
     "output_type": "execute_result"
    }
   ],
   "source": [
    "#11) Write a sql query to get the minimum & maximum price for all the books that have rate 5.\n",
    "sql = \"SELECT MIN(Book_Price), MAX(Book_Price) FROM Books WHERE Book_Rating = 5\"\n",
    "cursor.execute(sql)\n",
    "cursor.fetchone()"
   ]
  },
  {
   "cell_type": "code",
   "execution_count": 36,
   "id": "7355f520",
   "metadata": {},
   "outputs": [
    {
     "data": {
      "text/plain": [
       "(41.05000000000002,)"
      ]
     },
     "execution_count": 36,
     "metadata": {},
     "output_type": "execute_result"
    }
   ],
   "source": [
    "#12) Write a sql query to calculate the avg price for all the books that have rate 5.\n",
    "sql = \"SELECT AVG(Book_Price) FROM Books WHERE Book_Rating = 5\"\n",
    "cursor.execute(sql)\n",
    "cursor.fetchone()"
   ]
  },
  {
   "cell_type": "code",
   "execution_count": 37,
   "id": "211690d9",
   "metadata": {},
   "outputs": [
    {
     "data": {
      "text/plain": [
       "(2772.749999999999,)"
      ]
     },
     "execution_count": 37,
     "metadata": {},
     "output_type": "execute_result"
    }
   ],
   "source": [
    "#13) Write a sql query to sum all book's price that have rate 2 and price between 10 and 40.\n",
    "sql = \"SELECT SUM(Book_Price) FROM Books WHERE Book_Rating = 2 AND Book_Price > 10 AND Book_Price < 40\"\n",
    "cursor.execute(sql)\n",
    "cursor.fetchone()"
   ]
  },
  {
   "cell_type": "code",
   "execution_count": 40,
   "id": "f3c580aa",
   "metadata": {},
   "outputs": [
    {
     "data": {
      "text/plain": [
       "[('Travel', \"It's Only the Himalayas\", 2, 45.17),\n",
       " ('Travel',\n",
       "  'Full Moon over Noah’s Ark: An Odyssey to Mount Ararat and Beyond',\n",
       "  4,\n",
       "  49.43),\n",
       " ('Travel',\n",
       "  'See America: A Celebration of Our National Parks & Treasured Sites',\n",
       "  3,\n",
       "  48.87),\n",
       " ('Travel',\n",
       "  'Vagabonding: An Uncommon Guide to the Art of Long-Term World Travel',\n",
       "  2,\n",
       "  36.94),\n",
       " ('Travel', 'Under the Tuscan Sun', 3, 37.33),\n",
       " ('Travel', 'A Summer In Europe', 2, 44.34),\n",
       " ('Travel', 'The Great Railway Bazaar', 1, 30.54),\n",
       " ('Travel', 'A Year in Provence (Provence #1)', 4, 56.88),\n",
       " ('Travel',\n",
       "  'The Road to Little Dribbling: Adventures of an American in Britain (Notes From a Small Island #2)',\n",
       "  1,\n",
       "  23.21),\n",
       " ('Travel', 'Neither Here nor There: Travels in Europe', 3, 38.95)]"
      ]
     },
     "execution_count": 40,
     "metadata": {},
     "output_type": "execute_result"
    }
   ],
   "source": [
    "#14) Write a sql query to join both books & categories table into one new table \n",
    "#containing book_name & category_name & book_rate and book_price.\n",
    "sql = \"SELECT Categories.Cat_Name, Books.Book_Name, Books.Book_Rating, Books.Book_Price From Books INNER JOIN Categories On Books.Cat_ID = Categories.Cat_ID\"\n",
    "\n",
    "# \"SELECT Books.Book_Name, Books.Book_Rating, Books.Book_Price, Categories.Cat_Name From\n",
    "# Books INNER JOIN Categories On Books.Cat_ID = Categories.Cat_ID\"\n",
    "\n",
    "cursor.execute(sql)\n",
    "cursor.fetchmany(10)"
   ]
  },
  {
   "cell_type": "code",
   "execution_count": 44,
   "id": "0fa1c4aa",
   "metadata": {},
   "outputs": [
    {
     "data": {
      "text/plain": [
       "[(55, 1), (40, 2), (41, 3), (35, 4), (36, 5)]"
      ]
     },
     "execution_count": 44,
     "metadata": {},
     "output_type": "execute_result"
    }
   ],
   "source": [
    "#15) Write a sql query to calculate how many books each rate has and have price between 20£ and 30£.\n",
    "sql = \"SELECT COUNT(Book_Name), Book_Rating FROM Books WHERE Book_Price > 20 AND Book_Price < 30 GROUP BY Book_Rating\"\n",
    "\n",
    "# \"SELECT COUNT(Book_Name), Book_Rating FROM Books WHERE \n",
    "# Book_Price > 20 AND Book_Price < 30 GROUP BY Book_Rating\"\n",
    "\n",
    "cursor.execute(sql)\n",
    "cursor.fetchall()"
   ]
  },
  {
   "cell_type": "code",
   "execution_count": 48,
   "id": "f9377a48",
   "metadata": {},
   "outputs": [
    {
     "data": {
      "text/plain": [
       "(207,)"
      ]
     },
     "execution_count": 48,
     "metadata": {},
     "output_type": "execute_result"
    }
   ],
   "source": [
    "#    55 + 40 + 41 + 35 + 36 = 207 \n",
    "sql = \"SELECT COUNT(Book_Name) FROM Books WHERE Book_Price > 20 AND Book_Price < 30 \"\n",
    "cursor.execute(sql)\n",
    "cursor.fetchone()"
   ]
  },
  {
   "cell_type": "code",
   "execution_count": 56,
   "id": "d7ffbcdb",
   "metadata": {},
   "outputs": [
    {
     "data": {
      "text/plain": [
       "[('Historical Fiction', 24),\n",
       " ('Romance', 33),\n",
       " ('Science', 13),\n",
       " ('Sequential Art', 70),\n",
       " ('Music', 11),\n",
       " ('Womens Fiction', 16),\n",
       " ('Horror', 15),\n",
       " ('Nonfiction', 104),\n",
       " ('Fantasy', 40),\n",
       " ('Classics', 17),\n",
       " ('Business', 11),\n",
       " ('Mystery', 30),\n",
       " ('Add a comment', 60),\n",
       " ('Travel', 11),\n",
       " ('Thriller', 11),\n",
       " ('Fiction', 60),\n",
       " ('Young Adult', 50),\n",
       " ('Poetry', 18),\n",
       " ('History', 16),\n",
       " ('Childrens', 28),\n",
       " ('Default', 144),\n",
       " ('Science Fiction', 14),\n",
       " ('Food and Drink', 28)]"
      ]
     },
     "execution_count": 56,
     "metadata": {},
     "output_type": "execute_result"
    }
   ],
   "source": [
    "#16) Write a sql query to calculate how many books each category has having count > 10.\n",
    "sql = \"SELECT Categories.Cat_Name, Book_Count FROM Categories INNER JOIN (SELECT * FROM (SELECT Cat_ID AS Categ_ID, COUNT(Book_Name) AS Book_Count FROM Books GROUP BY Cat_ID) WHERE Book_Count > 10) ON Categories.Cat_ID = Categ_ID\"\n",
    "\n",
    "# \"SELECT Categories.Cat_Name, Book_Count FROM Categories INNER JOIN \n",
    "#     (SELECT * FROM \n",
    "#         (SELECT Cat_ID AS Categ_ID, COUNT(Book_Name) AS Book_Count \n",
    "#         FROM Books GROUP BY Cat_ID) \n",
    "#     WHERE Book_Count > 10) \n",
    "# ON Categories.Cat_ID = Categ_ID\"\n",
    "\n",
    "cursor.execute(sql)\n",
    "cursor.fetchall()"
   ]
  },
  {
   "cell_type": "code",
   "execution_count": 60,
   "id": "837a0d6a",
   "metadata": {},
   "outputs": [
    {
     "data": {
      "text/plain": [
       "[('Rip it Up and Start Again',),\n",
       " ('Our Band Could Be Your Life: Scenes from the American Indie Underground, 1981-1991',),\n",
       " ('How Music Works',),\n",
       " ('Love Is a Mix Tape (Music #1)',),\n",
       " ('Please Kill Me: The Uncensored Oral History of Punk',),\n",
       " (\"Kill 'Em and Leave: Searching for James Brown and the American Soul\",),\n",
       " ('This Is Your Brain on Music: The Science of a Human Obsession',),\n",
       " ('Orchestra of Exiles: The Story of Bronislaw Huberman, the Israel Philharmonic, and the One Thousand Jews He Saved from Nazi Horrors',),\n",
       " ('No One Here Gets Out Alive',),\n",
       " ('Life',),\n",
       " ('Forever Rockers (The Rocker #12)',)]"
      ]
     },
     "execution_count": 60,
     "metadata": {},
     "output_type": "execute_result"
    }
   ],
   "source": [
    "#17) Write a sql query to get all books with category_name='Music' using subquery.\n",
    "sql = \"SELECT Books.Book_Name FROM Books INNER JOIN (SELECT Cat_ID AS Categ_ID FROM Categories WHERE Cat_Name = 'Music') ON Categ_ID = Books.Cat_ID\"\n",
    "\n",
    "# \"SELECT Books.Book_Name FROM Books INNER JOIN \n",
    "#     (SELECT Cat_ID AS Categ_ID FROM Categories WHERE Cat_Name = 'Music')\n",
    "# ON Categ_ID = Books.Cat_ID\"\n",
    "\n",
    "cursor.execute(sql)\n",
    "cursor.fetchall()"
   ]
  }
 ],
 "metadata": {
  "kernelspec": {
   "display_name": "Python 3",
   "language": "python",
   "name": "python3"
  },
  "language_info": {
   "codemirror_mode": {
    "name": "ipython",
    "version": 3
   },
   "file_extension": ".py",
   "mimetype": "text/x-python",
   "name": "python",
   "nbconvert_exporter": "python",
   "pygments_lexer": "ipython3",
   "version": "3.8.8"
  }
 },
 "nbformat": 4,
 "nbformat_minor": 5
}
