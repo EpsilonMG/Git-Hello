{
 "cells": [
  {
   "cell_type": "markdown",
   "id": "ce777cb8",
   "metadata": {},
   "source": [
    "### calculating Mean, Median and Mode without using a library"
   ]
  },
  {
   "cell_type": "code",
   "execution_count": 1,
   "id": "d9f98b1b",
   "metadata": {},
   "outputs": [],
   "source": [
    "def calc_mean(my_list):\n",
    "    sum = 0\n",
    "    for i in my_list:\n",
    "        sum += i \n",
    "    return sum/float(len(my_list))\n",
    "\n",
    "def bubble_sort(array):\n",
    "    n = len(array)\n",
    "    for i in range(n):\n",
    "        already_sorted = True\n",
    "        for j in range(n - i - 1):\n",
    "            if array[j] > array[j + 1]:\n",
    "                array[j], array[j + 1] = array[j + 1], array[j]\n",
    "                already_sorted = False\n",
    "        if already_sorted:\n",
    "            break\n",
    "    return array\n",
    "    \n",
    "def calc_median(my_list):\n",
    "    sorted_list = bubble_sort(my_list)\n",
    "    if len(sorted_list) % 2 == 0:\n",
    "        return (sorted_list[int(len(sorted_list) / 2) - 1] + sorted_list[int(len(sorted_list) / 2)]) / 2\n",
    "    else: return sorted_list[len(sorted_list) / 2]\n",
    "\n",
    "def calc_mode(my_list):\n",
    "    \n",
    "    sorted_list = bubble_sort(my_list)\n",
    "    my_set = set(sorted_list)\n",
    "    my_set = list(my_set)\n",
    "    count = []\n",
    "    for i in my_set:\n",
    "        count.append(int(sorted_list.count(i)))\n",
    "    return my_set[count.index(max(count))]\n",
    "    \n",
    "\n",
    "\n",
    "        \n",
    "    \n",
    "\n"
   ]
  },
  {
   "cell_type": "code",
   "execution_count": 2,
   "id": "06e92fff",
   "metadata": {},
   "outputs": [
    {
     "name": "stdout",
     "output_type": "stream",
     "text": [
      "mean:  25.75\n",
      "median:  6.0\n",
      "mode:  3\n"
     ]
    }
   ],
   "source": [
    "my_list = [1,3,55,66,3,66,3,9]\n",
    "print('mean: ',calc_mean(my_list))\n",
    "print('median: ',calc_median(my_list))\n",
    "print('mode: ',calc_mode(my_list))"
   ]
  },
  {
   "cell_type": "code",
   "execution_count": 3,
   "id": "4bf29643",
   "metadata": {},
   "outputs": [
    {
     "name": "stdout",
     "output_type": "stream",
     "text": [
      "mean:  16.75\n",
      "median:  15.5\n",
      "mode:  13\n"
     ]
    }
   ],
   "source": [
    "my_list = [9, 10, 12, 13, 13, 13, 15, 15, 16, 16, 18, 22, 23, 24, 24, 25]\n",
    "print('mean: ',calc_mean(my_list))\n",
    "print('median: ',calc_median(my_list))\n",
    "print('mode: ',calc_mode(my_list))"
   ]
  },
  {
   "cell_type": "code",
   "execution_count": null,
   "id": "9363b6d8",
   "metadata": {},
   "outputs": [],
   "source": []
  }
 ],
 "metadata": {
  "kernelspec": {
   "display_name": "Python 3",
   "language": "python",
   "name": "python3"
  },
  "language_info": {
   "codemirror_mode": {
    "name": "ipython",
    "version": 3
   },
   "file_extension": ".py",
   "mimetype": "text/x-python",
   "name": "python",
   "nbconvert_exporter": "python",
   "pygments_lexer": "ipython3",
   "version": "3.8.8"
  }
 },
 "nbformat": 4,
 "nbformat_minor": 5
}
