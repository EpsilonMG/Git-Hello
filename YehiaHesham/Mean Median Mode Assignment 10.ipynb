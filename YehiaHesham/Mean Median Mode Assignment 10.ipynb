{
 "cells": [
  {
   "cell_type": "markdown",
   "id": "ce777cb8",
   "metadata": {},
   "source": [
    "### calculating Mean, Median and Mode without using a library"
   ]
  },
  {
   "cell_type": "code",
   "execution_count": 28,
   "id": "d9f98b1b",
   "metadata": {},
   "outputs": [],
   "source": [
    "def calc_mean(my_list):\n",
    "    sum = 0\n",
    "    for i in my_list:\n",
    "        sum += i \n",
    "    return sum/float(len(my_list)) \n",
    "\n",
    "def bubble_sort(my_list):\n",
    "    for j in range(len(my_list)):\n",
    "        swapped = False\n",
    "        i = 0\n",
    "        while i<len(my_list)-1:\n",
    "            \n",
    "            if my_list[i]>my_list[i+1]:\n",
    "                my_list[i],my_list[i+1] = my_list[i+1],my_list[i]  #switching values\n",
    "                swapped = True\n",
    "            i = i+1\n",
    "        if swapped == False:\n",
    "            return my_list\n",
    "    \n",
    "def calc_median(my_list):\n",
    "    sorted_list = bubble_sort(my_list)\n",
    "    if len(sorted_list) % 2 == 0:\n",
    "        return (sorted_list[int(len(sorted_list) / 2) - 1] + sorted_list[int(len(sorted_list) / 2)]) / 2 #return average of middle 2 values\n",
    "    else: return sorted_list[len(sorted_list) / 2]\n",
    "\n",
    "def calc_mode(my_list):\n",
    "    sorted_list = bubble_sort(my_list)\n",
    "    my_set = set(sorted_list)\n",
    "    my_set = list(my_set)\n",
    "    count = []\n",
    "    for i in my_set:\n",
    "        count.append(int(sorted_list.count(i)))  #appends count of each unique element to count[]\n",
    "    return my_set[count.index(max(count))]       #return valune in my_set with the index of the largest value in count[]\n",
    "    \n",
    "\n",
    "\n",
    "        \n",
    "    \n",
    "\n"
   ]
  },
  {
   "cell_type": "code",
   "execution_count": 29,
   "id": "06e92fff",
   "metadata": {},
   "outputs": [
    {
     "name": "stdout",
     "output_type": "stream",
     "text": [
      "mean:  25.75\n",
      "median:  6.0\n",
      "mode:  3\n"
     ]
    }
   ],
   "source": [
    "my_list = [1,3,55,66,3,66,3,9]\n",
    "print('mean: ',calc_mean(my_list))\n",
    "print('median: ',calc_median(my_list))\n",
    "print('mode: ',calc_mode(my_list))"
   ]
  },
  {
   "cell_type": "code",
   "execution_count": 30,
   "id": "4bf29643",
   "metadata": {},
   "outputs": [
    {
     "name": "stdout",
     "output_type": "stream",
     "text": [
      "mean:  17.45\n",
      "median:  18.5\n",
      "mode:  27\n"
     ]
    }
   ],
   "source": [
    "my_list = [30, 17, 7, 27, 16, 14, 25, 20, 13, 2, 4, 20, 27, 21, 17, 25, 21, 6, 27, 10]\n",
    "print('mean: ',calc_mean(my_list))\n",
    "print('median: ',calc_median(my_list))\n",
    "print('mode: ',calc_mode(my_list))"
   ]
  }
 ],
 "metadata": {
  "kernelspec": {
   "display_name": "Python 3",
   "language": "python",
   "name": "python3"
  },
  "language_info": {
   "codemirror_mode": {
    "name": "ipython",
    "version": 3
   },
   "file_extension": ".py",
   "mimetype": "text/x-python",
   "name": "python",
   "nbconvert_exporter": "python",
   "pygments_lexer": "ipython3",
   "version": "3.8.8"
  }
 },
 "nbformat": 4,
 "nbformat_minor": 5
}
