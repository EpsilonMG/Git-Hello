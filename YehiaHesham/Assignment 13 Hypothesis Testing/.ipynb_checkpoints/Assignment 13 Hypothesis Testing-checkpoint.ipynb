{
 "cells": [
  {
   "cell_type": "code",
   "execution_count": 2,
   "id": "956bb4c7",
   "metadata": {},
   "outputs": [],
   "source": [
    "import pandas as pd\n",
    "import numpy as np\n",
    "import matplotlib.pyplot as plt"
   ]
  },
  {
   "cell_type": "code",
   "execution_count": 3,
   "id": "50bfa013",
   "metadata": {},
   "outputs": [],
   "source": [
    "data = pd.read_csv(\"Assignment_13_course_page_actions.csv\")"
   ]
  },
  {
   "cell_type": "code",
   "execution_count": 4,
   "id": "91d908bf",
   "metadata": {},
   "outputs": [
    {
     "data": {
      "text/html": [
       "<div>\n",
       "<style scoped>\n",
       "    .dataframe tbody tr th:only-of-type {\n",
       "        vertical-align: middle;\n",
       "    }\n",
       "\n",
       "    .dataframe tbody tr th {\n",
       "        vertical-align: top;\n",
       "    }\n",
       "\n",
       "    .dataframe thead th {\n",
       "        text-align: right;\n",
       "    }\n",
       "</style>\n",
       "<table border=\"1\" class=\"dataframe\">\n",
       "  <thead>\n",
       "    <tr style=\"text-align: right;\">\n",
       "      <th></th>\n",
       "      <th>timestamp</th>\n",
       "      <th>id</th>\n",
       "      <th>group</th>\n",
       "      <th>action</th>\n",
       "      <th>duration</th>\n",
       "    </tr>\n",
       "  </thead>\n",
       "  <tbody>\n",
       "    <tr>\n",
       "      <th>0</th>\n",
       "      <td>2016-09-24 17:14:52.012145</td>\n",
       "      <td>261869</td>\n",
       "      <td>experiment</td>\n",
       "      <td>view</td>\n",
       "      <td>130.545004</td>\n",
       "    </tr>\n",
       "    <tr>\n",
       "      <th>1</th>\n",
       "      <td>2016-09-24 18:45:09.645857</td>\n",
       "      <td>226546</td>\n",
       "      <td>experiment</td>\n",
       "      <td>view</td>\n",
       "      <td>159.862440</td>\n",
       "    </tr>\n",
       "    <tr>\n",
       "      <th>2</th>\n",
       "      <td>2016-09-24 19:16:21.002533</td>\n",
       "      <td>286353</td>\n",
       "      <td>experiment</td>\n",
       "      <td>view</td>\n",
       "      <td>79.349315</td>\n",
       "    </tr>\n",
       "    <tr>\n",
       "      <th>3</th>\n",
       "      <td>2016-09-24 19:43:06.927785</td>\n",
       "      <td>842279</td>\n",
       "      <td>experiment</td>\n",
       "      <td>view</td>\n",
       "      <td>55.536126</td>\n",
       "    </tr>\n",
       "    <tr>\n",
       "      <th>4</th>\n",
       "      <td>2016-09-24 21:08:22.790333</td>\n",
       "      <td>781883</td>\n",
       "      <td>experiment</td>\n",
       "      <td>view</td>\n",
       "      <td>204.322437</td>\n",
       "    </tr>\n",
       "  </tbody>\n",
       "</table>\n",
       "</div>"
      ],
      "text/plain": [
       "                    timestamp      id       group action    duration\n",
       "0  2016-09-24 17:14:52.012145  261869  experiment   view  130.545004\n",
       "1  2016-09-24 18:45:09.645857  226546  experiment   view  159.862440\n",
       "2  2016-09-24 19:16:21.002533  286353  experiment   view   79.349315\n",
       "3  2016-09-24 19:43:06.927785  842279  experiment   view   55.536126\n",
       "4  2016-09-24 21:08:22.790333  781883  experiment   view  204.322437"
      ]
     },
     "execution_count": 4,
     "metadata": {},
     "output_type": "execute_result"
    }
   ],
   "source": [
    "data.head()"
   ]
  },
  {
   "cell_type": "code",
   "execution_count": 5,
   "id": "fa338aba",
   "metadata": {},
   "outputs": [
    {
     "data": {
      "text/html": [
       "<div>\n",
       "<style scoped>\n",
       "    .dataframe tbody tr th:only-of-type {\n",
       "        vertical-align: middle;\n",
       "    }\n",
       "\n",
       "    .dataframe tbody tr th {\n",
       "        vertical-align: top;\n",
       "    }\n",
       "\n",
       "    .dataframe thead th {\n",
       "        text-align: right;\n",
       "    }\n",
       "</style>\n",
       "<table border=\"1\" class=\"dataframe\">\n",
       "  <thead>\n",
       "    <tr style=\"text-align: right;\">\n",
       "      <th></th>\n",
       "      <th>id</th>\n",
       "      <th>duration</th>\n",
       "    </tr>\n",
       "  </thead>\n",
       "  <tbody>\n",
       "    <tr>\n",
       "      <th>count</th>\n",
       "      <td>4069.000000</td>\n",
       "      <td>4044.000000</td>\n",
       "    </tr>\n",
       "    <tr>\n",
       "      <th>mean</th>\n",
       "      <td>564034.836078</td>\n",
       "      <td>123.456099</td>\n",
       "    </tr>\n",
       "    <tr>\n",
       "      <th>std</th>\n",
       "      <td>216482.476216</td>\n",
       "      <td>72.555067</td>\n",
       "    </tr>\n",
       "    <tr>\n",
       "      <th>min</th>\n",
       "      <td>182960.000000</td>\n",
       "      <td>0.013856</td>\n",
       "    </tr>\n",
       "    <tr>\n",
       "      <th>25%</th>\n",
       "      <td>379491.000000</td>\n",
       "      <td>67.080495</td>\n",
       "    </tr>\n",
       "    <tr>\n",
       "      <th>50%</th>\n",
       "      <td>564371.000000</td>\n",
       "      <td>118.606091</td>\n",
       "    </tr>\n",
       "    <tr>\n",
       "      <th>75%</th>\n",
       "      <td>753380.000000</td>\n",
       "      <td>172.640774</td>\n",
       "    </tr>\n",
       "    <tr>\n",
       "      <th>max</th>\n",
       "      <td>937292.000000</td>\n",
       "      <td>421.567520</td>\n",
       "    </tr>\n",
       "  </tbody>\n",
       "</table>\n",
       "</div>"
      ],
      "text/plain": [
       "                  id     duration\n",
       "count    4069.000000  4044.000000\n",
       "mean   564034.836078   123.456099\n",
       "std    216482.476216    72.555067\n",
       "min    182960.000000     0.013856\n",
       "25%    379491.000000    67.080495\n",
       "50%    564371.000000   118.606091\n",
       "75%    753380.000000   172.640774\n",
       "max    937292.000000   421.567520"
      ]
     },
     "execution_count": 5,
     "metadata": {},
     "output_type": "execute_result"
    }
   ],
   "source": [
    "data.describe()"
   ]
  },
  {
   "cell_type": "markdown",
   "id": "d0c66b6b",
   "metadata": {},
   "source": [
    "## 1) Make initial assumption ##\n",
    "### Null Hypothesis: average Experiment duration is bigger than or equal average Control duration ###\n",
    "### Null Hypothesis: mean(exp_dur) - mean(ctrl_dur) <= 0 ###\n",
    "\n",
    "### Alternative Hypothesis: average Experiment duration is smaller than the average control duration ###\n",
    "### Alternative Hypothesis: mean(exp_dur) - mean(ctrl_dur) > 0 ###\n"
   ]
  },
  {
   "cell_type": "markdown",
   "id": "c45ae290",
   "metadata": {},
   "source": [
    "## 2)Gather Data ##"
   ]
  },
  {
   "cell_type": "markdown",
   "id": "af8fe659",
   "metadata": {},
   "source": [
    "### Group 'experiment' average duration ###"
   ]
  },
  {
   "cell_type": "code",
   "execution_count": 55,
   "id": "eb6f098d",
   "metadata": {},
   "outputs": [
    {
     "name": "stdout",
     "output_type": "stream",
     "text": [
      "Mean:  130.9441601154441\n"
     ]
    },
    {
     "data": {
      "text/plain": [
       "0       130.545004\n",
       "1       159.862440\n",
       "2        79.349315\n",
       "3        55.536126\n",
       "4       204.322437\n",
       "           ...    \n",
       "4060    160.567579\n",
       "4063    119.939132\n",
       "4065    101.231821\n",
       "4067    149.026959\n",
       "4068     62.039341\n",
       "Name: duration, Length: 2095, dtype: float64"
      ]
     },
     "execution_count": 55,
     "metadata": {},
     "output_type": "execute_result"
    }
   ],
   "source": [
    "#collecting the data and output its mean\n",
    "avg_experiment = data.query(\"group == 'experiment'\")['duration']\n",
    "print(\"Mean: \", avg_experiment.mean())\n",
    "avg_experiment"
   ]
  },
  {
   "cell_type": "code",
   "execution_count": 56,
   "id": "084b79ca",
   "metadata": {},
   "outputs": [
    {
     "data": {
      "text/plain": [
       "(array([270., 342., 435., 418., 312., 193.,  89.,  29.,   6.,   1.]),\n",
       " array([1.85470983e-01, 4.23236759e+01, 8.44618808e+01, 1.26600086e+02,\n",
       "        1.68738291e+02, 2.10876495e+02, 2.53014700e+02, 2.95152905e+02,\n",
       "        3.37291110e+02, 3.79429315e+02, 4.21567520e+02]),\n",
       " <BarContainer object of 10 artists>)"
      ]
     },
     "execution_count": 56,
     "metadata": {},
     "output_type": "execute_result"
    },
    {
     "data": {
      "image/png": "[encoded data removed]",
      "text/plain": [
       "<Figure size 432x288 with 1 Axes>"
      ]
     },
     "metadata": {
      "needs_background": "light"
     },
     "output_type": "display_data"
    }
   ],
   "source": [
    "#data is not in a normal distribution form\n",
    "plt.hist(avg_experiment)"
   ]
  },
  {
   "cell_type": "code",
   "execution_count": 57,
   "id": "602d80e7",
   "metadata": {},
   "outputs": [
    {
     "data": {
      "text/plain": [
       "(array([  20.,  104.,  401., 1125., 1640., 1503.,  823.,  319.,   57.,\n",
       "           8.]),\n",
       " array([104.98223274, 110.30791595, 115.63359915, 120.95928236,\n",
       "        126.28496557, 131.61064877, 136.93633198, 142.26201519,\n",
       "        147.58769839, 152.9133816 , 158.23906481]),\n",
       " <BarContainer object of 10 artists>)"
      ]
     },
     "execution_count": 57,
     "metadata": {},
     "output_type": "execute_result"
    },
    {
     "data": {
      "image/png": "[encoded data removed]",
      "text/plain": [
       "<Figure size 432x288 with 1 Axes>"
      ]
     },
     "metadata": {
      "needs_background": "light"
     },
     "output_type": "display_data"
    }
   ],
   "source": [
    "#creating a population of the data with a normal distribution \n",
    "experiment_means = []\n",
    "for _ in range(6000):\n",
    "    sample1 = avg_experiment.sample(100,replace = True)\n",
    "    experiment_means.append(sample1.mean())\n",
    "plt.hist(experiment_means)"
   ]
  },
  {
   "cell_type": "markdown",
   "id": "af3d3105",
   "metadata": {},
   "source": [
    "### Group 'control' average duration ###"
   ]
  },
  {
   "cell_type": "code",
   "execution_count": 58,
   "id": "1ace54a0",
   "metadata": {},
   "outputs": [
    {
     "name": "stdout",
     "output_type": "stream",
     "text": [
      "Mean:  115.40710650582038\n"
     ]
    },
    {
     "data": {
      "text/plain": [
       "6       302.951552\n",
       "7              NaN\n",
       "9        61.234458\n",
       "11      124.823065\n",
       "15      326.025765\n",
       "           ...    \n",
       "4058    124.298489\n",
       "4061    110.801373\n",
       "4062    131.677707\n",
       "4064     58.846204\n",
       "4066    293.490566\n",
       "Name: duration, Length: 1974, dtype: float64"
      ]
     },
     "execution_count": 58,
     "metadata": {},
     "output_type": "execute_result"
    }
   ],
   "source": [
    "avg_control = data.query(\"group == 'control'\")['duration']\n",
    "print(\"Mean: \", avg_control.mean())\n",
    "avg_control"
   ]
  },
  {
   "cell_type": "code",
   "execution_count": 59,
   "id": "25d6848b",
   "metadata": {},
   "outputs": [
    {
     "data": {
      "text/plain": [
       "(array([293., 292., 353., 352., 283., 180., 114.,  59.,  18.,   5.]),\n",
       " array([1.38556666e-02, 3.55297449e+01, 7.10456342e+01, 1.06561523e+02,\n",
       "        1.42077413e+02, 1.77593302e+02, 2.13109191e+02, 2.48625081e+02,\n",
       "        2.84140970e+02, 3.19656859e+02, 3.55172748e+02]),\n",
       " <BarContainer object of 10 artists>)"
      ]
     },
     "execution_count": 59,
     "metadata": {},
     "output_type": "execute_result"
    },
    {
     "data": {
      "image/png": "[encoded data removed]",
      "text/plain": [
       "<Figure size 432x288 with 1 Axes>"
      ]
     },
     "metadata": {
      "needs_background": "light"
     },
     "output_type": "display_data"
    }
   ],
   "source": [
    "#data is not in a normal distribution form\n",
    "plt.hist(avg_control)"
   ]
  },
  {
   "cell_type": "code",
   "execution_count": 60,
   "id": "e20e09fd",
   "metadata": {},
   "outputs": [
    {
     "data": {
      "text/plain": [
       "(array([2.200e+01, 1.670e+02, 7.070e+02, 1.607e+03, 1.853e+03, 1.168e+03,\n",
       "        3.990e+02, 6.300e+01, 1.300e+01, 1.000e+00]),\n",
       " array([ 90.52169283,  96.3092253 , 102.09675777, 107.88429025,\n",
       "        113.67182272, 119.45935519, 125.24688766, 131.03442014,\n",
       "        136.82195261, 142.60948508, 148.39701755]),\n",
       " <BarContainer object of 10 artists>)"
      ]
     },
     "execution_count": 60,
     "metadata": {},
     "output_type": "execute_result"
    },
    {
     "data": {
      "image/png": "[encoded data removed]",
      "text/plain": [
       "<Figure size 432x288 with 1 Axes>"
      ]
     },
     "metadata": {
      "needs_background": "light"
     },
     "output_type": "display_data"
    }
   ],
   "source": [
    "#creating a population of the data with a normal distribution \n",
    "control_means = []\n",
    "for _ in range(6000):\n",
    "    sample2 = avg_control.sample(100,replace = True)\n",
    "    control_means.append(sample2.mean())\n",
    "plt.hist(control_means)"
   ]
  },
  {
   "cell_type": "markdown",
   "id": "e57cba87",
   "metadata": {},
   "source": [
    "## 2.1)Calculate Observed value (current values,difference between two) ##"
   ]
  },
  {
   "cell_type": "code",
   "execution_count": 61,
   "id": "6c57d84f",
   "metadata": {},
   "outputs": [
    {
     "data": {
      "text/plain": [
       "15.537053609623726"
      ]
     },
     "execution_count": 61,
     "metadata": {},
     "output_type": "execute_result"
    }
   ],
   "source": [
    "#the observable difference in one instance (on the whole population)\n",
    "observed_difference = data.query(\"group == 'experiment'\")['duration'].mean() - data.query(\"group == 'control'\")['duration'].mean() \n",
    "observed_difference"
   ]
  },
  {
   "cell_type": "code",
   "execution_count": 62,
   "id": "9fb030c5",
   "metadata": {},
   "outputs": [],
   "source": [
    "#creating a population of the difference by re-running the experiment over and over again\n",
    "difference = []\n",
    "for _ in range(4000):\n",
    "    sample = data.sample(100, replace = True)\n",
    "    sample_mean_diff = sample.query(\"group == 'experiment'\")['duration'].mean() - sample.query(\"group == 'control'\")['duration'].mean()\n",
    "    difference.append(sample_mean_diff)\n"
   ]
  },
  {
   "cell_type": "code",
   "execution_count": 64,
   "id": "1b6ea284",
   "metadata": {},
   "outputs": [
    {
     "name": "stdout",
     "output_type": "stream",
     "text": [
      "Mean:  15.44908952736705\n"
     ]
    },
    {
     "data": {
      "text/plain": [
       "[-0.3384473545715565,\n",
       " 26.458814684558774,\n",
       " 7.578917331443122,\n",
       " 29.410019873125123,\n",
       " -7.152416742138016,\n",
       " 24.032316674083162,\n",
       " 26.851877126461346,\n",
       " 20.972812294481813,\n",
       " 25.831161723404108,\n",
       " 25.063875143067875,\n",
       " 6.867143742361648,\n",
       " 5.906323525984206,\n",
       " 7.426837698213561,\n",
       " 42.75878529036429,\n",
       " 35.279974282074875,\n",
       " 0.8320917790560571,\n",
       " 33.92000271596858,\n",
       " 1.3152575438357843,\n",
       " 18.664058476976635,\n",
       " 6.4383552585192945]"
      ]
     },
     "execution_count": 64,
     "metadata": {},
     "output_type": "execute_result"
    }
   ],
   "source": [
    "#population and it's mean\n",
    "print(\"Mean: \",np.array(difference).mean())\n",
    "difference[:20]"
   ]
  },
  {
   "cell_type": "code",
   "execution_count": 65,
   "id": "eece3b86",
   "metadata": {},
   "outputs": [
    {
     "data": {
      "text/plain": [
       "(array([   3.,   47.,  230.,  648., 1083., 1088.,  652.,  206.,   39.,\n",
       "           4.]),\n",
       " array([-39.00120119, -28.08210825, -17.16301532,  -6.24392239,\n",
       "          4.67517055,  15.59426348,  26.51335641,  37.43244935,\n",
       "         48.35154228,  59.27063522,  70.18972815]),\n",
       " <BarContainer object of 10 artists>)"
      ]
     },
     "execution_count": 65,
     "metadata": {},
     "output_type": "execute_result"
    },
    {
     "data": {
      "image/png": "[encoded data removed]",
      "text/plain": [
       "<Figure size 432x288 with 1 Axes>"
      ]
     },
     "metadata": {
      "needs_background": "light"
     },
     "output_type": "display_data"
    }
   ],
   "source": [
    "#the observable difference's population is a normal distribution (Law)\n",
    "plt.hist(difference)"
   ]
  },
  {
   "cell_type": "markdown",
   "id": "7866f1fb",
   "metadata": {},
   "source": [
    "## 2.2)Calculate The Null Hypothesis (Normal curve, average difference is 0) ##"
   ]
  },
  {
   "cell_type": "code",
   "execution_count": 66,
   "id": "09a93d81",
   "metadata": {
    "scrolled": true
   },
   "outputs": [
    {
     "data": {
      "text/plain": [
       "(array([  12.,   59.,  250.,  659., 1012., 1035.,  661.,  248.,   54.,\n",
       "          10.]),\n",
       " array([-50.5859926 , -40.42746433, -30.26893605, -20.11040777,\n",
       "         -9.95187949,   0.20664879,  10.36517707,  20.52370535,\n",
       "         30.68223363,  40.84076191,  50.99929019]),\n",
       " <BarContainer object of 10 artists>)"
      ]
     },
     "execution_count": 66,
     "metadata": {},
     "output_type": "execute_result"
    },
    {
     "data": {
      "image/png": "[encoded data removed]",
      "text/plain": [
       "<Figure size 432x288 with 1 Axes>"
      ]
     },
     "metadata": {
      "needs_background": "light"
     },
     "output_type": "display_data"
    }
   ],
   "source": [
    "diff = np.array(difference)\n",
    "normal = np.random.normal(0,diff.std(),diff.size)   #(center,standard deviation,size)\n",
    "plt.hist(normal)"
   ]
  },
  {
   "cell_type": "markdown",
   "id": "6204fe16",
   "metadata": {},
   "source": [
    "## Plotting the Null hypothesis mean ( = 0) on the difference population distribution ##"
   ]
  },
  {
   "cell_type": "code",
   "execution_count": 67,
   "id": "54d627cb",
   "metadata": {},
   "outputs": [
    {
     "data": {
      "text/plain": [
       "<matplotlib.lines.Line2D at 0x26d018883a0>"
      ]
     },
     "execution_count": 67,
     "metadata": {},
     "output_type": "execute_result"
    },
    {
     "data": {
      "image/png": "[encoded data removed]",
      "text/plain": [
       "<Figure size 432x288 with 1 Axes>"
      ]
     },
     "metadata": {
      "needs_background": "light"
     },
     "output_type": "display_data"
    }
   ],
   "source": [
    "plt.hist(normal)\n",
    "plt.axvline(x = observed_difference, c = \"red\")"
   ]
  },
  {
   "cell_type": "markdown",
   "id": "ee61e804",
   "metadata": {},
   "source": [
    "## 2.3)Calucating the P value ##"
   ]
  },
  {
   "cell_type": "markdown",
   "id": "9ab44f22",
   "metadata": {},
   "source": [
    "## P value: probability of the Null hypothesis is Right/Wrong ##\n",
    "### P < 5% or 0.05 ==> the Null hypothesis is wrong, adopt the alternative hypothesis ###\n",
    "### P >= 5% or 0.05 ==> the Null hypothesis is right, keep current state ###"
   ]
  },
  {
   "cell_type": "code",
   "execution_count": 68,
   "id": "5a11e971",
   "metadata": {},
   "outputs": [
    {
     "data": {
      "text/plain": [
       "0.8625"
      ]
     },
     "execution_count": 68,
     "metadata": {},
     "output_type": "execute_result"
    }
   ],
   "source": [
    "p_value = (observed_difference>normal).mean()\n",
    "p_value"
   ]
  },
  {
   "cell_type": "markdown",
   "id": "7d1fec60",
   "metadata": {},
   "source": [
    "# === Conclution, Null hypothesis is right, keep current state === #"
   ]
  }
 ],
 "metadata": {
  "kernelspec": {
   "display_name": "Python 3",
   "language": "python",
   "name": "python3"
  },
  "language_info": {
   "codemirror_mode": {
    "name": "ipython",
    "version": 3
   },
   "file_extension": ".py",
   "mimetype": "text/x-python",
   "name": "python",
   "nbconvert_exporter": "python",
   "pygments_lexer": "ipython3",
   "version": "3.8.8"
  }
 },
 "nbformat": 4,
 "nbformat_minor": 5
}
