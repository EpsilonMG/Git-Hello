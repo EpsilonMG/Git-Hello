{
 "cells": [
  {
   "cell_type": "code",
   "execution_count": 3,
   "id": "9a93eb6a",
   "metadata": {},
   "outputs": [
    {
     "name": "stdout",
     "output_type": "stream",
     "text": [
      "hello world \n",
      "hello world \n",
      "hello world \n",
      "hello world \n",
      "hello world \n",
      "\n"
     ]
    }
   ],
   "source": [
    "#1- Open a file, name it 'test.txt' and write 'hello world' for 5 times in it then close it.\n",
    "file = open('test.txt','w+')\n",
    "for i in range(0,5):\n",
    "    file.write(\"hello world \\n\")\n",
    "    \n",
    "file.seek(0)\n",
    "print(file.read())\n",
    "file.close()"
   ]
  },
  {
   "cell_type": "code",
   "execution_count": 5,
   "id": "4c8da071",
   "metadata": {},
   "outputs": [
    {
     "name": "stdout",
     "output_type": "stream",
     "text": [
      "HELLO WORLD \n",
      "HELLO WORLD \n",
      "HELLO WORLD \n",
      "HELLO WORLD \n",
      "HELLO WORLD \n",
      "\n"
     ]
    }
   ],
   "source": [
    "#2- Read the contents of the file, then make content in uppercase then write the result again to the file.\n",
    "file = open('test.txt','r+')\n",
    "string = file.read()\n",
    "string = string.upper()\n",
    "file.seek(0)\n",
    "file.write(string)\n",
    "\n",
    "file.seek(0)\n",
    "print(file.read())\n",
    "file.close()\n",
    "\n",
    "#file.wriite(string.upper())\n"
   ]
  },
  {
   "cell_type": "code",
   "execution_count": 67,
   "id": "a4e0b440",
   "metadata": {},
   "outputs": [
    {
     "name": "stdout",
     "output_type": "stream",
     "text": [
      "HELLO WORLD \n",
      "HELLO WORLD \n",
      "Hello world \n",
      "HELLO WORLD \n",
      "HELLO WORLD \n",
      "\n"
     ]
    }
   ],
   "source": [
    "#3- Read the third line of the file then update it to its capital case using capitalize.\n",
    "file = open('test.txt','r+')\n",
    "filelist = file.readlines()\n",
    "filelist[2] = filelist[2].capitalize()\n",
    "#print(filelist)\n",
    "file.seek(0)\n",
    "file.writelines(filelist)\n",
    "\n",
    "file.seek(0)\n",
    "print(file.read())\n",
    "file.close()"
   ]
  },
  {
   "cell_type": "code",
   "execution_count": 68,
   "id": "3ebb1fa5",
   "metadata": {},
   "outputs": [
    {
     "name": "stdout",
     "output_type": "stream",
     "text": [
      "HELLO WORLD \n",
      "HELLO WORLD \n",
      "Hello world \n",
      "HELLO WORLD \n",
      "HELLO WORLD \n",
      "I Love Python \n",
      "\n"
     ]
    }
   ],
   "source": [
    "#4- Using With Statement open this file and append 'I Love python' to it.\n",
    "\n",
    "with open('test.txt','a') as file:\n",
    "    file.write(\"I Love Python \\n\")\n",
    "    \n",
    "with open('test.txt','r') as file:\n",
    "    print(file.read())"
   ]
  },
  {
   "cell_type": "code",
   "execution_count": null,
   "id": "0da2aed2",
   "metadata": {},
   "outputs": [],
   "source": []
  }
 ],
 "metadata": {
  "kernelspec": {
   "display_name": "Python 3",
   "language": "python",
   "name": "python3"
  },
  "language_info": {
   "codemirror_mode": {
    "name": "ipython",
    "version": 3
   },
   "file_extension": ".py",
   "mimetype": "text/x-python",
   "name": "python",
   "nbconvert_exporter": "python",
   "pygments_lexer": "ipython3",
   "version": "3.8.8"
  }
 },
 "nbformat": 4,
 "nbformat_minor": 5
}
