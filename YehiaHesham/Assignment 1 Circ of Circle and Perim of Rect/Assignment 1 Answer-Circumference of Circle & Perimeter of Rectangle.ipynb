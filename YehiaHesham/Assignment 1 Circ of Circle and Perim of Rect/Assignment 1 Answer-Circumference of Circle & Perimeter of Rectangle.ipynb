{
 "cells": [
  {
   "cell_type": "markdown",
   "metadata": {},
   "source": [
    "# Code for circle circumference"
   ]
  },
  {
   "cell_type": "code",
   "execution_count": 1,
   "metadata": {},
   "outputs": [
    {
     "name": "stdout",
     "output_type": "stream",
     "text": [
      "Enter your radius: 10\n"
     ]
    },
    {
     "data": {
      "text/plain": [
       "'The circumference is: 62.800000000000004 M'"
      ]
     },
     "execution_count": 1,
     "metadata": {},
     "output_type": "execute_result"
    }
   ],
   "source": [
    "# Input\n",
    "radius = int(input('Enter your radius: '))\n",
    "\n",
    "# Process\n",
    "circumference_of_circle = 2 * 3.14 * radius\n",
    "\n",
    "\n",
    "# Output\n",
    "print('The circumference is: ' + str(circumference_of_circle) + ' M')"
   ]
  },
  {
   "cell_type": "markdown",
   "metadata": {},
   "source": [
    "# Code for rectangle perimeter"
   ]
  },
  {
   "cell_type": "code",
   "execution_count": 2,
   "metadata": {},
   "outputs": [
    {
     "name": "stdout",
     "output_type": "stream",
     "text": [
      "Enter your width: 10\n",
      "Enter your height: 20\n",
      "The perimeter is: 60 M\n"
     ]
    }
   ],
   "source": [
    "# Input\n",
    "width = int(input('Enter your width: '))\n",
    "height = int(input('Enter your height: '))\n",
    "\n",
    "\n",
    "# Process\n",
    "perimeter_of_rectangle = 2 * (width + height)\n",
    "\n",
    "\n",
    "# Output\n",
    "print('The perimeter is: ' + str(perimeter_of_rectangle) + ' M')"
   ]
  },
  {
   "cell_type": "markdown",
   "metadata": {},
   "source": [
    "# Great Work!"
   ]
  }
 ],
 "metadata": {
  "kernelspec": {
   "display_name": "Tensorflow GPU",
   "language": "python",
   "name": "tensorflow"
  },
  "language_info": {
   "codemirror_mode": {
    "name": "ipython",
    "version": 3
   },
   "file_extension": ".py",
   "mimetype": "text/x-python",
   "name": "python",
   "nbconvert_exporter": "python",
   "pygments_lexer": "ipython3",
   "version": "3.7.6"
  }
 },
 "nbformat": 4,
 "nbformat_minor": 4
}
