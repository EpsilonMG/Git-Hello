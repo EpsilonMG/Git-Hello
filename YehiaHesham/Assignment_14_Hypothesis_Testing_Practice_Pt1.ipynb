{
 "cells": [
  {
   "cell_type": "code",
   "execution_count": 42,
   "id": "8178fedf",
   "metadata": {},
   "outputs": [],
   "source": [
    "# 1- In ‘Course_page_actions.csv’ dataset\n",
    "# Test The Enrollment Rate in each group snd get the\n",
    "# Alternative then test it\n",
    "# Enrollment Rate for Ex:\n",
    "# (For Experiment Group )( Experiment.action==’enroll’/\n",
    "# Experiment.action==’view’)"
   ]
  },
  {
   "cell_type": "code",
   "execution_count": 1,
   "id": "eb6721da",
   "metadata": {},
   "outputs": [],
   "source": [
    "import pandas as pd\n",
    "import numpy as np\n",
    "import matplotlib.pyplot as plt"
   ]
  },
  {
   "cell_type": "code",
   "execution_count": 2,
   "id": "db71d1ca",
   "metadata": {},
   "outputs": [],
   "source": [
    "data = pd.read_csv(\"course_page_actions.csv\")"
   ]
  },
  {
   "cell_type": "code",
   "execution_count": 3,
   "id": "2383056e",
   "metadata": {},
   "outputs": [
    {
     "data": {
      "text/html": [
       "<div>\n",
       "<style scoped>\n",
       "    .dataframe tbody tr th:only-of-type {\n",
       "        vertical-align: middle;\n",
       "    }\n",
       "\n",
       "    .dataframe tbody tr th {\n",
       "        vertical-align: top;\n",
       "    }\n",
       "\n",
       "    .dataframe thead th {\n",
       "        text-align: right;\n",
       "    }\n",
       "</style>\n",
       "<table border=\"1\" class=\"dataframe\">\n",
       "  <thead>\n",
       "    <tr style=\"text-align: right;\">\n",
       "      <th></th>\n",
       "      <th>timestamp</th>\n",
       "      <th>id</th>\n",
       "      <th>group</th>\n",
       "      <th>action</th>\n",
       "      <th>duration</th>\n",
       "    </tr>\n",
       "  </thead>\n",
       "  <tbody>\n",
       "    <tr>\n",
       "      <th>0</th>\n",
       "      <td>2016-09-24 17:14:52.012145</td>\n",
       "      <td>261869</td>\n",
       "      <td>experiment</td>\n",
       "      <td>view</td>\n",
       "      <td>130.545004</td>\n",
       "    </tr>\n",
       "    <tr>\n",
       "      <th>1</th>\n",
       "      <td>2016-09-24 18:45:09.645857</td>\n",
       "      <td>226546</td>\n",
       "      <td>experiment</td>\n",
       "      <td>view</td>\n",
       "      <td>159.862440</td>\n",
       "    </tr>\n",
       "    <tr>\n",
       "      <th>2</th>\n",
       "      <td>2016-09-24 19:16:21.002533</td>\n",
       "      <td>286353</td>\n",
       "      <td>experiment</td>\n",
       "      <td>view</td>\n",
       "      <td>79.349315</td>\n",
       "    </tr>\n",
       "    <tr>\n",
       "      <th>3</th>\n",
       "      <td>2016-09-24 19:43:06.927785</td>\n",
       "      <td>842279</td>\n",
       "      <td>experiment</td>\n",
       "      <td>view</td>\n",
       "      <td>55.536126</td>\n",
       "    </tr>\n",
       "    <tr>\n",
       "      <th>4</th>\n",
       "      <td>2016-09-24 21:08:22.790333</td>\n",
       "      <td>781883</td>\n",
       "      <td>experiment</td>\n",
       "      <td>view</td>\n",
       "      <td>204.322437</td>\n",
       "    </tr>\n",
       "  </tbody>\n",
       "</table>\n",
       "</div>"
      ],
      "text/plain": [
       "                    timestamp      id       group action    duration\n",
       "0  2016-09-24 17:14:52.012145  261869  experiment   view  130.545004\n",
       "1  2016-09-24 18:45:09.645857  226546  experiment   view  159.862440\n",
       "2  2016-09-24 19:16:21.002533  286353  experiment   view   79.349315\n",
       "3  2016-09-24 19:43:06.927785  842279  experiment   view   55.536126\n",
       "4  2016-09-24 21:08:22.790333  781883  experiment   view  204.322437"
      ]
     },
     "execution_count": 3,
     "metadata": {},
     "output_type": "execute_result"
    }
   ],
   "source": [
    "data.head()"
   ]
  },
  {
   "cell_type": "markdown",
   "id": "e5a2f3c6",
   "metadata": {},
   "source": [
    "# 1)Test The Enrollment Rate in each group #"
   ]
  },
  {
   "cell_type": "code",
   "execution_count": 6,
   "id": "ccd09543",
   "metadata": {},
   "outputs": [
    {
     "data": {
      "text/plain": [
       "array(['experiment', 'control'], dtype=object)"
      ]
     },
     "execution_count": 6,
     "metadata": {},
     "output_type": "execute_result"
    }
   ],
   "source": [
    "data.group.unique()"
   ]
  },
  {
   "cell_type": "code",
   "execution_count": 46,
   "id": "b0e2d787",
   "metadata": {},
   "outputs": [
    {
     "data": {
      "text/html": [
       "<div>\n",
       "<style scoped>\n",
       "    .dataframe tbody tr th:only-of-type {\n",
       "        vertical-align: middle;\n",
       "    }\n",
       "\n",
       "    .dataframe tbody tr th {\n",
       "        vertical-align: top;\n",
       "    }\n",
       "\n",
       "    .dataframe thead th {\n",
       "        text-align: right;\n",
       "    }\n",
       "</style>\n",
       "<table border=\"1\" class=\"dataframe\">\n",
       "  <thead>\n",
       "    <tr style=\"text-align: right;\">\n",
       "      <th></th>\n",
       "      <th>timestamp</th>\n",
       "      <th>id</th>\n",
       "      <th>group</th>\n",
       "      <th>action</th>\n",
       "      <th>duration</th>\n",
       "    </tr>\n",
       "  </thead>\n",
       "  <tbody>\n",
       "    <tr>\n",
       "      <th>137</th>\n",
       "      <td>2016-09-28 02:08:53.050942</td>\n",
       "      <td>711838</td>\n",
       "      <td>experiment</td>\n",
       "      <td>enroll</td>\n",
       "      <td>201.785800</td>\n",
       "    </tr>\n",
       "    <tr>\n",
       "      <th>602</th>\n",
       "      <td>2016-10-10 11:30:33.838974</td>\n",
       "      <td>576318</td>\n",
       "      <td>experiment</td>\n",
       "      <td>enroll</td>\n",
       "      <td>176.921806</td>\n",
       "    </tr>\n",
       "    <tr>\n",
       "      <th>966</th>\n",
       "      <td>2016-10-21 20:18:42.363288</td>\n",
       "      <td>724590</td>\n",
       "      <td>experiment</td>\n",
       "      <td>enroll</td>\n",
       "      <td>99.759691</td>\n",
       "    </tr>\n",
       "    <tr>\n",
       "      <th>1008</th>\n",
       "      <td>2016-10-23 03:05:45.425012</td>\n",
       "      <td>314669</td>\n",
       "      <td>experiment</td>\n",
       "      <td>enroll</td>\n",
       "      <td>65.266778</td>\n",
       "    </tr>\n",
       "    <tr>\n",
       "      <th>1062</th>\n",
       "      <td>2016-10-24 13:30:25.843971</td>\n",
       "      <td>449244</td>\n",
       "      <td>experiment</td>\n",
       "      <td>enroll</td>\n",
       "      <td>61.008083</td>\n",
       "    </tr>\n",
       "  </tbody>\n",
       "</table>\n",
       "</div>"
      ],
      "text/plain": [
       "                       timestamp      id       group  action    duration\n",
       "137   2016-09-28 02:08:53.050942  711838  experiment  enroll  201.785800\n",
       "602   2016-10-10 11:30:33.838974  576318  experiment  enroll  176.921806\n",
       "966   2016-10-21 20:18:42.363288  724590  experiment  enroll   99.759691\n",
       "1008  2016-10-23 03:05:45.425012  314669  experiment  enroll   65.266778\n",
       "1062  2016-10-24 13:30:25.843971  449244  experiment  enroll   61.008083"
      ]
     },
     "execution_count": 46,
     "metadata": {},
     "output_type": "execute_result"
    }
   ],
   "source": [
    "exp_enrolled = data.query(\"group == 'experiment' and action == 'enroll'\")\n",
    "exp = data.query(\"group == 'experiment'\")\n",
    "exp_enrolled.head()"
   ]
  },
  {
   "cell_type": "code",
   "execution_count": 14,
   "id": "a5835f80",
   "metadata": {},
   "outputs": [
    {
     "data": {
      "text/plain": [
       "0.0076372315035799524"
      ]
     },
     "execution_count": 14,
     "metadata": {},
     "output_type": "execute_result"
    }
   ],
   "source": [
    "exp_enrollment_rate = exp_enrolled.shape[0] / exp.shape[0]\n",
    "exp_enrollment_rate"
   ]
  },
  {
   "cell_type": "code",
   "execution_count": 47,
   "id": "34d21f6a",
   "metadata": {},
   "outputs": [
    {
     "data": {
      "text/html": [
       "<div>\n",
       "<style scoped>\n",
       "    .dataframe tbody tr th:only-of-type {\n",
       "        vertical-align: middle;\n",
       "    }\n",
       "\n",
       "    .dataframe tbody tr th {\n",
       "        vertical-align: top;\n",
       "    }\n",
       "\n",
       "    .dataframe thead th {\n",
       "        text-align: right;\n",
       "    }\n",
       "</style>\n",
       "<table border=\"1\" class=\"dataframe\">\n",
       "  <thead>\n",
       "    <tr style=\"text-align: right;\">\n",
       "      <th></th>\n",
       "      <th>timestamp</th>\n",
       "      <th>id</th>\n",
       "      <th>group</th>\n",
       "      <th>action</th>\n",
       "      <th>duration</th>\n",
       "    </tr>\n",
       "  </thead>\n",
       "  <tbody>\n",
       "    <tr>\n",
       "      <th>7</th>\n",
       "      <td>2016-09-24 22:43:35.119748</td>\n",
       "      <td>701620</td>\n",
       "      <td>control</td>\n",
       "      <td>enroll</td>\n",
       "      <td>NaN</td>\n",
       "    </tr>\n",
       "    <tr>\n",
       "      <th>222</th>\n",
       "      <td>2016-09-30 11:57:44.059162</td>\n",
       "      <td>802405</td>\n",
       "      <td>control</td>\n",
       "      <td>enroll</td>\n",
       "      <td>NaN</td>\n",
       "    </tr>\n",
       "    <tr>\n",
       "      <th>231</th>\n",
       "      <td>2016-09-30 17:17:07.708962</td>\n",
       "      <td>524941</td>\n",
       "      <td>control</td>\n",
       "      <td>enroll</td>\n",
       "      <td>NaN</td>\n",
       "    </tr>\n",
       "    <tr>\n",
       "      <th>256</th>\n",
       "      <td>2016-10-01 08:40:31.380072</td>\n",
       "      <td>381758</td>\n",
       "      <td>control</td>\n",
       "      <td>enroll</td>\n",
       "      <td>NaN</td>\n",
       "    </tr>\n",
       "    <tr>\n",
       "      <th>362</th>\n",
       "      <td>2016-10-03 20:08:57.011373</td>\n",
       "      <td>757165</td>\n",
       "      <td>control</td>\n",
       "      <td>enroll</td>\n",
       "      <td>NaN</td>\n",
       "    </tr>\n",
       "  </tbody>\n",
       "</table>\n",
       "</div>"
      ],
      "text/plain": [
       "                      timestamp      id    group  action  duration\n",
       "7    2016-09-24 22:43:35.119748  701620  control  enroll       NaN\n",
       "222  2016-09-30 11:57:44.059162  802405  control  enroll       NaN\n",
       "231  2016-09-30 17:17:07.708962  524941  control  enroll       NaN\n",
       "256  2016-10-01 08:40:31.380072  381758  control  enroll       NaN\n",
       "362  2016-10-03 20:08:57.011373  757165  control  enroll       NaN"
      ]
     },
     "execution_count": 47,
     "metadata": {},
     "output_type": "execute_result"
    }
   ],
   "source": [
    "ctrl_enrolled = data.query(\"group == 'control' and action == 'enroll'\")\n",
    "ctrl = data.query(\"group == 'control'\")\n",
    "ctrl_enrolled.head()"
   ]
  },
  {
   "cell_type": "code",
   "execution_count": 19,
   "id": "37235d2f",
   "metadata": {},
   "outputs": [
    {
     "data": {
      "text/plain": [
       "0.012664640324214792"
      ]
     },
     "execution_count": 19,
     "metadata": {},
     "output_type": "execute_result"
    }
   ],
   "source": [
    "ctrl_enrollment_rate = ctrl_enrolled.shape[0] / ctrl.shape[0]\n",
    "ctrl_enrollment_rate"
   ]
  },
  {
   "cell_type": "markdown",
   "id": "8803b05d",
   "metadata": {},
   "source": [
    "# Observable Difference #"
   ]
  },
  {
   "cell_type": "code",
   "execution_count": 22,
   "id": "652f9cca",
   "metadata": {},
   "outputs": [
    {
     "data": {
      "text/plain": [
       "-0.005027408820634839"
      ]
     },
     "execution_count": 22,
     "metadata": {},
     "output_type": "execute_result"
    }
   ],
   "source": [
    "obs_difference = exp_enrollment_rate - ctrl_enrollment_rate\n",
    "obs_difference"
   ]
  },
  {
   "cell_type": "markdown",
   "id": "752cf823",
   "metadata": {},
   "source": [
    "# Hypothesis #"
   ]
  },
  {
   "cell_type": "markdown",
   "id": "3af66a5e",
   "metadata": {},
   "source": [
    "### Null Hypothesis: group 'experiment' enrollment rate is bigger than group 'control' enrollment rate ###\n",
    "##### Null Hypothesis: experiment_enrollment_rate - control_enrollment_rate > 0 ####\n",
    "### Alternative Hypothesis: group 'experiment' enrollment rate is smaller than or equal group ' control' enrollment rate ###\n",
    "##### Alternative Hypothesis: experiment_enrollment_rate - control_enrollment_rate <= 0 ####\n"
   ]
  },
  {
   "cell_type": "markdown",
   "id": "cec2512e",
   "metadata": {},
   "source": [
    "# 1)Gather Data #"
   ]
  },
  {
   "cell_type": "code",
   "execution_count": 37,
   "id": "91109bc1",
   "metadata": {},
   "outputs": [],
   "source": [
    "difference = []\n",
    "for _ in range(2000):\n",
    "    sample = data.sample(data.shape[0],replace = True)\n",
    "    exp_enrolled = sample.query(\"group == 'experiment' and action == 'enroll'\")\n",
    "    exp = sample.query(\"group == 'experiment'\")\n",
    "    exp_enrollment_rate = exp_enrolled.shape[0] / exp.shape[0]\n",
    "    ctrl_enrolled = sample.query(\"group == 'control' and action == 'enroll'\")\n",
    "    ctrl = sample.query(\"group == 'control'\")\n",
    "    ctrl_enrollment_rate = ctrl_enrolled.shape[0] / ctrl.shape[0]\n",
    "    difference.append(exp_enrollment_rate - ctrl_enrollment_rate)"
   ]
  },
  {
   "cell_type": "code",
   "execution_count": 38,
   "id": "03d8f4db",
   "metadata": {},
   "outputs": [
    {
     "data": {
      "text/plain": [
       "(array([ 12.,  58., 163., 331., 506., 477., 305., 105.,  37.,   6.]),\n",
       " array([-0.01506558, -0.0129971 , -0.01092862, -0.00886014, -0.00679166,\n",
       "        -0.00472318, -0.00265469, -0.00058621,  0.00148227,  0.00355075,\n",
       "         0.00561923]),\n",
       " <BarContainer object of 10 artists>)"
      ]
     },
     "execution_count": 38,
     "metadata": {},
     "output_type": "execute_result"
    },
    {
     "data": {
      "image/png": "[encoded data removed]",
      "text/plain": [
       "<Figure size 432x288 with 1 Axes>"
      ]
     },
     "metadata": {
      "needs_background": "light"
     },
     "output_type": "display_data"
    }
   ],
   "source": [
    "plt.hist(difference)"
   ]
  },
  {
   "cell_type": "markdown",
   "id": "08f56c49",
   "metadata": {},
   "source": [
    "# 2)Create Null popluation #"
   ]
  },
  {
   "cell_type": "code",
   "execution_count": 43,
   "id": "7161649c",
   "metadata": {},
   "outputs": [
    {
     "data": {
      "text/plain": [
       "(array([ 11.,  47., 155., 343., 529., 491., 295., 100.,  24.,   5.]),\n",
       " array([-0.01041823, -0.00826835, -0.00611847, -0.00396859, -0.00181871,\n",
       "         0.00033117,  0.00248105,  0.00463093,  0.00678081,  0.00893069,\n",
       "         0.01108057]),\n",
       " <BarContainer object of 10 artists>)"
      ]
     },
     "execution_count": 43,
     "metadata": {},
     "output_type": "execute_result"
    },
    {
     "data": {
      "image/png": "[encoded data removed]",
      "text/plain": [
       "<Figure size 432x288 with 1 Axes>"
      ]
     },
     "metadata": {
      "needs_background": "light"
     },
     "output_type": "display_data"
    }
   ],
   "source": [
    "difference = np.array(difference)\n",
    "normal = np.random.normal(0,difference.std(),difference.shape[0])\n",
    "plt.hist(normal)"
   ]
  },
  {
   "cell_type": "code",
   "execution_count": 44,
   "id": "0b50f05a",
   "metadata": {},
   "outputs": [
    {
     "data": {
      "text/plain": [
       "<matplotlib.lines.Line2D at 0x2833d9e0c70>"
      ]
     },
     "execution_count": 44,
     "metadata": {},
     "output_type": "execute_result"
    },
    {
     "data": {
      "image/png": "[encoded data removed]",
      "text/plain": [
       "<Figure size 432x288 with 1 Axes>"
      ]
     },
     "metadata": {
      "needs_background": "light"
     },
     "output_type": "display_data"
    }
   ],
   "source": [
    "plt.hist(normal)\n",
    "plt.axvline(obs_difference, c= 'red')"
   ]
  },
  {
   "cell_type": "code",
   "execution_count": 45,
   "id": "c1727f28",
   "metadata": {},
   "outputs": [
    {
     "data": {
      "text/plain": [
       "0.0615"
      ]
     },
     "execution_count": 45,
     "metadata": {},
     "output_type": "execute_result"
    }
   ],
   "source": [
    "(normal<obs_difference).mean()"
   ]
  },
  {
   "cell_type": "markdown",
   "id": "cbec0294",
   "metadata": {},
   "source": [
    "# Conclusion: Alternative Hypothesis Rejected, Maintain current status #\n",
    "#### group 'experiment' enrollment rate is bigger than group 'control' enrollment rate ###"
   ]
  }
 ],
 "metadata": {
  "kernelspec": {
   "display_name": "Python 3",
   "language": "python",
   "name": "python3"
  },
  "language_info": {
   "codemirror_mode": {
    "name": "ipython",
    "version": 3
   },
   "file_extension": ".py",
   "mimetype": "text/x-python",
   "name": "python",
   "nbconvert_exporter": "python",
   "pygments_lexer": "ipython3",
   "version": "3.8.8"
  }
 },
 "nbformat": 4,
 "nbformat_minor": 5
}
