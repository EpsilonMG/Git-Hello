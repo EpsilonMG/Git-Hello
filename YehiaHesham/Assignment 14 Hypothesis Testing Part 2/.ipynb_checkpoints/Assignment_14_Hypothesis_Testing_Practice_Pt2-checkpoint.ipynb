{
 "cells": [
  {
   "cell_type": "code",
   "execution_count": 1,
   "id": "2a6043ab",
   "metadata": {},
   "outputs": [],
   "source": [
    "# 2 - In ‘coffee_dataset.csv’ dataset\n",
    "# There’s a Hypothesis Says That ..People Who are older\n",
    "# than or equal 21 Drinks coffee More Than Who Are\n",
    "# Younger.\n",
    "# Test This Hypothesis"
   ]
  },
  {
   "cell_type": "code",
   "execution_count": 2,
   "id": "a7439ce9",
   "metadata": {},
   "outputs": [],
   "source": [
    "import pandas as pd\n",
    "import numpy as np\n",
    "import matplotlib.pyplot as plt"
   ]
  },
  {
   "cell_type": "code",
   "execution_count": 3,
   "id": "7aa73fdc",
   "metadata": {},
   "outputs": [],
   "source": [
    "data = pd.read_csv(\"coffee_dataset.csv\")"
   ]
  },
  {
   "cell_type": "code",
   "execution_count": 4,
   "id": "d9c59b97",
   "metadata": {},
   "outputs": [
    {
     "data": {
      "text/html": [
       "<div>\n",
       "<style scoped>\n",
       "    .dataframe tbody tr th:only-of-type {\n",
       "        vertical-align: middle;\n",
       "    }\n",
       "\n",
       "    .dataframe tbody tr th {\n",
       "        vertical-align: top;\n",
       "    }\n",
       "\n",
       "    .dataframe thead th {\n",
       "        text-align: right;\n",
       "    }\n",
       "</style>\n",
       "<table border=\"1\" class=\"dataframe\">\n",
       "  <thead>\n",
       "    <tr style=\"text-align: right;\">\n",
       "      <th></th>\n",
       "      <th>user_id</th>\n",
       "      <th>age</th>\n",
       "      <th>drinks_coffee</th>\n",
       "      <th>height</th>\n",
       "    </tr>\n",
       "  </thead>\n",
       "  <tbody>\n",
       "    <tr>\n",
       "      <th>0</th>\n",
       "      <td>4509</td>\n",
       "      <td>&lt;21</td>\n",
       "      <td>False</td>\n",
       "      <td>64.538179</td>\n",
       "    </tr>\n",
       "    <tr>\n",
       "      <th>1</th>\n",
       "      <td>1864</td>\n",
       "      <td>&gt;=21</td>\n",
       "      <td>True</td>\n",
       "      <td>65.824249</td>\n",
       "    </tr>\n",
       "    <tr>\n",
       "      <th>2</th>\n",
       "      <td>2060</td>\n",
       "      <td>&lt;21</td>\n",
       "      <td>False</td>\n",
       "      <td>71.319854</td>\n",
       "    </tr>\n",
       "    <tr>\n",
       "      <th>3</th>\n",
       "      <td>7875</td>\n",
       "      <td>&gt;=21</td>\n",
       "      <td>True</td>\n",
       "      <td>68.569404</td>\n",
       "    </tr>\n",
       "    <tr>\n",
       "      <th>4</th>\n",
       "      <td>6254</td>\n",
       "      <td>&lt;21</td>\n",
       "      <td>True</td>\n",
       "      <td>64.020226</td>\n",
       "    </tr>\n",
       "  </tbody>\n",
       "</table>\n",
       "</div>"
      ],
      "text/plain": [
       "   user_id   age  drinks_coffee     height\n",
       "0     4509   <21          False  64.538179\n",
       "1     1864  >=21           True  65.824249\n",
       "2     2060   <21          False  71.319854\n",
       "3     7875  >=21           True  68.569404\n",
       "4     6254   <21           True  64.020226"
      ]
     },
     "execution_count": 4,
     "metadata": {},
     "output_type": "execute_result"
    }
   ],
   "source": [
    "data.head()"
   ]
  },
  {
   "cell_type": "code",
   "execution_count": 5,
   "id": "ec1e8e8c",
   "metadata": {},
   "outputs": [],
   "source": [
    "data = data.drop_duplicates(subset = 'user_id',keep= 'first')"
   ]
  },
  {
   "cell_type": "markdown",
   "id": "3aa2cf7b",
   "metadata": {},
   "source": [
    "# Hypothesis #\n",
    "## Null Hypothesis: People who are older than or equal 21 Drink less coffee than who are younger than 21 ##\n",
    "#### Null Hypothesis: older_than_or_equal - younger <= 0\n",
    "## Alternative Hypothesis: People who are older than or equal 21 Drink more coffee than who are younger than 21 ##\n",
    "#### Atlernative Hypothesis: older_than_or_equal - younger > 0"
   ]
  },
  {
   "cell_type": "markdown",
   "id": "f42e1230",
   "metadata": {},
   "source": [
    "# Observable Difference # "
   ]
  },
  {
   "cell_type": "code",
   "execution_count": 6,
   "id": "5cd12692",
   "metadata": {},
   "outputs": [
    {
     "data": {
      "text/html": [
       "<div>\n",
       "<style scoped>\n",
       "    .dataframe tbody tr th:only-of-type {\n",
       "        vertical-align: middle;\n",
       "    }\n",
       "\n",
       "    .dataframe tbody tr th {\n",
       "        vertical-align: top;\n",
       "    }\n",
       "\n",
       "    .dataframe thead th {\n",
       "        text-align: right;\n",
       "    }\n",
       "</style>\n",
       "<table border=\"1\" class=\"dataframe\">\n",
       "  <thead>\n",
       "    <tr style=\"text-align: right;\">\n",
       "      <th></th>\n",
       "      <th>user_id</th>\n",
       "      <th>age</th>\n",
       "      <th>drinks_coffee</th>\n",
       "      <th>height</th>\n",
       "    </tr>\n",
       "  </thead>\n",
       "  <tbody>\n",
       "    <tr>\n",
       "      <th>1</th>\n",
       "      <td>1864</td>\n",
       "      <td>&gt;=21</td>\n",
       "      <td>True</td>\n",
       "      <td>65.824249</td>\n",
       "    </tr>\n",
       "    <tr>\n",
       "      <th>3</th>\n",
       "      <td>7875</td>\n",
       "      <td>&gt;=21</td>\n",
       "      <td>True</td>\n",
       "      <td>68.569404</td>\n",
       "    </tr>\n",
       "    <tr>\n",
       "      <th>6</th>\n",
       "      <td>4996</td>\n",
       "      <td>&gt;=21</td>\n",
       "      <td>True</td>\n",
       "      <td>70.828455</td>\n",
       "    </tr>\n",
       "    <tr>\n",
       "      <th>9</th>\n",
       "      <td>2368</td>\n",
       "      <td>&gt;=21</td>\n",
       "      <td>True</td>\n",
       "      <td>66.208656</td>\n",
       "    </tr>\n",
       "    <tr>\n",
       "      <th>11</th>\n",
       "      <td>6103</td>\n",
       "      <td>&gt;=21</td>\n",
       "      <td>True</td>\n",
       "      <td>68.905686</td>\n",
       "    </tr>\n",
       "  </tbody>\n",
       "</table>\n",
       "</div>"
      ],
      "text/plain": [
       "    user_id   age  drinks_coffee     height\n",
       "1      1864  >=21           True  65.824249\n",
       "3      7875  >=21           True  68.569404\n",
       "6      4996  >=21           True  70.828455\n",
       "9      2368  >=21           True  66.208656\n",
       "11     6103  >=21           True  68.905686"
      ]
     },
     "execution_count": 6,
     "metadata": {},
     "output_type": "execute_result"
    }
   ],
   "source": [
    "older_than = data.query(\"drinks_coffee and age == '>=21'\")\n",
    "older_than.head()"
   ]
  },
  {
   "cell_type": "code",
   "execution_count": 7,
   "id": "1637bccc",
   "metadata": {},
   "outputs": [
    {
     "data": {
      "text/html": [
       "<div>\n",
       "<style scoped>\n",
       "    .dataframe tbody tr th:only-of-type {\n",
       "        vertical-align: middle;\n",
       "    }\n",
       "\n",
       "    .dataframe tbody tr th {\n",
       "        vertical-align: top;\n",
       "    }\n",
       "\n",
       "    .dataframe thead th {\n",
       "        text-align: right;\n",
       "    }\n",
       "</style>\n",
       "<table border=\"1\" class=\"dataframe\">\n",
       "  <thead>\n",
       "    <tr style=\"text-align: right;\">\n",
       "      <th></th>\n",
       "      <th>user_id</th>\n",
       "      <th>age</th>\n",
       "      <th>drinks_coffee</th>\n",
       "      <th>height</th>\n",
       "    </tr>\n",
       "  </thead>\n",
       "  <tbody>\n",
       "    <tr>\n",
       "      <th>4</th>\n",
       "      <td>6254</td>\n",
       "      <td>&lt;21</td>\n",
       "      <td>True</td>\n",
       "      <td>64.020226</td>\n",
       "    </tr>\n",
       "    <tr>\n",
       "      <th>12</th>\n",
       "      <td>1861</td>\n",
       "      <td>&lt;21</td>\n",
       "      <td>True</td>\n",
       "      <td>62.646820</td>\n",
       "    </tr>\n",
       "    <tr>\n",
       "      <th>27</th>\n",
       "      <td>3071</td>\n",
       "      <td>&lt;21</td>\n",
       "      <td>True</td>\n",
       "      <td>64.741701</td>\n",
       "    </tr>\n",
       "    <tr>\n",
       "      <th>38</th>\n",
       "      <td>4646</td>\n",
       "      <td>&lt;21</td>\n",
       "      <td>True</td>\n",
       "      <td>63.564051</td>\n",
       "    </tr>\n",
       "    <tr>\n",
       "      <th>41</th>\n",
       "      <td>3805</td>\n",
       "      <td>&lt;21</td>\n",
       "      <td>True</td>\n",
       "      <td>63.791531</td>\n",
       "    </tr>\n",
       "  </tbody>\n",
       "</table>\n",
       "</div>"
      ],
      "text/plain": [
       "    user_id  age  drinks_coffee     height\n",
       "4      6254  <21           True  64.020226\n",
       "12     1861  <21           True  62.646820\n",
       "27     3071  <21           True  64.741701\n",
       "38     4646  <21           True  63.564051\n",
       "41     3805  <21           True  63.791531"
      ]
     },
     "execution_count": 7,
     "metadata": {},
     "output_type": "execute_result"
    }
   ],
   "source": [
    "younger_than = data.query(\"drinks_coffee and age == '<21'\")\n",
    "younger_than.head()"
   ]
  },
  {
   "cell_type": "code",
   "execution_count": 8,
   "id": "4f450333",
   "metadata": {},
   "outputs": [
    {
     "data": {
      "text/plain": [
       "1232"
      ]
     },
     "execution_count": 8,
     "metadata": {},
     "output_type": "execute_result"
    }
   ],
   "source": [
    "obs_difference = older_than.shape[0] - younger_than.shape[0]\n",
    "obs_difference"
   ]
  },
  {
   "cell_type": "code",
   "execution_count": 9,
   "id": "d9e66c2f",
   "metadata": {},
   "outputs": [],
   "source": [
    "difference = []\n",
    "for _ in range(2000):\n",
    "    sample = data.sample(data.shape[0],replace = True)\n",
    "    older_than = sample.query(\"drinks_coffee and age == '>=21'\")\n",
    "    younger_than = sample.query(\"drinks_coffee and age == '<21'\")\n",
    "    difference.append(older_than.shape[0] - younger_than.shape[0])"
   ]
  },
  {
   "cell_type": "code",
   "execution_count": 10,
   "id": "6fccdb9d",
   "metadata": {},
   "outputs": [
    {
     "data": {
      "text/plain": [
       "(array([  3.,  23.,  93., 262., 473., 493., 419., 172.,  53.,   9.]),\n",
       " array([1104. , 1128.3, 1152.6, 1176.9, 1201.2, 1225.5, 1249.8, 1274.1,\n",
       "        1298.4, 1322.7, 1347. ]),\n",
       " <BarContainer object of 10 artists>)"
      ]
     },
     "execution_count": 10,
     "metadata": {},
     "output_type": "execute_result"
    },
    {
     "data": {
      "image/png": "[encoded data removed]",
      "text/plain": [
       "<Figure size 432x288 with 1 Axes>"
      ]
     },
     "metadata": {
      "needs_background": "light"
     },
     "output_type": "display_data"
    }
   ],
   "source": [
    "plt.hist(difference)"
   ]
  },
  {
   "cell_type": "markdown",
   "id": "77d1cbd0",
   "metadata": {},
   "source": [
    "# Create Null population #"
   ]
  },
  {
   "cell_type": "code",
   "execution_count": 11,
   "id": "ced2a70d",
   "metadata": {},
   "outputs": [
    {
     "data": {
      "text/plain": [
       "(array([  1.,  12.,  61., 213., 442., 551., 429., 214.,  61.,  16.]),\n",
       " array([-139.28942321, -114.1039129 ,  -88.91840259,  -63.73289228,\n",
       "         -38.54738197,  -13.36187166,   11.82363865,   37.00914896,\n",
       "          62.19465927,   87.38016958,  112.5656799 ]),\n",
       " <BarContainer object of 10 artists>)"
      ]
     },
     "execution_count": 11,
     "metadata": {},
     "output_type": "execute_result"
    },
    {
     "data": {
      "image/png": "[encoded data removed]",
      "text/plain": [
       "<Figure size 432x288 with 1 Axes>"
      ]
     },
     "metadata": {
      "needs_background": "light"
     },
     "output_type": "display_data"
    }
   ],
   "source": [
    "difference = np.array(difference)\n",
    "normal = np.random.normal(0,difference.std(),difference.shape[0])\n",
    "plt.hist(normal)"
   ]
  },
  {
   "cell_type": "code",
   "execution_count": 12,
   "id": "b216f05c",
   "metadata": {},
   "outputs": [
    {
     "data": {
      "text/plain": [
       "<matplotlib.lines.Line2D at 0x130431b8ac0>"
      ]
     },
     "execution_count": 12,
     "metadata": {},
     "output_type": "execute_result"
    },
    {
     "data": {
      "image/png": "[encoded data removed]",
      "text/plain": [
       "<Figure size 432x288 with 1 Axes>"
      ]
     },
     "metadata": {
      "needs_background": "light"
     },
     "output_type": "display_data"
    }
   ],
   "source": [
    "plt.hist(normal)\n",
    "plt.axvline(obs_difference, c= 'red')"
   ]
  },
  {
   "cell_type": "code",
   "execution_count": 13,
   "id": "35f9f3d7",
   "metadata": {},
   "outputs": [
    {
     "data": {
      "text/plain": [
       "0.0"
      ]
     },
     "execution_count": 13,
     "metadata": {},
     "output_type": "execute_result"
    }
   ],
   "source": [
    "(normal>obs_difference).mean()"
   ]
  },
  {
   "cell_type": "markdown",
   "id": "c941dd20",
   "metadata": {},
   "source": [
    "# Conclusion: Null Hypothesis Rejected, status changed #\n",
    "#### People who are older than or equal 21 Drink more coffee than who are younger than 21 ####"
   ]
  }
 ],
 "metadata": {
  "kernelspec": {
   "display_name": "Python 3",
   "language": "python",
   "name": "python3"
  },
  "language_info": {
   "codemirror_mode": {
    "name": "ipython",
    "version": 3
   },
   "file_extension": ".py",
   "mimetype": "text/x-python",
   "name": "python",
   "nbconvert_exporter": "python",
   "pygments_lexer": "ipython3",
   "version": "3.8.8"
  }
 },
 "nbformat": 4,
 "nbformat_minor": 5
}
