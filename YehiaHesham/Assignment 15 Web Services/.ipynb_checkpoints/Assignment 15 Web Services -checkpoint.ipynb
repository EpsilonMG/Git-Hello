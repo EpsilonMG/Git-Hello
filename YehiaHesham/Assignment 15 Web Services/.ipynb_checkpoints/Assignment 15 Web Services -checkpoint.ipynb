{
 "cells": [
  {
   "cell_type": "code",
   "execution_count": 18,
   "id": "acea069b",
   "metadata": {},
   "outputs": [],
   "source": [
    "import requests\n",
    "import csv"
   ]
  },
  {
   "cell_type": "markdown",
   "id": "8e872357",
   "metadata": {},
   "source": [
    "## Task 1\n",
    "## ---------\n",
    "#### Get the USD To EUR Exchange rate from this web service\n",
    "#### https://api.frankfurter.app/latest?amount=1&from=USD&to=EUR\n",
    "#### and then use it to make a software that takes amount of USD Dollars from the user and calculate how much will it cost in EUR.\n",
    "#### hint: take a look on the url of the service can you guess how I can modify it to calculate the 10 for EUR for example ?!"
   ]
  },
  {
   "cell_type": "code",
   "execution_count": 17,
   "id": "88adf6d6",
   "metadata": {},
   "outputs": [
    {
     "data": {
      "text/plain": [
       "{'amount': 1.0, 'base': 'USD', 'date': '2021-10-13', 'rates': {'EUR': 0.8649}}"
      ]
     },
     "execution_count": 17,
     "metadata": {},
     "output_type": "execute_result"
    }
   ],
   "source": [
    "response = requests.get(\"https://api.frankfurter.app/latest?amount=1&from=USD&to=EUR\")\n",
    "response.json()"
   ]
  },
  {
   "cell_type": "code",
   "execution_count": 10,
   "id": "149edc40",
   "metadata": {},
   "outputs": [
    {
     "data": {
      "text/plain": [
       "0.8649"
      ]
     },
     "execution_count": 10,
     "metadata": {},
     "output_type": "execute_result"
    }
   ],
   "source": [
    "rate = response.json()['rates']['EUR']\n",
    "rate"
   ]
  },
  {
   "cell_type": "code",
   "execution_count": 15,
   "id": "0d5c8a75",
   "metadata": {},
   "outputs": [],
   "source": [
    "def usd_to_eur():    \n",
    "    usd = float(input(\"USD : \"))\n",
    "    eur = usd * rate\n",
    "    print(\"EUR: \",eur)"
   ]
  },
  {
   "cell_type": "code",
   "execution_count": 19,
   "id": "8dcfa837",
   "metadata": {},
   "outputs": [
    {
     "name": "stdout",
     "output_type": "stream",
     "text": [
      "USD : 10\n",
      "EUR:  8.649000000000001\n"
     ]
    }
   ],
   "source": [
    "usd_to_eur()"
   ]
  },
  {
   "cell_type": "markdown",
   "id": "674b9e15",
   "metadata": {},
   "source": [
    "## Task 2\n",
    "## ---------\n",
    "#### Use this web service \n",
    "#### https://www.metaweather.com/api/location/1521894/\n",
    "#### one time for 3 different days in this week \n",
    "#### and make a program that get the weather temperature, humidity, visibility, air pressure, wind speed & datetime and save each #### day data in a CSV & Excel file."
   ]
  },
  {
   "cell_type": "code",
   "execution_count": 49,
   "id": "85068ca8",
   "metadata": {},
   "outputs": [],
   "source": [
    "response = requests.get(\"https://www.metaweather.com/api/location/1521894/\").json()\n",
    "#response"
   ]
  },
  {
   "cell_type": "code",
   "execution_count": 51,
   "id": "a9f31645",
   "metadata": {},
   "outputs": [
    {
     "data": {
      "text/plain": [
       "dict_keys(['consolidated_weather', 'time', 'sun_rise', 'sun_set', 'timezone_name', 'parent', 'sources', 'title', 'location_type', 'woeid', 'latt_long', 'timezone'])"
      ]
     },
     "execution_count": 51,
     "metadata": {},
     "output_type": "execute_result"
    }
   ],
   "source": [
    "response.keys()"
   ]
  },
  {
   "cell_type": "code",
   "execution_count": 50,
   "id": "17cd4568",
   "metadata": {},
   "outputs": [
    {
     "data": {
      "text/plain": [
       "{'id': 4590809484623872,\n",
       " 'weather_state_name': 'Light Cloud',\n",
       " 'weather_state_abbr': 'lc',\n",
       " 'wind_direction_compass': 'ENE',\n",
       " 'created': '2021-10-13T19:34:25.875116Z',\n",
       " 'applicable_date': '2021-10-14',\n",
       " 'min_temp': 21.165,\n",
       " 'max_temp': 33.5,\n",
       " 'the_temp': 31.62,\n",
       " 'wind_speed': 9.009082754654152,\n",
       " 'wind_direction': 57.834143518671155,\n",
       " 'air_pressure': 1015.0,\n",
       " 'humidity': 41,\n",
       " 'visibility': 14.105747434979719,\n",
       " 'predictability': 70}"
      ]
     },
     "execution_count": 50,
     "metadata": {},
     "output_type": "execute_result"
    }
   ],
   "source": [
    "response['consolidated_weather'][0]"
   ]
  },
  {
   "cell_type": "code",
   "execution_count": 43,
   "id": "af095c6a",
   "metadata": {},
   "outputs": [
    {
     "data": {
      "text/plain": [
       "31.62"
      ]
     },
     "execution_count": 43,
     "metadata": {},
     "output_type": "execute_result"
    }
   ],
   "source": [
    "response['consolidated_weather'][0]['the_temp']"
   ]
  },
  {
   "cell_type": "code",
   "execution_count": 71,
   "id": "2cc4fa97",
   "metadata": {},
   "outputs": [],
   "source": [
    "def weather(day):    \n",
    "    the_temp = response['consolidated_weather'][day]['the_temp']\n",
    "    humidity = response['consolidated_weather'][day]['humidity']\n",
    "    visibility = response['consolidated_weather'][day]['visibility']\n",
    "    air_pressure = response['consolidated_weather'][day]['air_pressure']\n",
    "    wind_speed = response['consolidated_weather'][day]['wind_speed']\n",
    "    applicable_date = response['consolidated_weather'][day]['applicable_date']\n",
    "\n",
    "    data = {'the_temp':the_temp,'humidity':humidity,'visibility': visibility,'air_pressure': air_pressure,'wind_speed': wind_speed,'applicable_date': applicable_date}\n",
    "    return data\n",
    "    "
   ]
  },
  {
   "cell_type": "code",
   "execution_count": 72,
   "id": "ce6e14b6",
   "metadata": {},
   "outputs": [
    {
     "data": {
      "text/plain": [
       "{'the_temp': 31.62,\n",
       " 'humidity': 41,\n",
       " 'visibility': 14.105747434979719,\n",
       " 'air_pressure': 1015.0,\n",
       " 'wind_speed': 9.009082754654152,\n",
       " 'applicable_date': '2021-10-14'}"
      ]
     },
     "execution_count": 72,
     "metadata": {},
     "output_type": "execute_result"
    }
   ],
   "source": [
    "weather(0)"
   ]
  },
  {
   "cell_type": "code",
   "execution_count": 73,
   "id": "ec1c6740",
   "metadata": {},
   "outputs": [
    {
     "name": "stdout",
     "output_type": "stream",
     "text": [
      "{'the_temp': 31.62, 'humidity': 41, 'visibility': 14.105747434979719, 'air_pressure': 1015.0, 'wind_speed': 9.009082754654152, 'applicable_date': '2021-10-14'}\n",
      "{'the_temp': 28.875, 'humidity': 46, 'visibility': 13.92088950528911, 'air_pressure': 1016.5, 'wind_speed': 6.467798751788224, 'applicable_date': '2021-10-17'}\n",
      "{'the_temp': 26.02, 'humidity': 55, 'visibility': 9.999726596675416, 'air_pressure': 1021.0, 'wind_speed': 6.3946601845223885, 'applicable_date': '2021-10-19'}\n"
     ]
    }
   ],
   "source": [
    "#write in a csv file\n",
    "file = open('assignment 15 task 2 weather data.csv','w',newline = '')\n",
    "with file:\n",
    "    header = [\"the_temp\",\"humidity\",\"visibility\",\"air_pressure\",\"wind_speed\",\"applicable_date\"]\n",
    "    writer = csv.DictWriter(file, fieldnames = header)\n",
    "    writer.writeheader()\n",
    "    for i in (0,3,5):\n",
    "        print(weather(i))\n",
    "        writer.writerow(weather(i))\n",
    "    "
   ]
  },
  {
   "cell_type": "markdown",
   "id": "bebd1946",
   "metadata": {},
   "source": [
    "## Task 3\n",
    "### ---------\n",
    "### Use this web service \n",
    "### https://jsonplaceholder.typicode.com/users\n",
    "### and make a program that get all users data including name, username, email, street, suite, city, zip code, geo_lat, geo_long, phone, website, company name and then save them in a CSV & Excel file."
   ]
  },
  {
   "cell_type": "code",
   "execution_count": 95,
   "id": "99d2ce18",
   "metadata": {},
   "outputs": [],
   "source": [
    "response = requests.get(\"https://jsonplaceholder.typicode.com/users\").json()\n",
    "#response"
   ]
  },
  {
   "cell_type": "code",
   "execution_count": 82,
   "id": "4896c3f3",
   "metadata": {},
   "outputs": [
    {
     "data": {
      "text/plain": [
       "{'id': 1,\n",
       " 'name': 'Leanne Graham',\n",
       " 'username': 'Bret',\n",
       " 'email': 'Sincere@april.biz',\n",
       " 'address': {'street': 'Kulas Light',\n",
       "  'suite': 'Apt. 556',\n",
       "  'city': 'Gwenborough',\n",
       "  'zipcode': '92998-3874',\n",
       "  'geo': {'lat': '-37.3159', 'lng': '81.1496'}},\n",
       " 'phone': '1-770-736-8031 x56442',\n",
       " 'website': 'hildegard.org',\n",
       " 'company': {'name': 'Romaguera-Crona',\n",
       "  'catchPhrase': 'Multi-layered client-server neural-net',\n",
       "  'bs': 'harness real-time e-markets'}}"
      ]
     },
     "execution_count": 82,
     "metadata": {},
     "output_type": "execute_result"
    }
   ],
   "source": [
    "response[0]"
   ]
  },
  {
   "cell_type": "code",
   "execution_count": 91,
   "id": "752e1443",
   "metadata": {},
   "outputs": [],
   "source": [
    "def get_user(id):\n",
    "    name = response[id]['name']\n",
    "    username = response[id]['username']\n",
    "    email = response[id]['email']\n",
    "    street = response[id]['address']['street']\n",
    "    suite = response[id]['address']['suite']\n",
    "    city = response[id]['address']['city']\n",
    "    zipcode = response[id]['address']['zipcode']\n",
    "    geo_lat = response[id]['address']['geo']['lat']\n",
    "    geo_long= response[id]['address']['geo']['lng']\n",
    "    phone = response[id]['phone']\n",
    "    website = response[id]['website']\n",
    "    company_name = response[id]['company']['name']\n",
    "    return {\"name\": name, \"username\" : username , \"email\": email,\n",
    "            \"street\": street, \"suite\": suite, \"city\":city, \"zipcode\": zipcode,\n",
    "            \"geo_lat\": geo_lat, \"geo_long\": geo_long, \"phone\": phone, \"website\" : website,\n",
    "            \"company_name\" : company_name}"
   ]
  },
  {
   "cell_type": "code",
   "execution_count": 92,
   "id": "a95cd0cc",
   "metadata": {},
   "outputs": [
    {
     "data": {
      "text/plain": [
       "{'name': 'Ervin Howell',\n",
       " 'username': 'Antonette',\n",
       " 'email': 'Shanna@melissa.tv',\n",
       " 'street': 'Victor Plains',\n",
       " 'suite': 'Suite 879',\n",
       " 'city': 'Wisokyburgh',\n",
       " 'zipcode': '90566-7771',\n",
       " 'geo_lat': '-43.9509',\n",
       " 'geo_long': '-34.4618',\n",
       " 'phone': '010-692-6593 x09125',\n",
       " 'website': 'anastasia.net',\n",
       " 'company_name': 'Deckow-Crist'}"
      ]
     },
     "execution_count": 92,
     "metadata": {},
     "output_type": "execute_result"
    }
   ],
   "source": [
    "get_user(1)"
   ]
  },
  {
   "cell_type": "code",
   "execution_count": 96,
   "id": "2361c9bc",
   "metadata": {},
   "outputs": [
    {
     "name": "stdout",
     "output_type": "stream",
     "text": [
      "{'name': 'Leanne Graham', 'username': 'Bret', 'email': 'Sincere@april.biz', 'street': 'Kulas Light', 'suite': 'Apt. 556', 'city': 'Gwenborough', 'zipcode': '92998-3874', 'geo_lat': '-37.3159', 'geo_long': '81.1496', 'phone': '1-770-736-8031 x56442', 'website': 'hildegard.org', 'company_name': 'Romaguera-Crona'}\n",
      "{'name': 'Ervin Howell', 'username': 'Antonette', 'email': 'Shanna@melissa.tv', 'street': 'Victor Plains', 'suite': 'Suite 879', 'city': 'Wisokyburgh', 'zipcode': '90566-7771', 'geo_lat': '-43.9509', 'geo_long': '-34.4618', 'phone': '010-692-6593 x09125', 'website': 'anastasia.net', 'company_name': 'Deckow-Crist'}\n",
      "{'name': 'Clementine Bauch', 'username': 'Samantha', 'email': 'Nathan@yesenia.net', 'street': 'Douglas Extension', 'suite': 'Suite 847', 'city': 'McKenziehaven', 'zipcode': '59590-4157', 'geo_lat': '-68.6102', 'geo_long': '-47.0653', 'phone': '1-463-123-4447', 'website': 'ramiro.info', 'company_name': 'Romaguera-Jacobson'}\n",
      "{'name': 'Patricia Lebsack', 'username': 'Karianne', 'email': 'Julianne.OConner@kory.org', 'street': 'Hoeger Mall', 'suite': 'Apt. 692', 'city': 'South Elvis', 'zipcode': '53919-4257', 'geo_lat': '29.4572', 'geo_long': '-164.2990', 'phone': '493-170-9623 x156', 'website': 'kale.biz', 'company_name': 'Robel-Corkery'}\n",
      "{'name': 'Chelsey Dietrich', 'username': 'Kamren', 'email': 'Lucio_Hettinger@annie.ca', 'street': 'Skiles Walks', 'suite': 'Suite 351', 'city': 'Roscoeview', 'zipcode': '33263', 'geo_lat': '-31.8129', 'geo_long': '62.5342', 'phone': '(254)954-1289', 'website': 'demarco.info', 'company_name': 'Keebler LLC'}\n",
      "{'name': 'Mrs. Dennis Schulist', 'username': 'Leopoldo_Corkery', 'email': 'Karley_Dach@jasper.info', 'street': 'Norberto Crossing', 'suite': 'Apt. 950', 'city': 'South Christy', 'zipcode': '23505-1337', 'geo_lat': '-71.4197', 'geo_long': '71.7478', 'phone': '1-477-935-8478 x6430', 'website': 'ola.org', 'company_name': 'Considine-Lockman'}\n",
      "{'name': 'Kurtis Weissnat', 'username': 'Elwyn.Skiles', 'email': 'Telly.Hoeger@billy.biz', 'street': 'Rex Trail', 'suite': 'Suite 280', 'city': 'Howemouth', 'zipcode': '58804-1099', 'geo_lat': '24.8918', 'geo_long': '21.8984', 'phone': '210.067.6132', 'website': 'elvis.io', 'company_name': 'Johns Group'}\n",
      "{'name': 'Nicholas Runolfsdottir V', 'username': 'Maxime_Nienow', 'email': 'Sherwood@rosamond.me', 'street': 'Ellsworth Summit', 'suite': 'Suite 729', 'city': 'Aliyaview', 'zipcode': '45169', 'geo_lat': '-14.3990', 'geo_long': '-120.7677', 'phone': '586.493.6943 x140', 'website': 'jacynthe.com', 'company_name': 'Abernathy Group'}\n",
      "{'name': 'Glenna Reichert', 'username': 'Delphine', 'email': 'Chaim_McDermott@dana.io', 'street': 'Dayna Park', 'suite': 'Suite 449', 'city': 'Bartholomebury', 'zipcode': '76495-3109', 'geo_lat': '24.6463', 'geo_long': '-168.8889', 'phone': '(775)976-6794 x41206', 'website': 'conrad.com', 'company_name': 'Yost and Sons'}\n",
      "{'name': 'Clementina DuBuque', 'username': 'Moriah.Stanton', 'email': 'Rey.Padberg@karina.biz', 'street': 'Kattie Turnpike', 'suite': 'Suite 198', 'city': 'Lebsackbury', 'zipcode': '31428-2261', 'geo_lat': '-38.2386', 'geo_long': '57.2232', 'phone': '024-648-3804', 'website': 'ambrose.net', 'company_name': 'Hoeger LLC'}\n"
     ]
    }
   ],
   "source": [
    "#write in a csv file\n",
    "file = open('assignment 15 task 3 user data.csv','w',newline = '')\n",
    "with file:\n",
    "    header = [\"name\",\"username\",\"email\",\"street\",\"suite\",\"city\",\"zipcode\",\"geo_lat\",\"geo_long\",\"phone\",\"website\",\"company_name\"]\n",
    "    writer = csv.DictWriter(file, fieldnames = header)\n",
    "    writer.writeheader()\n",
    "    for i in range(len(response)):\n",
    "        print(get_user(i))\n",
    "        writer.writerow(get_user(i))"
   ]
  },
  {
   "cell_type": "code",
   "execution_count": null,
   "id": "d5f22b4b",
   "metadata": {},
   "outputs": [],
   "source": []
  }
 ],
 "metadata": {
  "kernelspec": {
   "display_name": "Python 3",
   "language": "python",
   "name": "python3"
  },
  "language_info": {
   "codemirror_mode": {
    "name": "ipython",
    "version": 3
   },
   "file_extension": ".py",
   "mimetype": "text/x-python",
   "name": "python",
   "nbconvert_exporter": "python",
   "pygments_lexer": "ipython3",
   "version": "3.8.8"
  }
 },
 "nbformat": 4,
 "nbformat_minor": 5
}
