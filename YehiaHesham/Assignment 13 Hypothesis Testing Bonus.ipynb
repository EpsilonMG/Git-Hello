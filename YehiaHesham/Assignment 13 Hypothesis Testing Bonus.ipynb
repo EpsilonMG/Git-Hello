{
 "cells": [
  {
   "cell_type": "code",
   "execution_count": 1,
   "source": [
    "import pandas as pd\r\n",
    "import numpy as np\r\n",
    "import matplotlib.pyplot as plt"
   ],
   "outputs": [],
   "metadata": {}
  },
  {
   "cell_type": "code",
   "execution_count": 2,
   "source": [
    "data = pd.read_csv(\"classroom_actions.csv\")"
   ],
   "outputs": [],
   "metadata": {}
  },
  {
   "cell_type": "code",
   "execution_count": 14,
   "source": [
    "data.head()"
   ],
   "outputs": [
    {
     "output_type": "execute_result",
     "data": {
      "text/html": [
       "<div>\n",
       "<style scoped>\n",
       "    .dataframe tbody tr th:only-of-type {\n",
       "        vertical-align: middle;\n",
       "    }\n",
       "\n",
       "    .dataframe tbody tr th {\n",
       "        vertical-align: top;\n",
       "    }\n",
       "\n",
       "    .dataframe thead th {\n",
       "        text-align: right;\n",
       "    }\n",
       "</style>\n",
       "<table border=\"1\" class=\"dataframe\">\n",
       "  <thead>\n",
       "    <tr style=\"text-align: right;\">\n",
       "      <th></th>\n",
       "      <th>timestamp</th>\n",
       "      <th>id</th>\n",
       "      <th>group</th>\n",
       "      <th>total_days</th>\n",
       "      <th>completed</th>\n",
       "    </tr>\n",
       "  </thead>\n",
       "  <tbody>\n",
       "    <tr>\n",
       "      <th>0</th>\n",
       "      <td>2015-08-10 17:06:01.032740</td>\n",
       "      <td>610019</td>\n",
       "      <td>experiment</td>\n",
       "      <td>97</td>\n",
       "      <td>True</td>\n",
       "    </tr>\n",
       "    <tr>\n",
       "      <th>1</th>\n",
       "      <td>2015-08-10 17:15:28.950975</td>\n",
       "      <td>690224</td>\n",
       "      <td>control</td>\n",
       "      <td>75</td>\n",
       "      <td>False</td>\n",
       "    </tr>\n",
       "    <tr>\n",
       "      <th>2</th>\n",
       "      <td>2015-08-10 17:34:40.920384</td>\n",
       "      <td>564994</td>\n",
       "      <td>experiment</td>\n",
       "      <td>128</td>\n",
       "      <td>True</td>\n",
       "    </tr>\n",
       "    <tr>\n",
       "      <th>3</th>\n",
       "      <td>2015-08-10 17:50:39.847374</td>\n",
       "      <td>849588</td>\n",
       "      <td>experiment</td>\n",
       "      <td>66</td>\n",
       "      <td>False</td>\n",
       "    </tr>\n",
       "    <tr>\n",
       "      <th>4</th>\n",
       "      <td>2015-08-10 19:10:40.650599</td>\n",
       "      <td>849826</td>\n",
       "      <td>experiment</td>\n",
       "      <td>34</td>\n",
       "      <td>False</td>\n",
       "    </tr>\n",
       "  </tbody>\n",
       "</table>\n",
       "</div>"
      ],
      "text/plain": [
       "                    timestamp      id       group  total_days  completed\n",
       "0  2015-08-10 17:06:01.032740  610019  experiment          97       True\n",
       "1  2015-08-10 17:15:28.950975  690224     control          75      False\n",
       "2  2015-08-10 17:34:40.920384  564994  experiment         128       True\n",
       "3  2015-08-10 17:50:39.847374  849588  experiment          66      False\n",
       "4  2015-08-10 19:10:40.650599  849826  experiment          34      False"
      ]
     },
     "metadata": {},
     "execution_count": 14
    }
   ],
   "metadata": {}
  },
  {
   "cell_type": "code",
   "execution_count": 15,
   "source": [
    "data.describe()"
   ],
   "outputs": [
    {
     "output_type": "execute_result",
     "data": {
      "text/html": [
       "<div>\n",
       "<style scoped>\n",
       "    .dataframe tbody tr th:only-of-type {\n",
       "        vertical-align: middle;\n",
       "    }\n",
       "\n",
       "    .dataframe tbody tr th {\n",
       "        vertical-align: top;\n",
       "    }\n",
       "\n",
       "    .dataframe thead th {\n",
       "        text-align: right;\n",
       "    }\n",
       "</style>\n",
       "<table border=\"1\" class=\"dataframe\">\n",
       "  <thead>\n",
       "    <tr style=\"text-align: right;\">\n",
       "      <th></th>\n",
       "      <th>id</th>\n",
       "      <th>total_days</th>\n",
       "    </tr>\n",
       "  </thead>\n",
       "  <tbody>\n",
       "    <tr>\n",
       "      <th>count</th>\n",
       "      <td>3829.000000</td>\n",
       "      <td>3829.000000</td>\n",
       "    </tr>\n",
       "    <tr>\n",
       "      <th>mean</th>\n",
       "      <td>558788.794724</td>\n",
       "      <td>74.105511</td>\n",
       "    </tr>\n",
       "    <tr>\n",
       "      <th>std</th>\n",
       "      <td>215527.500503</td>\n",
       "      <td>22.400106</td>\n",
       "    </tr>\n",
       "    <tr>\n",
       "      <th>min</th>\n",
       "      <td>182951.000000</td>\n",
       "      <td>1.000000</td>\n",
       "    </tr>\n",
       "    <tr>\n",
       "      <th>25%</th>\n",
       "      <td>375055.000000</td>\n",
       "      <td>58.000000</td>\n",
       "    </tr>\n",
       "    <tr>\n",
       "      <th>50%</th>\n",
       "      <td>560227.000000</td>\n",
       "      <td>74.000000</td>\n",
       "    </tr>\n",
       "    <tr>\n",
       "      <th>75%</th>\n",
       "      <td>741535.000000</td>\n",
       "      <td>91.000000</td>\n",
       "    </tr>\n",
       "    <tr>\n",
       "      <th>max</th>\n",
       "      <td>937032.000000</td>\n",
       "      <td>135.000000</td>\n",
       "    </tr>\n",
       "  </tbody>\n",
       "</table>\n",
       "</div>"
      ],
      "text/plain": [
       "                  id   total_days\n",
       "count    3829.000000  3829.000000\n",
       "mean   558788.794724    74.105511\n",
       "std    215527.500503    22.400106\n",
       "min    182951.000000     1.000000\n",
       "25%    375055.000000    58.000000\n",
       "50%    560227.000000    74.000000\n",
       "75%    741535.000000    91.000000\n",
       "max    937032.000000   135.000000"
      ]
     },
     "metadata": {},
     "execution_count": 15
    }
   ],
   "metadata": {}
  },
  {
   "cell_type": "code",
   "execution_count": null,
   "source": [],
   "outputs": [],
   "metadata": {}
  },
  {
   "cell_type": "markdown",
   "source": [
    "# 1)Make initial assumption #\n",
    "\n",
    "### Null Hypothesis: average completion rate  for 'experiment' is smaller than or equal to the average completion rate for 'control' ###\n",
    "##### Null Hypothesis: Avg(Experiment.completed)-Avg(control.completed) <=0 #####\n",
    "\n",
    "### Alternative Hypothesis: average completion rate  for 'experiment' is bigger than the average completion rate for 'control' ###\n",
    "##### Alternative Hypothesis: Avg(Experiment.completed)-Avg(control.completed) > 0 #####"
   ],
   "metadata": {}
  },
  {
   "cell_type": "markdown",
   "source": [
    "# 2)Gather Data #"
   ],
   "metadata": {}
  },
  {
   "cell_type": "markdown",
   "source": [
    "### Group 'experiment' completion rate = len(completed) / len(all) ###"
   ],
   "metadata": {}
  },
  {
   "cell_type": "code",
   "execution_count": 41,
   "source": [
    "comp_experiment = data.query(\"group == 'experiment'and completed == True\")\n",
    "comp_experiment.sample(5)"
   ],
   "outputs": [
    {
     "output_type": "execute_result",
     "data": {
      "text/html": [
       "<div>\n",
       "<style scoped>\n",
       "    .dataframe tbody tr th:only-of-type {\n",
       "        vertical-align: middle;\n",
       "    }\n",
       "\n",
       "    .dataframe tbody tr th {\n",
       "        vertical-align: top;\n",
       "    }\n",
       "\n",
       "    .dataframe thead th {\n",
       "        text-align: right;\n",
       "    }\n",
       "</style>\n",
       "<table border=\"1\" class=\"dataframe\">\n",
       "  <thead>\n",
       "    <tr style=\"text-align: right;\">\n",
       "      <th></th>\n",
       "      <th>timestamp</th>\n",
       "      <th>id</th>\n",
       "      <th>group</th>\n",
       "      <th>total_days</th>\n",
       "      <th>completed</th>\n",
       "    </tr>\n",
       "  </thead>\n",
       "  <tbody>\n",
       "    <tr>\n",
       "      <th>1317</th>\n",
       "      <td>2015-10-04 13:15:45.120477</td>\n",
       "      <td>831056</td>\n",
       "      <td>experiment</td>\n",
       "      <td>93</td>\n",
       "      <td>True</td>\n",
       "    </tr>\n",
       "    <tr>\n",
       "      <th>146</th>\n",
       "      <td>2015-08-16 18:05:33.246828</td>\n",
       "      <td>638893</td>\n",
       "      <td>experiment</td>\n",
       "      <td>91</td>\n",
       "      <td>True</td>\n",
       "    </tr>\n",
       "    <tr>\n",
       "      <th>2774</th>\n",
       "      <td>2015-12-06 00:44:29.065453</td>\n",
       "      <td>472585</td>\n",
       "      <td>experiment</td>\n",
       "      <td>100</td>\n",
       "      <td>True</td>\n",
       "    </tr>\n",
       "    <tr>\n",
       "      <th>421</th>\n",
       "      <td>2015-08-28 17:15:19.975863</td>\n",
       "      <td>819129</td>\n",
       "      <td>experiment</td>\n",
       "      <td>114</td>\n",
       "      <td>True</td>\n",
       "    </tr>\n",
       "    <tr>\n",
       "      <th>2596</th>\n",
       "      <td>2015-11-28 03:16:32.500295</td>\n",
       "      <td>406749</td>\n",
       "      <td>experiment</td>\n",
       "      <td>84</td>\n",
       "      <td>True</td>\n",
       "    </tr>\n",
       "  </tbody>\n",
       "</table>\n",
       "</div>"
      ],
      "text/plain": [
       "                       timestamp      id       group  total_days  completed\n",
       "1317  2015-10-04 13:15:45.120477  831056  experiment          93       True\n",
       "146   2015-08-16 18:05:33.246828  638893  experiment          91       True\n",
       "2774  2015-12-06 00:44:29.065453  472585  experiment         100       True\n",
       "421   2015-08-28 17:15:19.975863  819129  experiment         114       True\n",
       "2596  2015-11-28 03:16:32.500295  406749  experiment          84       True"
      ]
     },
     "metadata": {},
     "execution_count": 41
    }
   ],
   "metadata": {}
  },
  {
   "cell_type": "code",
   "execution_count": 42,
   "source": [
    "all_experiment = data.query(\"group == 'experiment'\")\n",
    "all_experiment.sample(5)"
   ],
   "outputs": [
    {
     "output_type": "execute_result",
     "data": {
      "text/html": [
       "<div>\n",
       "<style scoped>\n",
       "    .dataframe tbody tr th:only-of-type {\n",
       "        vertical-align: middle;\n",
       "    }\n",
       "\n",
       "    .dataframe tbody tr th {\n",
       "        vertical-align: top;\n",
       "    }\n",
       "\n",
       "    .dataframe thead th {\n",
       "        text-align: right;\n",
       "    }\n",
       "</style>\n",
       "<table border=\"1\" class=\"dataframe\">\n",
       "  <thead>\n",
       "    <tr style=\"text-align: right;\">\n",
       "      <th></th>\n",
       "      <th>timestamp</th>\n",
       "      <th>id</th>\n",
       "      <th>group</th>\n",
       "      <th>total_days</th>\n",
       "      <th>completed</th>\n",
       "    </tr>\n",
       "  </thead>\n",
       "  <tbody>\n",
       "    <tr>\n",
       "      <th>196</th>\n",
       "      <td>2015-08-19 00:50:39.329924</td>\n",
       "      <td>363216</td>\n",
       "      <td>experiment</td>\n",
       "      <td>73</td>\n",
       "      <td>True</td>\n",
       "    </tr>\n",
       "    <tr>\n",
       "      <th>2773</th>\n",
       "      <td>2015-12-06 00:02:07.452008</td>\n",
       "      <td>337718</td>\n",
       "      <td>experiment</td>\n",
       "      <td>65</td>\n",
       "      <td>False</td>\n",
       "    </tr>\n",
       "    <tr>\n",
       "      <th>857</th>\n",
       "      <td>2015-09-16 13:44:22.337463</td>\n",
       "      <td>539548</td>\n",
       "      <td>experiment</td>\n",
       "      <td>60</td>\n",
       "      <td>False</td>\n",
       "    </tr>\n",
       "    <tr>\n",
       "      <th>308</th>\n",
       "      <td>2015-08-23 18:20:25.087628</td>\n",
       "      <td>502525</td>\n",
       "      <td>experiment</td>\n",
       "      <td>62</td>\n",
       "      <td>False</td>\n",
       "    </tr>\n",
       "    <tr>\n",
       "      <th>2102</th>\n",
       "      <td>2015-11-06 10:14:48.605772</td>\n",
       "      <td>321412</td>\n",
       "      <td>experiment</td>\n",
       "      <td>74</td>\n",
       "      <td>False</td>\n",
       "    </tr>\n",
       "  </tbody>\n",
       "</table>\n",
       "</div>"
      ],
      "text/plain": [
       "                       timestamp      id       group  total_days  completed\n",
       "196   2015-08-19 00:50:39.329924  363216  experiment          73       True\n",
       "2773  2015-12-06 00:02:07.452008  337718  experiment          65      False\n",
       "857   2015-09-16 13:44:22.337463  539548  experiment          60      False\n",
       "308   2015-08-23 18:20:25.087628  502525  experiment          62      False\n",
       "2102  2015-11-06 10:14:48.605772  321412  experiment          74      False"
      ]
     },
     "metadata": {},
     "execution_count": 42
    }
   ],
   "metadata": {}
  },
  {
   "cell_type": "code",
   "execution_count": 30,
   "source": [
    "comp_rate_experiment = len(comp_experiment) / len(all_experiment)\n",
    "comp_rate_experiment  "
   ],
   "outputs": [
    {
     "output_type": "execute_result",
     "data": {
      "text/plain": [
       "0.3935334872979215"
      ]
     },
     "metadata": {},
     "execution_count": 30
    }
   ],
   "metadata": {}
  },
  {
   "cell_type": "markdown",
   "source": [
    "### Group 'control' completion rate = len(completed) / len(all) ###"
   ],
   "metadata": {}
  },
  {
   "cell_type": "code",
   "execution_count": 40,
   "source": [
    "comp_control = data.query(\"group == 'control'and completed == True\")\n",
    "comp_control.sample(5)"
   ],
   "outputs": [
    {
     "output_type": "execute_result",
     "data": {
      "text/html": [
       "<div>\n",
       "<style scoped>\n",
       "    .dataframe tbody tr th:only-of-type {\n",
       "        vertical-align: middle;\n",
       "    }\n",
       "\n",
       "    .dataframe tbody tr th {\n",
       "        vertical-align: top;\n",
       "    }\n",
       "\n",
       "    .dataframe thead th {\n",
       "        text-align: right;\n",
       "    }\n",
       "</style>\n",
       "<table border=\"1\" class=\"dataframe\">\n",
       "  <thead>\n",
       "    <tr style=\"text-align: right;\">\n",
       "      <th></th>\n",
       "      <th>timestamp</th>\n",
       "      <th>id</th>\n",
       "      <th>group</th>\n",
       "      <th>total_days</th>\n",
       "      <th>completed</th>\n",
       "    </tr>\n",
       "  </thead>\n",
       "  <tbody>\n",
       "    <tr>\n",
       "      <th>1582</th>\n",
       "      <td>2015-10-16 04:27:19.506315</td>\n",
       "      <td>309160</td>\n",
       "      <td>control</td>\n",
       "      <td>102</td>\n",
       "      <td>True</td>\n",
       "    </tr>\n",
       "    <tr>\n",
       "      <th>1134</th>\n",
       "      <td>2015-09-26 18:55:06.238950</td>\n",
       "      <td>793927</td>\n",
       "      <td>control</td>\n",
       "      <td>94</td>\n",
       "      <td>True</td>\n",
       "    </tr>\n",
       "    <tr>\n",
       "      <th>1599</th>\n",
       "      <td>2015-10-16 19:16:26.463754</td>\n",
       "      <td>698934</td>\n",
       "      <td>control</td>\n",
       "      <td>100</td>\n",
       "      <td>True</td>\n",
       "    </tr>\n",
       "    <tr>\n",
       "      <th>3278</th>\n",
       "      <td>2015-12-27 21:31:24.158829</td>\n",
       "      <td>698472</td>\n",
       "      <td>control</td>\n",
       "      <td>99</td>\n",
       "      <td>True</td>\n",
       "    </tr>\n",
       "    <tr>\n",
       "      <th>1533</th>\n",
       "      <td>2015-10-14 04:45:22.056463</td>\n",
       "      <td>559449</td>\n",
       "      <td>control</td>\n",
       "      <td>87</td>\n",
       "      <td>True</td>\n",
       "    </tr>\n",
       "  </tbody>\n",
       "</table>\n",
       "</div>"
      ],
      "text/plain": [
       "                       timestamp      id    group  total_days  completed\n",
       "1582  2015-10-16 04:27:19.506315  309160  control         102       True\n",
       "1134  2015-09-26 18:55:06.238950  793927  control          94       True\n",
       "1599  2015-10-16 19:16:26.463754  698934  control         100       True\n",
       "3278  2015-12-27 21:31:24.158829  698472  control          99       True\n",
       "1533  2015-10-14 04:45:22.056463  559449  control          87       True"
      ]
     },
     "metadata": {},
     "execution_count": 40
    }
   ],
   "metadata": {}
  },
  {
   "cell_type": "code",
   "execution_count": 39,
   "source": [
    "all_control = data.query(\"group == 'control'\")\n",
    "all_control.sample(5)"
   ],
   "outputs": [
    {
     "output_type": "execute_result",
     "data": {
      "text/html": [
       "<div>\n",
       "<style scoped>\n",
       "    .dataframe tbody tr th:only-of-type {\n",
       "        vertical-align: middle;\n",
       "    }\n",
       "\n",
       "    .dataframe tbody tr th {\n",
       "        vertical-align: top;\n",
       "    }\n",
       "\n",
       "    .dataframe thead th {\n",
       "        text-align: right;\n",
       "    }\n",
       "</style>\n",
       "<table border=\"1\" class=\"dataframe\">\n",
       "  <thead>\n",
       "    <tr style=\"text-align: right;\">\n",
       "      <th></th>\n",
       "      <th>timestamp</th>\n",
       "      <th>id</th>\n",
       "      <th>group</th>\n",
       "      <th>total_days</th>\n",
       "      <th>completed</th>\n",
       "    </tr>\n",
       "  </thead>\n",
       "  <tbody>\n",
       "    <tr>\n",
       "      <th>2078</th>\n",
       "      <td>2015-11-05 08:43:20.612847</td>\n",
       "      <td>588490</td>\n",
       "      <td>control</td>\n",
       "      <td>61</td>\n",
       "      <td>True</td>\n",
       "    </tr>\n",
       "    <tr>\n",
       "      <th>1475</th>\n",
       "      <td>2015-10-11 16:17:48.789879</td>\n",
       "      <td>842233</td>\n",
       "      <td>control</td>\n",
       "      <td>122</td>\n",
       "      <td>True</td>\n",
       "    </tr>\n",
       "    <tr>\n",
       "      <th>3823</th>\n",
       "      <td>2016-01-19 09:14:30.737835</td>\n",
       "      <td>613816</td>\n",
       "      <td>control</td>\n",
       "      <td>63</td>\n",
       "      <td>False</td>\n",
       "    </tr>\n",
       "    <tr>\n",
       "      <th>1663</th>\n",
       "      <td>2015-10-19 18:17:14.294952</td>\n",
       "      <td>867075</td>\n",
       "      <td>control</td>\n",
       "      <td>98</td>\n",
       "      <td>False</td>\n",
       "    </tr>\n",
       "    <tr>\n",
       "      <th>2537</th>\n",
       "      <td>2015-11-25 08:38:17.820872</td>\n",
       "      <td>266492</td>\n",
       "      <td>control</td>\n",
       "      <td>101</td>\n",
       "      <td>True</td>\n",
       "    </tr>\n",
       "  </tbody>\n",
       "</table>\n",
       "</div>"
      ],
      "text/plain": [
       "                       timestamp      id    group  total_days  completed\n",
       "2078  2015-11-05 08:43:20.612847  588490  control          61       True\n",
       "1475  2015-10-11 16:17:48.789879  842233  control         122       True\n",
       "3823  2016-01-19 09:14:30.737835  613816  control          63      False\n",
       "1663  2015-10-19 18:17:14.294952  867075  control          98      False\n",
       "2537  2015-11-25 08:38:17.820872  266492  control         101       True"
      ]
     },
     "metadata": {},
     "execution_count": 39
    }
   ],
   "metadata": {}
  },
  {
   "cell_type": "code",
   "execution_count": 33,
   "source": [
    "comp_rate_control = len(comp_control) / len(all_control)\n",
    "comp_rate_control  "
   ],
   "outputs": [
    {
     "output_type": "execute_result",
     "data": {
      "text/plain": [
       "0.3719951923076923"
      ]
     },
     "metadata": {},
     "execution_count": 33
    }
   ],
   "metadata": {}
  },
  {
   "cell_type": "markdown",
   "source": [
    "# 2.1) Calculate Observed value #\n",
    "# (difference between both rates) #"
   ],
   "metadata": {}
  },
  {
   "cell_type": "code",
   "execution_count": 44,
   "source": [
    "#the observable difference in one instance (on the whole population)\n",
    "observed_difference = comp_rate_experiment - comp_rate_control\n",
    "observed_difference"
   ],
   "outputs": [
    {
     "output_type": "execute_result",
     "data": {
      "text/plain": [
       "0.02153829499022919"
      ]
     },
     "metadata": {},
     "execution_count": 44
    }
   ],
   "metadata": {}
  },
  {
   "cell_type": "code",
   "execution_count": 56,
   "source": [
    "#creating a population of the difference by re-running the experiment over and over again\n",
    "difference = []\n",
    "for _ in range(4000):\n",
    "    sample = data.sample(100, replace = True)\n",
    "    sample_C_rate_experiment = len(sample.query(\"group == 'experiment'and completed == True\")) / len(sample.query(\"group == 'experiment'\"))\n",
    "    sample_C_rate_control = len(sample.query(\"group == 'control'and completed == True\")) / len(sample.query(\"group == 'control'\"))\n",
    "    sample_c_diff = sample_C_rate_experiment - sample_C_rate_control\n",
    "    difference.append(sample_c_diff)"
   ],
   "outputs": [],
   "metadata": {}
  },
  {
   "cell_type": "code",
   "execution_count": 47,
   "source": [
    "print(np.array(difference).mean())\n",
    "difference[:20]"
   ],
   "outputs": [
    {
     "output_type": "stream",
     "name": "stdout",
     "text": [
      "0.020131102555906347\n"
     ]
    },
    {
     "output_type": "execute_result",
     "data": {
      "text/plain": [
       "[0.23232323232323232,\n",
       " -0.07303141574867406,\n",
       " 0.138752052545156,\n",
       " -0.03945249597423511,\n",
       " -0.058292282430213505,\n",
       " 0.03676470588235292,\n",
       " 0.0485516115871073,\n",
       " 0.168081494057725,\n",
       " -0.12364945978391356,\n",
       " 0.0907944514501891,\n",
       " 0.05769230769230771,\n",
       " -0.13749490004079967,\n",
       " 0.05252525252525253,\n",
       " 0.15833333333333333,\n",
       " 0.11616370400992143,\n",
       " 0.16459253311922925,\n",
       " 0.07291666666666669,\n",
       " -0.015295576684580425,\n",
       " 0.01999184006527943,\n",
       " -0.03741067675493903]"
      ]
     },
     "metadata": {},
     "execution_count": 47
    }
   ],
   "metadata": {}
  },
  {
   "cell_type": "code",
   "execution_count": 53,
   "source": [
    "#the observable difference's population is a normal distribution (Law)\n",
    "plt.hist(difference)"
   ],
   "outputs": [
    {
     "output_type": "execute_result",
     "data": {
      "text/plain": [
       "(array([   8.,   61.,  242.,  577.,  911., 1010.,  707.,  360.,  105.,\n",
       "          19.]),\n",
       " array([-0.30844156, -0.24448052, -0.18051948, -0.11655844, -0.0525974 ,\n",
       "         0.01136364,  0.07532468,  0.13928571,  0.20324675,  0.26720779,\n",
       "         0.33116883]),\n",
       " <BarContainer object of 10 artists>)"
      ]
     },
     "metadata": {},
     "execution_count": 53
    },
    {
     "output_type": "display_data",
     "data": {
      "image/png": "[encoded data removed]",
      "text/plain": [
       "<Figure size 432x288 with 1 Axes>"
      ]
     },
     "metadata": {
      "needs_background": "light"
     }
    }
   ],
   "metadata": {}
  },
  {
   "cell_type": "markdown",
   "source": [
    "## 2.2)Calculate The Null Hypothesis (Normal curve, average difference is 0) ##"
   ],
   "metadata": {}
  },
  {
   "cell_type": "code",
   "execution_count": 54,
   "source": [
    "diff = np.array(difference)\n",
    "normal = np.random.normal(0,diff.std(),diff.size)   #(center,standard deviation,size)\n",
    "plt.hist(normal)"
   ],
   "outputs": [
    {
     "output_type": "execute_result",
     "data": {
      "text/plain": [
       "(array([1.000e+00, 1.500e+01, 7.500e+01, 3.420e+02, 8.050e+02, 1.134e+03,\n",
       "        8.920e+02, 5.180e+02, 1.780e+02, 4.000e+01]),\n",
       " array([-0.40072054, -0.33012424, -0.25952794, -0.18893164, -0.11833533,\n",
       "        -0.04773903,  0.02285727,  0.09345357,  0.16404987,  0.23464618,\n",
       "         0.30524248]),\n",
       " <BarContainer object of 10 artists>)"
      ]
     },
     "metadata": {},
     "execution_count": 54
    },
    {
     "output_type": "display_data",
     "data": {
      "image/png": "[encoded data removed]",
      "text/plain": [
       "<Figure size 432x288 with 1 Axes>"
      ]
     },
     "metadata": {
      "needs_background": "light"
     }
    }
   ],
   "metadata": {}
  },
  {
   "cell_type": "markdown",
   "source": [
    "## Plotting the Null hypothesis mean ( = 0) on the difference population distribution ##"
   ],
   "metadata": {}
  },
  {
   "cell_type": "code",
   "execution_count": 55,
   "source": [
    "plt.hist(normal)\n",
    "plt.axvline(x = observed_difference, c = \"red\")"
   ],
   "outputs": [
    {
     "output_type": "execute_result",
     "data": {
      "text/plain": [
       "<matplotlib.lines.Line2D at 0x22907231970>"
      ]
     },
     "metadata": {},
     "execution_count": 55
    },
    {
     "output_type": "display_data",
     "data": {
      "image/png": "[encoded data removed]",
      "text/plain": [
       "<Figure size 432x288 with 1 Axes>"
      ]
     },
     "metadata": {
      "needs_background": "light"
     }
    }
   ],
   "metadata": {}
  },
  {
   "cell_type": "markdown",
   "source": [
    "## 2.3)Calucating the P value ##"
   ],
   "metadata": {}
  },
  {
   "cell_type": "markdown",
   "source": [
    "## P value: probability of the Null hypothesis is Right/Wrong ##\n",
    "### P < 5% or 0.05 ==> the Null hypothesis is wrong, adopt the alternative hypothesis ###\n",
    "### P >= 5% or 0.05 ==> the Null hypothesis is right, keep current state ###"
   ],
   "metadata": {}
  },
  {
   "cell_type": "code",
   "execution_count": 52,
   "source": [
    "p_value =(observed_difference>normal).mean()\n",
    "p_value"
   ],
   "outputs": [
    {
     "output_type": "execute_result",
     "data": {
      "text/plain": [
       "0.596"
      ]
     },
     "metadata": {},
     "execution_count": 52
    }
   ],
   "metadata": {}
  },
  {
   "cell_type": "markdown",
   "source": [
    "# === Conclution, Null hypothesis is right, keep current state === #"
   ],
   "metadata": {}
  }
 ],
 "metadata": {
  "kernelspec": {
   "name": "python3",
   "display_name": "Python 3.7.6 64-bit ('base': conda)"
  },
  "language_info": {
   "codemirror_mode": {
    "name": "ipython",
    "version": 3
   },
   "file_extension": ".py",
   "mimetype": "text/x-python",
   "name": "python",
   "nbconvert_exporter": "python",
   "pygments_lexer": "ipython3",
   "version": "3.7.6"
  },
  "interpreter": {
   "hash": "829e4e434e4ff341246e70d39d0503d3f0ae568302731c58bb5d8f747ac7b856"
  }
 },
 "nbformat": 4,
 "nbformat_minor": 5
}