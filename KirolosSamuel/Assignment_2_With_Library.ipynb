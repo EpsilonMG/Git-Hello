{
 "cells": [
  {
   "cell_type": "markdown",
   "id": "responsible-flour",
   "metadata": {},
   "source": [
    "### 1. Statistics Calculation with library"
   ]
  },
  {
   "cell_type": "code",
   "execution_count": 4,
   "id": "accepted-employment",
   "metadata": {},
   "outputs": [
    {
     "name": "stdout",
     "output_type": "stream",
     "text": [
      "12\n"
     ]
    }
   ],
   "source": [
    "#odd list\n",
    "lst=[1,3,55,66,3,66,3,9]\n",
    "#even list\n",
    "lst2_test=[1, 3, 4, 4, 5, 8, 48, 411, 788, 4512, 12547, 32574]\n",
    "print(len(lst2_test))"
   ]
  },
  {
   "cell_type": "code",
   "execution_count": 5,
   "id": "dress-summit",
   "metadata": {},
   "outputs": [],
   "source": [
    "from statistics import mean,median,mode,variance"
   ]
  },
  {
   "cell_type": "markdown",
   "id": "bronze-wrong",
   "metadata": {},
   "source": [
    "#### 1.1. Mean Calculation"
   ]
  },
  {
   "cell_type": "code",
   "execution_count": 6,
   "id": "dominant-subsection",
   "metadata": {},
   "outputs": [
    {
     "name": "stdout",
     "output_type": "stream",
     "text": [
      "25.75\n",
      "4242.083333333333\n"
     ]
    }
   ],
   "source": [
    "print(mean(lst))\n",
    "print(mean(lst2_test))"
   ]
  },
  {
   "cell_type": "markdown",
   "id": "alive-thirty",
   "metadata": {},
   "source": [
    "#### 1.2. Median Calculation"
   ]
  },
  {
   "cell_type": "code",
   "execution_count": 7,
   "id": "silver-professional",
   "metadata": {},
   "outputs": [
    {
     "name": "stdout",
     "output_type": "stream",
     "text": [
      "6.0\n",
      "28.0\n"
     ]
    }
   ],
   "source": [
    "print(median(lst))\n",
    "print(median(lst2_test))"
   ]
  },
  {
   "cell_type": "markdown",
   "id": "talented-alpha",
   "metadata": {},
   "source": [
    "#### 1.3. Mode Calculation"
   ]
  },
  {
   "cell_type": "code",
   "execution_count": 8,
   "id": "official-mission",
   "metadata": {},
   "outputs": [
    {
     "name": "stdout",
     "output_type": "stream",
     "text": [
      "3\n",
      "4\n"
     ]
    }
   ],
   "source": [
    "print(mode(lst))\n",
    "print(mode(lst2_test))"
   ]
  },
  {
   "cell_type": "markdown",
   "id": "experimental-prayer",
   "metadata": {},
   "source": [
    "#### 1.4. Variance Calculation"
   ]
  },
  {
   "cell_type": "code",
   "execution_count": 17,
   "id": "abroad-guitar",
   "metadata": {},
   "outputs": [
    {
     "name": "stdout",
     "output_type": "stream",
     "text": [
      "The sample variance is 934.5 and the population variance is 817.6875\n",
      "The sample variance is 93063625.17424244 and the population variance is 85308323.0763889\n"
     ]
    }
   ],
   "source": [
    "from numpy import var\n",
    "print(\"The sample variance is {}\".format(variance(lst))+\" and the population variance is {}\".format(var(lst)))\n",
    "print(\"The sample variance is {}\".format(variance(lst2_test))+\" and the population variance is {}\".format(var(lst2_test)))"
   ]
  }
 ],
 "metadata": {
  "kernelspec": {
   "display_name": "Python 3",
   "language": "python",
   "name": "python3"
  },
  "language_info": {
   "codemirror_mode": {
    "name": "ipython",
    "version": 3
   },
   "file_extension": ".py",
   "mimetype": "text/x-python",
   "name": "python",
   "nbconvert_exporter": "python",
   "pygments_lexer": "ipython3",
   "version": "3.7.4"
  }
 },
 "nbformat": 4,
 "nbformat_minor": 5
}
