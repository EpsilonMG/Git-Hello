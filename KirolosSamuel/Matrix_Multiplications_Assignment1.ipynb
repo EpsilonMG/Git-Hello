{
 "cells": [
  {
   "cell_type": "markdown",
   "metadata": {},
   "source": [
    "### 1. Array Multiplication"
   ]
  },
  {
   "cell_type": "code",
   "execution_count": 14,
   "metadata": {},
   "outputs": [],
   "source": [
    "import numpy as np"
   ]
  },
  {
   "cell_type": "code",
   "execution_count": 15,
   "metadata": {},
   "outputs": [
    {
     "name": "stdout",
     "output_type": "stream",
     "text": [
      "(2, 2)\n"
     ]
    }
   ],
   "source": [
    "# Array 1 initialization\n",
    "\n",
    "arr1=np.array([[14,45],[40,45]])\n",
    "print(arr1.shape)"
   ]
  },
  {
   "cell_type": "code",
   "execution_count": 16,
   "metadata": {},
   "outputs": [
    {
     "name": "stdout",
     "output_type": "stream",
     "text": [
      "(2, 2)\n"
     ]
    }
   ],
   "source": [
    "# Array 2 initialization\n",
    "\n",
    "arr2=np.array([[10,10],[10,25]])\n",
    "print(arr2.shape)"
   ]
  },
  {
   "cell_type": "code",
   "execution_count": 17,
   "metadata": {},
   "outputs": [
    {
     "name": "stdout",
     "output_type": "stream",
     "text": [
      "[[ 140  450]\n",
      " [ 400 1125]]\n",
      "(2, 2)\n"
     ]
    }
   ],
   "source": [
    "# Arrays multiplications\n",
    "arr_mult=np.multiply(arr1,arr2)\n",
    "print(arr_mult)\n",
    "print(arr_mult.shape)"
   ]
  },
  {
   "cell_type": "markdown",
   "metadata": {},
   "source": [
    "### 2. Array Dot product (should be careful of matrix dimensions)"
   ]
  },
  {
   "cell_type": "code",
   "execution_count": 20,
   "metadata": {},
   "outputs": [
    {
     "name": "stdout",
     "output_type": "stream",
     "text": [
      "(2, 3)\n"
     ]
    }
   ],
   "source": [
    "# Array 1 initialization with dimensions (2,3)\n",
    "mat1=np.array([[2,2,1],[4,5,4]])\n",
    "print(mat1.shape)"
   ]
  },
  {
   "cell_type": "code",
   "execution_count": 23,
   "metadata": {},
   "outputs": [
    {
     "name": "stdout",
     "output_type": "stream",
     "text": [
      "(2, 3)\n"
     ]
    }
   ],
   "source": [
    "# Array 2 initialization should have 3 rows\n",
    "#Wrong init.\n",
    "mat2=np.array([[3,4,5],[1,2,3]])\n",
    "print(mat2.shape)"
   ]
  },
  {
   "cell_type": "code",
   "execution_count": 24,
   "metadata": {},
   "outputs": [
    {
     "name": "stdout",
     "output_type": "stream",
     "text": [
      "Wrong dimensions given\n"
     ]
    }
   ],
   "source": [
    "try: \n",
    "    print(np.dot(mat1,mat2))\n",
    "except:\n",
    "    print(\"Wrong dimensions given\")"
   ]
  },
  {
   "cell_type": "code",
   "execution_count": 25,
   "metadata": {},
   "outputs": [
    {
     "name": "stdout",
     "output_type": "stream",
     "text": [
      "(3, 1)\n"
     ]
    }
   ],
   "source": [
    "mat2=np.array([[1],[2],[3]])\n",
    "print(mat2.shape)"
   ]
  },
  {
   "cell_type": "code",
   "execution_count": 27,
   "metadata": {},
   "outputs": [
    {
     "name": "stdout",
     "output_type": "stream",
     "text": [
      "The dot product is [[ 9]\n",
      " [26]]\n",
      "The dot product dimensions is (2, 1)\n"
     ]
    }
   ],
   "source": [
    "try:\n",
    "    mat_dot_product=np.dot(mat1,mat2)\n",
    "    print(\"The dot product is {}\".format(mat_dot_product))\n",
    "    print(\"The dot product dimensions is {}\".format(mat_dot_product.shape))\n",
    "except:\n",
    "    print(\"Wrong dimensions given\")"
   ]
  }
 ],
 "metadata": {
  "interpreter": {
   "hash": "8a810916130d1cd0d75fc0f942cbfbcbed694b1c763ae436384ce1b1c1b140c9"
  },
  "kernelspec": {
   "display_name": "Python 3",
   "language": "python",
   "name": "python3"
  },
  "language_info": {
   "codemirror_mode": {
    "name": "ipython",
    "version": 3
   },
   "file_extension": ".py",
   "mimetype": "text/x-python",
   "name": "python",
   "nbconvert_exporter": "python",
   "pygments_lexer": "ipython3",
   "version": "3.7.4"
  }
 },
 "nbformat": 4,
 "nbformat_minor": 2
}
