{
 "cells": [
  {
   "cell_type": "markdown",
   "id": "miniature-mexican",
   "metadata": {},
   "source": [
    "### 1. Statistics Calculation No library"
   ]
  },
  {
   "cell_type": "code",
   "execution_count": 58,
   "id": "colonial-berlin",
   "metadata": {},
   "outputs": [
    {
     "name": "stdout",
     "output_type": "stream",
     "text": [
      "12\n"
     ]
    }
   ],
   "source": [
    "#odd list\n",
    "lst=[1,3,55,66,3,66,3,9]\n",
    "#even list\n",
    "lst2_test=[1, 3, 4, 4, 5, 8, 48, 411, 788, 4512, 12547, 32574]\n",
    "print(len(lst2_test))"
   ]
  },
  {
   "cell_type": "markdown",
   "id": "average-scanner",
   "metadata": {},
   "source": [
    "#### 1.1. Mean Calculation"
   ]
  },
  {
   "cell_type": "code",
   "execution_count": 48,
   "id": "demonstrated-sister",
   "metadata": {},
   "outputs": [],
   "source": [
    "def mean(lst):\n",
    "    try:\n",
    "        return sum(lst)/len(lst)\n",
    "    except:\n",
    "        return \"Invalid input\""
   ]
  },
  {
   "cell_type": "code",
   "execution_count": 49,
   "id": "increasing-crazy",
   "metadata": {},
   "outputs": [
    {
     "name": "stdout",
     "output_type": "stream",
     "text": [
      "25.75\n"
     ]
    },
    {
     "data": {
      "text/plain": [
       "4242.083333333333"
      ]
     },
     "execution_count": 49,
     "metadata": {},
     "output_type": "execute_result"
    }
   ],
   "source": [
    "print(mean(lst))\n",
    "mean(lst2_test)"
   ]
  },
  {
   "cell_type": "markdown",
   "id": "standard-heath",
   "metadata": {},
   "source": [
    "#### 1.2. Median Calculation"
   ]
  },
  {
   "cell_type": "code",
   "execution_count": 50,
   "id": "racial-minute",
   "metadata": {},
   "outputs": [],
   "source": [
    "def median(lst):\n",
    "    try:\n",
    "        lst=sorted(lst)\n",
    "        len_lst=len(lst)\n",
    "        return lst[int(len_lst/2)] if len_lst%2!=0 else int((lst[int(len_lst/2)-1]+lst[int(len_lst/2)])/2)\n",
    "    except:\n",
    "        return \"Invalid input\""
   ]
  },
  {
   "cell_type": "code",
   "execution_count": 51,
   "id": "crazy-folder",
   "metadata": {},
   "outputs": [
    {
     "data": {
      "text/plain": [
       "28"
      ]
     },
     "execution_count": 51,
     "metadata": {},
     "output_type": "execute_result"
    }
   ],
   "source": [
    "median(lst)\n",
    "median(lst2_test)"
   ]
  },
  {
   "cell_type": "markdown",
   "id": "bored-groove",
   "metadata": {},
   "source": [
    "#### 1.3. Mode Calculation"
   ]
  },
  {
   "cell_type": "code",
   "execution_count": 52,
   "id": "juvenile-contribution",
   "metadata": {},
   "outputs": [],
   "source": [
    "def mode(lst):\n",
    "    try:\n",
    "        return max(lst,key=lst.count)\n",
    "    except:\n",
    "        return \"Invalid input\""
   ]
  },
  {
   "cell_type": "code",
   "execution_count": 53,
   "id": "quarterly-wagner",
   "metadata": {},
   "outputs": [
    {
     "data": {
      "text/plain": [
       "3"
      ]
     },
     "execution_count": 53,
     "metadata": {},
     "output_type": "execute_result"
    }
   ],
   "source": [
    "mode(lst)"
   ]
  },
  {
   "cell_type": "code",
   "execution_count": 54,
   "id": "amazing-boston",
   "metadata": {},
   "outputs": [
    {
     "data": {
      "text/plain": [
       "4"
      ]
     },
     "execution_count": 54,
     "metadata": {},
     "output_type": "execute_result"
    }
   ],
   "source": [
    "mode(lst2_test)"
   ]
  },
  {
   "cell_type": "markdown",
   "id": "frank-survivor",
   "metadata": {},
   "source": [
    "#### 1.4. Variance Calculation"
   ]
  },
  {
   "cell_type": "code",
   "execution_count": 61,
   "id": "australian-belize",
   "metadata": {},
   "outputs": [],
   "source": [
    "def variance(lst):\n",
    "    try:\n",
    "        mean_lst=mean(lst)\n",
    "        lst2=[mean_lst for i in range(len(lst))]\n",
    "        updated_lst=list(zip(lst,lst2))\n",
    "        updated_lst=[(val1-val2)**2 for (val1,val2) in updated_lst]\n",
    "        sample_variance=sum(updated_lst)/(len(lst)-1)\n",
    "        population_variance=sum(updated_lst)/len(lst)\n",
    "        return \"the sample variance is {}\".format(sample_variance)+\" and the population variance is {}\".format(population_variance)\n",
    "    except:\n",
    "        return \"Invalid input\""
   ]
  },
  {
   "cell_type": "code",
   "execution_count": 62,
   "id": "electrical-writer",
   "metadata": {},
   "outputs": [
    {
     "data": {
      "text/plain": [
       "'the sample variance is 934.5 and the population variance is 817.6875'"
      ]
     },
     "execution_count": 62,
     "metadata": {},
     "output_type": "execute_result"
    }
   ],
   "source": [
    "variance(lst)"
   ]
  },
  {
   "cell_type": "code",
   "execution_count": 63,
   "id": "recognized-assembly",
   "metadata": {},
   "outputs": [
    {
     "data": {
      "text/plain": [
       "'the sample variance is 93063625.17424244 and the population variance is 85308323.0763889'"
      ]
     },
     "execution_count": 63,
     "metadata": {},
     "output_type": "execute_result"
    }
   ],
   "source": [
    "variance(lst2_test)"
   ]
  }
 ],
 "metadata": {
  "kernelspec": {
   "display_name": "Python 3",
   "language": "python",
   "name": "python3"
  },
  "language_info": {
   "codemirror_mode": {
    "name": "ipython",
    "version": 3
   },
   "file_extension": ".py",
   "mimetype": "text/x-python",
   "name": "python",
   "nbconvert_exporter": "python",
   "pygments_lexer": "ipython3",
   "version": "3.7.4"
  }
 },
 "nbformat": 4,
 "nbformat_minor": 5
}
