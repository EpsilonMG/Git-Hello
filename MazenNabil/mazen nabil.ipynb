{
 "cells": [
  {
   "cell_type": "code",
   "execution_count": 1,
   "metadata": {},
   "outputs": [
    {
     "data": {
      "text/plain": [
       "[[9, 46, 672], [9, 46, 672], [50, 246, 3560]]"
      ]
     },
     "execution_count": 1,
     "metadata": {},
     "output_type": "execute_result"
    }
   ],
   "source": [
    "mat1=[[1,2,3],[1,2,3],[3,21,2]]\n",
    "mat2=[[1,2,3],[2,1,3],[1,2,3]]\n",
    "m=mat1\n",
    "for i in range(len(mat1)):\n",
    "            for j in range(len(mat1)):\n",
    "                for l in range(len(mat1)):\n",
    "                    m[i][j]+=mat1[i][l]*mat2[l][j]\n",
    "m\n",
    "                "
   ]
  },
  {
   "cell_type": "code",
   "execution_count": null,
   "metadata": {},
   "outputs": [],
   "source": []
  }
 ],
 "metadata": {
  "kernelspec": {
   "display_name": "Python 3",
   "language": "python",
   "name": "python3"
  },
  "language_info": {
   "codemirror_mode": {
    "name": "ipython",
    "version": 3
   },
   "file_extension": ".py",
   "mimetype": "text/x-python",
   "name": "python",
   "nbconvert_exporter": "python",
   "pygments_lexer": "ipython3",
   "version": "3.7.6"
  }
 },
 "nbformat": 4,
 "nbformat_minor": 4
}
