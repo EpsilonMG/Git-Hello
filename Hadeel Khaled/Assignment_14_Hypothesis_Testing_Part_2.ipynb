{
 "cells": [
  {
   "cell_type": "markdown",
   "metadata": {},
   "source": [
    "<h1><center><font color='midnightblue'> Assignment Of Hypothesis Testing Part 2:</font></center></h1>"
   ]
  },
  {
   "cell_type": "code",
   "execution_count": 1,
   "metadata": {},
   "outputs": [],
   "source": [
    "import pandas as pd\n",
    "import numpy as np\n",
    "import matplotlib.pyplot as plt"
   ]
  },
  {
   "cell_type": "code",
   "execution_count": 2,
   "metadata": {},
   "outputs": [
    {
     "data": {
      "text/html": [
       "<div>\n",
       "<style scoped>\n",
       "    .dataframe tbody tr th:only-of-type {\n",
       "        vertical-align: middle;\n",
       "    }\n",
       "\n",
       "    .dataframe tbody tr th {\n",
       "        vertical-align: top;\n",
       "    }\n",
       "\n",
       "    .dataframe thead th {\n",
       "        text-align: right;\n",
       "    }\n",
       "</style>\n",
       "<table border=\"1\" class=\"dataframe\">\n",
       "  <thead>\n",
       "    <tr style=\"text-align: right;\">\n",
       "      <th></th>\n",
       "      <th>user_id</th>\n",
       "      <th>age</th>\n",
       "      <th>drinks_coffee</th>\n",
       "      <th>height</th>\n",
       "    </tr>\n",
       "  </thead>\n",
       "  <tbody>\n",
       "    <tr>\n",
       "      <th>0</th>\n",
       "      <td>4509</td>\n",
       "      <td>&lt;21</td>\n",
       "      <td>False</td>\n",
       "      <td>64.538179</td>\n",
       "    </tr>\n",
       "    <tr>\n",
       "      <th>1</th>\n",
       "      <td>1864</td>\n",
       "      <td>&gt;=21</td>\n",
       "      <td>True</td>\n",
       "      <td>65.824249</td>\n",
       "    </tr>\n",
       "    <tr>\n",
       "      <th>2</th>\n",
       "      <td>2060</td>\n",
       "      <td>&lt;21</td>\n",
       "      <td>False</td>\n",
       "      <td>71.319854</td>\n",
       "    </tr>\n",
       "    <tr>\n",
       "      <th>3</th>\n",
       "      <td>7875</td>\n",
       "      <td>&gt;=21</td>\n",
       "      <td>True</td>\n",
       "      <td>68.569404</td>\n",
       "    </tr>\n",
       "    <tr>\n",
       "      <th>4</th>\n",
       "      <td>6254</td>\n",
       "      <td>&lt;21</td>\n",
       "      <td>True</td>\n",
       "      <td>64.020226</td>\n",
       "    </tr>\n",
       "  </tbody>\n",
       "</table>\n",
       "</div>"
      ],
      "text/plain": [
       "   user_id   age  drinks_coffee     height\n",
       "0     4509   <21          False  64.538179\n",
       "1     1864  >=21           True  65.824249\n",
       "2     2060   <21          False  71.319854\n",
       "3     7875  >=21           True  68.569404\n",
       "4     6254   <21           True  64.020226"
      ]
     },
     "execution_count": 2,
     "metadata": {},
     "output_type": "execute_result"
    }
   ],
   "source": [
    "coffee = pd.read_csv(\"coffee_dataset.csv\")\n",
    "coffee.head()"
   ]
  },
  {
   "cell_type": "markdown",
   "metadata": {},
   "source": [
    "<h2><center><p><font color='blue'>There’s a hypothesis says that ..People who are <font color='crimson'>older than or equal</font> 21 drinks coffee <font color='limegreen'>more than</font> those who are <font color='crimson'>younger than</font> 21.<br> <em>Test This Hypothesis</em><br><em><font color='crimson'>Alternative:</font> \n",
    "Avg(drink_coffee >= 21)-Avg(drink_coffee < 21)&gt;0<br><font color='crimson'>Null</font> \n",
    "Avg(drink_coffee >= 21)-Avg(drink_coffee < 21)&lt;=0</font><font color='blue'>:</font></font></p></center></h2>"
   ]
  },
  {
   "cell_type": "markdown",
   "metadata": {},
   "source": [
    "<h2><center><font color='blue'>Getting the average of drinking coffee for the age <font color='crimson'>older than or equal</font> 21:</font></center></h2>"
   ]
  },
  {
   "cell_type": "code",
   "execution_count": 3,
   "metadata": {},
   "outputs": [],
   "source": [
    "coffee_older = coffee.query(\"age == '>=21'\")"
   ]
  },
  {
   "cell_type": "code",
   "execution_count": 4,
   "metadata": {},
   "outputs": [
    {
     "name": "stdout",
     "output_type": "stream",
     "text": [
      "The average of drinking coffee for the age older than or equal 21 is: 0.9081508515815085\n"
     ]
    }
   ],
   "source": [
    "average_older = coffee_older[\"drinks_coffee\"].mean()\n",
    "print(f'The average of drinking coffee for the age older than or equal 21 is: {average_older}')"
   ]
  },
  {
   "cell_type": "markdown",
   "metadata": {},
   "source": [
    "<h2><center><font color='blue'>Getting the average of drinking coffee for the age <font color='crimson'>younger than</font> 21:</font></center></h2>"
   ]
  },
  {
   "cell_type": "code",
   "execution_count": 5,
   "metadata": {},
   "outputs": [],
   "source": [
    "coffee_younger = coffee.query(\"age == '<21'\")"
   ]
  },
  {
   "cell_type": "code",
   "execution_count": 6,
   "metadata": {},
   "outputs": [
    {
     "name": "stdout",
     "output_type": "stream",
     "text": [
      "The average of drinking coffee for the age younger than 21 is: 0.1962406015037594\n"
     ]
    }
   ],
   "source": [
    "average_younger = coffee_younger[\"drinks_coffee\"].mean()\n",
    "print(f'The average of drinking coffee for the age younger than 21 is: {average_younger}')"
   ]
  },
  {
   "cell_type": "markdown",
   "metadata": {},
   "source": [
    "<h2><center><font color='blue'>Computing the observed difference in <font color='crimson'>coffee dataset</font>:</font></center></h2>"
   ]
  },
  {
   "cell_type": "code",
   "execution_count": 7,
   "metadata": {},
   "outputs": [
    {
     "name": "stdout",
     "output_type": "stream",
     "text": [
      "The observed difference in coffee dataset is: 0.7119102500777491\n"
     ]
    }
   ],
   "source": [
    "obs_diff = average_older - average_younger\n",
    "print(f'The observed difference in coffee dataset is: {obs_diff}')"
   ]
  },
  {
   "cell_type": "markdown",
   "metadata": {},
   "source": [
    "<h2><center><font color='blue'>Creating <font color='crimson'>sampling distribution</font> of difference in average coffee dataset:</font></center></h2>"
   ]
  },
  {
   "cell_type": "code",
   "execution_count": 8,
   "metadata": {},
   "outputs": [],
   "source": [
    "diff = []\n",
    "size = coffee.shape[0]\n",
    "for _ in range (10000) :\n",
    "    a_sample = coffee.sample(size , replace = True)\n",
    "    older = a_sample.query(\"age == '>=21'\")\n",
    "    avg_older = older[\"drinks_coffee\"].mean()\n",
    "    younger = a_sample.query(\"age == '<21'\")\n",
    "    avg_younger = younger[\"drinks_coffee\"].mean()\n",
    "    diff.append(avg_older - avg_younger)"
   ]
  },
  {
   "cell_type": "markdown",
   "metadata": {},
   "source": [
    "<h2><center><font color='blue'>Plotting the <font color='crimson'>sampling distribution</font>:</font></center></h2>"
   ]
  },
  {
   "cell_type": "code",
   "execution_count": 9,
   "metadata": {},
   "outputs": [
    {
     "data": {
      "text/plain": [
       "(array([  13.,  139.,  606., 1826., 2920., 2660., 1361.,  415.,   54.,\n",
       "           6.]),\n",
       " array([0.66303586, 0.6730835 , 0.68313115, 0.69317879, 0.70322644,\n",
       "        0.71327408, 0.72332173, 0.73336937, 0.74341701, 0.75346466,\n",
       "        0.7635123 ]),\n",
       " <a list of 10 Patch objects>)"
      ]
     },
     "execution_count": 9,
     "metadata": {},
     "output_type": "execute_result"
    },
    {
     "data": {
      "image/png": "[encoded data removed]",
      "text/plain": [
       "<Figure size 432x288 with 1 Axes>"
      ]
     },
     "metadata": {
      "needs_background": "light"
     },
     "output_type": "display_data"
    }
   ],
   "source": [
    "plt.hist(diff)"
   ]
  },
  {
   "cell_type": "markdown",
   "metadata": {},
   "source": [
    "<h2><center><font color='blue'>Simulating the distribution under the <font color='crimson'>null hypothesis</font>:</font></center></h2>"
   ]
  },
  {
   "cell_type": "code",
   "execution_count": 10,
   "metadata": {},
   "outputs": [],
   "source": [
    "null = np.random.normal(0 , np.std(diff) , len(diff))"
   ]
  },
  {
   "cell_type": "markdown",
   "metadata": {},
   "source": [
    "<h2><center><font color='blue'>Plotting the <font color='crimson'>null hypothesis</font><br>Plotting a line for <font color='crimson'>observed statistic</font>:</font></center></h2>"
   ]
  },
  {
   "cell_type": "code",
   "execution_count": 11,
   "metadata": {},
   "outputs": [
    {
     "data": {
      "text/plain": [
       "<matplotlib.lines.Line2D at 0xa83c630>"
      ]
     },
     "execution_count": 11,
     "metadata": {},
     "output_type": "execute_result"
    },
    {
     "data": {
      "image/png": "[encoded data removed]",
      "text/plain": [
       "<Figure size 432x288 with 1 Axes>"
      ]
     },
     "metadata": {
      "needs_background": "light"
     },
     "output_type": "display_data"
    }
   ],
   "source": [
    "plt.hist(null)\n",
    "\n",
    "plt.axvline(x = obs_diff , c = 'green')"
   ]
  },
  {
   "cell_type": "markdown",
   "metadata": {},
   "source": [
    "<h2><center><font color='blue'> Computing the <font color='crimson'>p-value</font>:</font></center></h2>"
   ]
  },
  {
   "cell_type": "code",
   "execution_count": 12,
   "metadata": {},
   "outputs": [
    {
     "name": "stdout",
     "output_type": "stream",
     "text": [
      "The p-value is: 0.0\n"
     ]
    }
   ],
   "source": [
    "p_value = (null > obs_diff).mean()\n",
    "print(f'The p-value is: {p_value}')"
   ]
  },
  {
   "cell_type": "markdown",
   "metadata": {},
   "source": [
    "<h3><font color='limegreen'>We will reject the null hypothesis.</font></h3>"
   ]
  }
 ],
 "metadata": {
  "kernelspec": {
   "display_name": "Python 3",
   "language": "python",
   "name": "python3"
  },
  "language_info": {
   "codemirror_mode": {
    "name": "ipython",
    "version": 3
   },
   "file_extension": ".py",
   "mimetype": "text/x-python",
   "name": "python",
   "nbconvert_exporter": "python",
   "pygments_lexer": "ipython3",
   "version": "3.7.6"
  }
 },
 "nbformat": 4,
 "nbformat_minor": 4
}
