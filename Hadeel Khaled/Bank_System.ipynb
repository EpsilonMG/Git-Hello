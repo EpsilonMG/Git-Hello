{
 "cells": [
  {
   "cell_type": "markdown",
   "metadata": {},
   "source": [
    " <h1><center>BANK SYSTEM OF <font color='mediumblue'>HADEEL KHALED</font>.</center></h1>"
   ]
  },
  {
   "cell_type": "markdown",
   "metadata": {},
   "source": [
    "<h1><center><font color='limegreen'>User Class (\"Parent Class\"):</font></center></h1>"
   ]
  },
  {
   "cell_type": "code",
   "execution_count": 1,
   "metadata": {},
   "outputs": [],
   "source": [
    "class User() :\n",
    "    \n",
    "    def  __init__ (self, name = \"Hadeel\", age = 23, gender = \"Female\") :\n",
    "        self.name = name \n",
    "        self.age = age\n",
    "        self.gender = gender\n",
    "        \n",
    "    def set_name(self, name) :\n",
    "        self.name = name\n",
    "    def get_name(self) :\n",
    "        return self.name\n",
    "    \n",
    "    def set_age(self, age) :\n",
    "        self.age = age\n",
    "    def get_age(self) :\n",
    "        return self.age\n",
    "    \n",
    "    def set_gender(self, gender) :\n",
    "        self.gender = gender\n",
    "    def get_gender(self) :\n",
    "        return self.gender\n",
    "    \n",
    "    def show_User_Details(self) :\n",
    "        return [self.name, self.age, self.gender] "
   ]
  },
  {
   "cell_type": "markdown",
   "metadata": {},
   "source": [
    " <h2><font color='black'>Creating an object <font color='darkorchid'>\"Nermeen\"</font> from the <font color='limegreen'>User Class</font>:</font></h2>"
   ]
  },
  {
   "cell_type": "code",
   "execution_count": 2,
   "metadata": {},
   "outputs": [],
   "source": [
    "Nermeen = User()"
   ]
  },
  {
   "cell_type": "markdown",
   "metadata": {},
   "source": [
    " <h2><font color='black'>Object <font color='darkorchid'>\"Nermeen\"</font> using the <font color='red'>\"set_name\"</font> and <font color='red'>\"get_name\"</font> functions:</font></h2>"
   ]
  },
  {
   "cell_type": "code",
   "execution_count": 3,
   "metadata": {},
   "outputs": [
    {
     "data": {
      "text/plain": [
       "'Nermeen'"
      ]
     },
     "execution_count": 3,
     "metadata": {},
     "output_type": "execute_result"
    }
   ],
   "source": [
    "Nermeen.set_name(\"Nermeen\")\n",
    "Nermeen.get_name()"
   ]
  },
  {
   "cell_type": "markdown",
   "metadata": {},
   "source": [
    " <h2><font color='black'>Object <font color='darkorchid'>\"Nermeen\"</font> using the <font color='red'>\"set_age\"</font> and <font color='red'>\"get_age\"</font> functions:</font></h2>"
   ]
  },
  {
   "cell_type": "code",
   "execution_count": 4,
   "metadata": {},
   "outputs": [
    {
     "data": {
      "text/plain": [
       "20"
      ]
     },
     "execution_count": 4,
     "metadata": {},
     "output_type": "execute_result"
    }
   ],
   "source": [
    "Nermeen.set_age(20)\n",
    "Nermeen.get_age()"
   ]
  },
  {
   "cell_type": "markdown",
   "metadata": {},
   "source": [
    " <h2><font color='black'>Object <font color='darkorchid'>\"Nermeen\"</font> using the <font color='red'>\"set_gender\"</font> and <font color='red'>\"get_gender\"</font> functions:</font></h2>"
   ]
  },
  {
   "cell_type": "code",
   "execution_count": 5,
   "metadata": {},
   "outputs": [
    {
     "data": {
      "text/plain": [
       "'Female'"
      ]
     },
     "execution_count": 5,
     "metadata": {},
     "output_type": "execute_result"
    }
   ],
   "source": [
    "Nermeen.set_gender(\"Female\")\n",
    "Nermeen.get_gender()"
   ]
  },
  {
   "cell_type": "markdown",
   "metadata": {},
   "source": [
    " <h2><font color='black'>Object <font color='darkorchid'>\"Nermeen\"</font> using the <font color='red'>\"show_User_Details\"</font> function:</font></h2>"
   ]
  },
  {
   "cell_type": "code",
   "execution_count": 6,
   "metadata": {},
   "outputs": [
    {
     "data": {
      "text/plain": [
       "['Nermeen', 20, 'Female']"
      ]
     },
     "execution_count": 6,
     "metadata": {},
     "output_type": "execute_result"
    }
   ],
   "source": [
    "Nermeen.show_User_Details()"
   ]
  },
  {
   "cell_type": "markdown",
   "metadata": {},
   "source": [
    "<h2><font color='black'>Creating an object <font color='blue'>\"Hadeel\"</font> from the <font color='limegreen'>User Class</font> and using all its functions one time:</font></h2>"
   ]
  },
  {
   "cell_type": "code",
   "execution_count": 7,
   "metadata": {},
   "outputs": [
    {
     "data": {
      "text/plain": [
       "['Hadeel', 23, 'Female']"
      ]
     },
     "execution_count": 7,
     "metadata": {},
     "output_type": "execute_result"
    }
   ],
   "source": [
    "Hadeel = User()\n",
    "\n",
    "Hadeel.set_name(\"Hadeel\")\n",
    "Hadeel.get_name()\n",
    "\n",
    "Hadeel.set_age(23)\n",
    "Hadeel.get_age()\n",
    "\n",
    "Hadeel.set_gender(\"Female\")\n",
    "Hadeel.get_gender()\n",
    "\n",
    "Hadeel.show_User_Details()"
   ]
  },
  {
   "cell_type": "markdown",
   "metadata": {},
   "source": [
    "<h1><center><font color='darkorange'>Bank Class (\"Child Class from User Parent Class\"):</font></center></h1>"
   ]
  },
  {
   "cell_type": "code",
   "execution_count": 8,
   "metadata": {},
   "outputs": [],
   "source": [
    "class Bank (User) :\n",
    "    def __init__(self, name = \"Hadeel\", age = 23, gender = \"Female\", id = 29806072102707, password = \"****\", amount = 1000, balance = 5000) :\n",
    "        super().__init__(name, age, gender)\n",
    "        self.id = id\n",
    "        self.password = password\n",
    "        self.amount = amount\n",
    "        self.balance = balance\n",
    "            \n",
    "    def set_name(self) :\n",
    "        while True :\n",
    "            name = input(\"Please, enter your name: \")\n",
    "            if name.isalpha() :\n",
    "                self.name = name\n",
    "                print(\"Thank you, your name entered correctly.\")\n",
    "                break\n",
    "            else :\n",
    "                print(\"Please, enter your name in LETTERS ONLY!!\".upper())\n",
    "                continue\n",
    "    def get_name(self) :\n",
    "        return self.name\n",
    "    \n",
    "    def set_age(self) :\n",
    "        while True :\n",
    "            age = input(\"Please, enter your age: \")\n",
    "            if age.isnumeric() :\n",
    "                age = int(age)\n",
    "                #print(type(age))\n",
    "                if type(age) == int and age in range (18,101) :\n",
    "                    self.age = age\n",
    "                    print(\"Thank you, your age entered correctly.\")\n",
    "                    break\n",
    "                else :\n",
    "                    print(\"Sorry the age you entered is not in the range. Please your between 18 and 100\".upper())\n",
    "                #print(type(age))\n",
    "            else :\n",
    "                print(\"Please, enter your age in NUMBERS ONLY!!\".upper())\n",
    "                continue\n",
    "    def get_age(self) :\n",
    "        return self.age\n",
    "    \n",
    "    def set_gender(self) :\n",
    "        while True :\n",
    "            gender = input(\"Please, enter your gender: \").upper()\n",
    "            if gender in [\"MALE\",\"FEMALE\",\"M\",\"F\"] :\n",
    "                self.gender = gender\n",
    "                print(\"Thank you, your gender entered correctly.\")\n",
    "                break\n",
    "            else :\n",
    "                print(\"Please, enter your gender in LETTERS ONLY!!\".upper())\n",
    "                continue    \n",
    "    def get_gender(self) :\n",
    "        return self.gender\n",
    "    \n",
    "    def set_id(self) :\n",
    "        while True :\n",
    "            id = input(\"Please, enter your national id that contains 14 digits: \")\n",
    "            if id.isnumeric() and len(id) == 14 :\n",
    "                self.id = id\n",
    "                print(\"Thank you, your id entered correctly.\")\n",
    "                break\n",
    "            else :\n",
    "                print(\"Please, enter your id in NUMBERS ONLY!!; Make sure they are 14 digits\".upper())\n",
    "                continue\n",
    "    def get_id(self) :\n",
    "        return self.id\n",
    "    \n",
    "    def password_check(self, password) :\n",
    "        SpecialSym =[\"$\", \"@\", \"#\", \"%\"]\n",
    "        val = True\n",
    "\n",
    "        if len(password) < 6 :\n",
    "            print(\"Length should be at least 6.\".upper())\n",
    "            val = False\n",
    "\n",
    "        if len(password) > 20 :\n",
    "            print(\"Length should be not be greater than 20.\".upper())\n",
    "            val = False\n",
    "\n",
    "        if not any(char.isdigit() for char in password) :\n",
    "            print(\"Password should have at least one number.\".upper())\n",
    "            val = False\n",
    "\n",
    "        if not any(char.isupper() for char in password) :\n",
    "            print(\"Password should have at least one uppercase letter.\".upper())\n",
    "            val = False\n",
    "\n",
    "        if not any(char.islower() for char in password) :\n",
    "            print(\"Password should have at least one lowercase letter.\".upper())\n",
    "            val = False\n",
    "\n",
    "        if not any(char in SpecialSym for char in password) :\n",
    "            print(\"Password should have at least one of the symbols $@#.\".upper())\n",
    "            val = False\n",
    "        if val :\n",
    "            return val\n",
    "        \n",
    "    def set_password(self) :\n",
    "        while True :\n",
    "            password = input(\"Please, enter a strong password: \")\n",
    "            if self.password_check(password) :\n",
    "                self.password = password\n",
    "                print(\"Thank you, your password entered correctly.\")\n",
    "                break\n",
    "    def get_password(self) :\n",
    "        return self.password\n",
    "    \n",
    "    def set_amount(self) :\n",
    "        while True :\n",
    "            amount = input(\"Please, enter your amount: \")\n",
    "            if amount.isnumeric() :\n",
    "                self.amount = int(amount)\n",
    "                print(\"Thank you, your amount entered correctly.\")\n",
    "                break\n",
    "            else :\n",
    "                print(\"Please, enter your amount in NUMBERS ONLY!!\".upper())\n",
    "                continue\n",
    "    def get_amount(self) :\n",
    "        return self.amount\n",
    "    \n",
    "    def set_balance(self) :\n",
    "        while True :\n",
    "            balance = input(\"Please, enter your balance: \")\n",
    "            if balance.isnumeric() :\n",
    "                self.balance = int(balance)\n",
    "                print(\"Thank you, your balance entered correctly.\")\n",
    "                break\n",
    "            else :\n",
    "                print(\"Please, enter your balance in NUMBERS ONLY!!\".upper())\n",
    "                continue\n",
    "    def get_balance(self) :\n",
    "        return self.balance\n",
    "    \n",
    "    def show_bank_details(self) :\n",
    "        the_user = super().show_User_Details()\n",
    "        the_user.append(self.id)\n",
    "        the_user.append(self.amount)\n",
    "        the_user.append(self.balance)\n",
    "        return the_user\n",
    "    \n",
    "    def check_password(self) :\n",
    "        p = input(\"Please, enter your password: \")\n",
    "        if p == self.password :\n",
    "            return True\n",
    "        else :\n",
    "            return False\n",
    "        \n",
    "    def deposit(self) :\n",
    "        while True :\n",
    "            if self.check_password() :\n",
    "                amount = input(\"Please, enter the deposit amount: \")\n",
    "                if amount.isnumeric() :\n",
    "                    self.balance += int(amount)\n",
    "                    print(\"Thank you, Deposit Done.\")\n",
    "                    break\n",
    "                else :\n",
    "                    print(\"Please, enter the deposit amount in NUMBERS ONLY!!\".upper())\n",
    "            else :\n",
    "                print(\"Re-enter your password, the password you entered is wrong!!\".upper())\n",
    "                continue\n",
    "        print (\"Balance: \", self.get_balance())\n",
    "            \n",
    "    \n",
    "    def withdraw(self) :\n",
    "        while True :\n",
    "            if self.check_password() :\n",
    "                amount = input(\"Please, enter the withdraw amount: \")\n",
    "                if amount.isnumeric() :\n",
    "                    amount = int(amount)\n",
    "                    if type(amount) == int and amount <= self.balance :\n",
    "                        self.balance -= int(amount)\n",
    "                        print(\"Thank you, Withdraw Done.\")\n",
    "                        break\n",
    "                    else :\n",
    "                        print(\"OOPS WARNING!! The amount you entered is more than your balance\".upper())\n",
    "                else :\n",
    "                    print(\"Please, enter the withdraw amount in NUMBERS ONLY!!\".upper())\n",
    "            else :\n",
    "                print(\"Re-enter your password, the password you entered is wrong!!\".upper())\n",
    "                continue\n",
    "        print (\"Balance: \", self.get_balance())"
   ]
  },
  {
   "cell_type": "markdown",
   "metadata": {},
   "source": [
    " <h2><font color='black'>Creating an object <font color='deepskyblue'>\"Hadeel2\"</font> from the <font color='darkorange'>Bank Class</font>:</font></h2>"
   ]
  },
  {
   "cell_type": "code",
   "execution_count": 9,
   "metadata": {},
   "outputs": [],
   "source": [
    "Hadeel2 = Bank()"
   ]
  },
  {
   "cell_type": "markdown",
   "metadata": {},
   "source": [
    " <h2><font color='black'>Object <font color='deepskyblue'>\"Hadeel2\"</font> using the <font color='red'>\"set_name\"</font> and <font color='red'>\"get_name\"</font> functions:</font></h2>"
   ]
  },
  {
   "cell_type": "code",
   "execution_count": 10,
   "metadata": {},
   "outputs": [
    {
     "name": "stdout",
     "output_type": "stream",
     "text": [
      "Please, enter your name: Hadeel1998\n",
      "PLEASE, ENTER YOUR NAME IN LETTERS ONLY!!\n",
      "Please, enter your name: Hadeel\n",
      "Thank you, your name entered correctly.\n"
     ]
    },
    {
     "data": {
      "text/plain": [
       "'Hadeel'"
      ]
     },
     "execution_count": 10,
     "metadata": {},
     "output_type": "execute_result"
    }
   ],
   "source": [
    "Hadeel2.set_name()\n",
    "Hadeel2.get_name()"
   ]
  },
  {
   "cell_type": "markdown",
   "metadata": {},
   "source": [
    " <h2><font color='black'>Object <font color='deepskyblue'>\"Hadeel2\"</font> using the <font color='red'>\"set_age\"</font> and <font color='red'>\"get_age\"</font> functions:</font></h2>"
   ]
  },
  {
   "cell_type": "code",
   "execution_count": 11,
   "metadata": {},
   "outputs": [
    {
     "name": "stdout",
     "output_type": "stream",
     "text": [
      "Please, enter your age: Seventeen\n",
      "PLEASE, ENTER YOUR AGE IN NUMBERS ONLY!!\n",
      "Please, enter your age: 17\n",
      "SORRY THE AGE YOU ENTERED IS NOT IN THE RANGE. PLEASE YOUR BETWEEN 18 AND 100\n",
      "Please, enter your age: 230\n",
      "SORRY THE AGE YOU ENTERED IS NOT IN THE RANGE. PLEASE YOUR BETWEEN 18 AND 100\n",
      "Please, enter your age: 23\n",
      "Thank you, your age entered correctly.\n"
     ]
    },
    {
     "data": {
      "text/plain": [
       "23"
      ]
     },
     "execution_count": 11,
     "metadata": {},
     "output_type": "execute_result"
    }
   ],
   "source": [
    "Hadeel2.set_age()\n",
    "Hadeel2.get_age()"
   ]
  },
  {
   "cell_type": "markdown",
   "metadata": {},
   "source": [
    " <h2><font color='black'>Object <font color='deepskyblue'>\"Hadeel2\"</font> using the <font color='red'>\"set_gender\"</font> and <font color='red'>\"get_gender\"</font> functions:</font></h2>"
   ]
  },
  {
   "cell_type": "code",
   "execution_count": 12,
   "metadata": {},
   "outputs": [
    {
     "name": "stdout",
     "output_type": "stream",
     "text": [
      "Please, enter your gender: 1\n",
      "PLEASE, ENTER YOUR GENDER IN LETTERS ONLY!!\n",
      "Please, enter your gender: Female\n",
      "Thank you, your gender entered correctly.\n"
     ]
    },
    {
     "data": {
      "text/plain": [
       "'FEMALE'"
      ]
     },
     "execution_count": 12,
     "metadata": {},
     "output_type": "execute_result"
    }
   ],
   "source": [
    "Hadeel2.set_gender()\n",
    "Hadeel2.get_gender()"
   ]
  },
  {
   "cell_type": "markdown",
   "metadata": {},
   "source": [
    " <h2><font color='black'>Object <font color='deepskyblue'>\"Hadeel2\"</font> using the <font color='red'>\"set_id\"</font> and <font color='red'>\"get_id\"</font> functions:</font></h2>"
   ]
  },
  {
   "cell_type": "code",
   "execution_count": 13,
   "metadata": {},
   "outputs": [
    {
     "name": "stdout",
     "output_type": "stream",
     "text": [
      "Please, enter your national id that contains 14 digits: 01091723572\n",
      "PLEASE, ENTER YOUR ID IN NUMBERS ONLY!!; MAKE SURE THEY ARE 14 DIGITS\n",
      "Please, enter your national id that contains 14 digits: 29806072102707\n",
      "Thank you, your id entered correctly.\n"
     ]
    },
    {
     "data": {
      "text/plain": [
       "'29806072102707'"
      ]
     },
     "execution_count": 13,
     "metadata": {},
     "output_type": "execute_result"
    }
   ],
   "source": [
    "Hadeel2.set_id()\n",
    "Hadeel2.get_id()"
   ]
  },
  {
   "cell_type": "markdown",
   "metadata": {},
   "source": [
    " <h2><font color='black'>Object <font color='deepskyblue'>\"Hadeel2\"</font> using the <font color='red'>\"set_password\"</font> and <font color='red'>\"get_password\"</font> functions:</font></h2>"
   ]
  },
  {
   "cell_type": "code",
   "execution_count": 14,
   "metadata": {},
   "outputs": [
    {
     "name": "stdout",
     "output_type": "stream",
     "text": [
      "Please, enter a strong password: h\n",
      "LENGTH SHOULD BE AT LEAST 6.\n",
      "PASSWORD SHOULD HAVE AT LEAST ONE NUMBER.\n",
      "PASSWORD SHOULD HAVE AT LEAST ONE UPPERCASE LETTER.\n",
      "PASSWORD SHOULD HAVE AT LEAST ONE OF THE SYMBOLS $@#.\n",
      "Please, enter a strong password: HadeelKhaled761998Gemini#\n",
      "LENGTH SHOULD BE NOT BE GREATER THAN 20.\n",
      "Please, enter a strong password: Hadeel98#\n",
      "Thank you, your password entered correctly.\n"
     ]
    },
    {
     "data": {
      "text/plain": [
       "'Hadeel98#'"
      ]
     },
     "execution_count": 14,
     "metadata": {},
     "output_type": "execute_result"
    }
   ],
   "source": [
    "Hadeel2.set_password()\n",
    "Hadeel2.get_password()"
   ]
  },
  {
   "cell_type": "markdown",
   "metadata": {},
   "source": [
    " <h2><font color='black'>Object <font color='deepskyblue'>\"Hadeel2\"</font> using the <font color='red'>\"set_amount\"</font> and <font color='red'>\"get_amount\"</font> functions:</font></h2>"
   ]
  },
  {
   "cell_type": "code",
   "execution_count": 15,
   "metadata": {},
   "outputs": [
    {
     "name": "stdout",
     "output_type": "stream",
     "text": [
      "Please, enter your amount: One Thousand\n",
      "PLEASE, ENTER YOUR AMOUNT IN NUMBERS ONLY!!\n",
      "Please, enter your amount: 1000\n",
      "Thank you, your amount entered correctly.\n"
     ]
    },
    {
     "data": {
      "text/plain": [
       "1000"
      ]
     },
     "execution_count": 15,
     "metadata": {},
     "output_type": "execute_result"
    }
   ],
   "source": [
    "Hadeel2.set_amount()\n",
    "Hadeel2.get_amount()"
   ]
  },
  {
   "cell_type": "markdown",
   "metadata": {},
   "source": [
    " <h2><font color='black'>Object <font color='deepskyblue'>\"Hadeel2\"</font> using the <font color='red'>\"set_balance\"</font> and <font color='red'>\"get_balance\"</font> functions:</font></h2>"
   ]
  },
  {
   "cell_type": "code",
   "execution_count": 16,
   "metadata": {},
   "outputs": [
    {
     "name": "stdout",
     "output_type": "stream",
     "text": [
      "Please, enter your balance: Five Thousand\n",
      "PLEASE, ENTER YOUR BALANCE IN NUMBERS ONLY!!\n",
      "Please, enter your balance: 5000\n",
      "Thank you, your balance entered correctly.\n"
     ]
    },
    {
     "data": {
      "text/plain": [
       "5000"
      ]
     },
     "execution_count": 16,
     "metadata": {},
     "output_type": "execute_result"
    }
   ],
   "source": [
    "Hadeel2.set_balance()\n",
    "Hadeel2.get_balance()"
   ]
  },
  {
   "cell_type": "markdown",
   "metadata": {},
   "source": [
    " <h2><font color='black'>Object <font color='deepskyblue'>\"Hadeel2\"</font> using the <font color='red'>\"show_bank_details\"</font> function:</font></h2>"
   ]
  },
  {
   "cell_type": "code",
   "execution_count": 17,
   "metadata": {},
   "outputs": [
    {
     "name": "stdout",
     "output_type": "stream",
     "text": [
      "['Hadeel', 23, 'FEMALE', '29806072102707', 1000, 5000]\n"
     ]
    }
   ],
   "source": [
    "a = Hadeel2.show_bank_details()\n",
    "print(a) ### I did not let the password be seen in the bank details..."
   ]
  },
  {
   "cell_type": "markdown",
   "metadata": {},
   "source": [
    " <h2><font color='black'>Object <font color='deepskyblue'>\"Hadeel2\"</font> using the <font color='red'>\"deposit\"</font> function:</font></h2>"
   ]
  },
  {
   "cell_type": "code",
   "execution_count": 18,
   "metadata": {},
   "outputs": [
    {
     "name": "stdout",
     "output_type": "stream",
     "text": [
      "Please, enter your password: h\n",
      "RE-ENTER YOUR PASSWORD, THE PASSWORD YOU ENTERED IS WRONG!!\n",
      "Please, enter your password: Hadeel98#\n",
      "Please, enter the deposit amount: One Hundred\n",
      "PLEASE, ENTER THE DEPOSIT AMOUNT IN NUMBERS ONLY!!\n",
      "Please, enter your password: Hadeel98#\n",
      "Please, enter the deposit amount: 100\n",
      "Thank you, Deposit Done.\n",
      "Balance:  5100\n"
     ]
    }
   ],
   "source": [
    "Hadeel2.deposit() \n",
    "### I ask from the user to enter his password first and if he entered the deposit in letters,\n",
    "### He will enter the password again."
   ]
  },
  {
   "cell_type": "markdown",
   "metadata": {},
   "source": [
    " <h2><font color='black'>Object <font color='deepskyblue'>\"Hadeel2\"</font> using the <font color='red'>\"withdraw\"</font> function:</font></h2>"
   ]
  },
  {
   "cell_type": "code",
   "execution_count": 19,
   "metadata": {},
   "outputs": [
    {
     "name": "stdout",
     "output_type": "stream",
     "text": [
      "Please, enter your password: h\n",
      "RE-ENTER YOUR PASSWORD, THE PASSWORD YOU ENTERED IS WRONG!!\n",
      "Please, enter your password: Hadeel98#\n",
      "Please, enter the withdraw amount: Six Thousand\n",
      "PLEASE, ENTER THE WITHDRAW AMOUNT IN NUMBERS ONLY!!\n",
      "Please, enter your password: Hadeel98#\n",
      "Please, enter the withdraw amount: 6000\n",
      "OOPS WARNING!! THE AMOUNT YOU ENTERED IS MORE THAN YOUR BALANCE\n",
      "Please, enter your password: Hadeel98#\n",
      "Please, enter the withdraw amount: 50\n",
      "Thank you, Withdraw Done.\n",
      "Balance:  5050\n"
     ]
    }
   ],
   "source": [
    "Hadeel2.withdraw()\n",
    "### I ask from the user to enter his password first and if he entered the withdraw in letters,\n",
    "### He will enter the password again."
   ]
  },
  {
   "cell_type": "markdown",
   "metadata": {},
   "source": [
    " <h2><font color='black'>Object <font color='deepskyblue'>\"Hadeel2\"</font> using the <font color='red'>\"show_bank_details\"</font> function:</font></h2>"
   ]
  },
  {
   "cell_type": "code",
   "execution_count": 20,
   "metadata": {},
   "outputs": [
    {
     "name": "stdout",
     "output_type": "stream",
     "text": [
      "['Hadeel', 23, 'FEMALE', '29806072102707', 1000, 5050]\n"
     ]
    }
   ],
   "source": [
    "b = Hadeel2.show_bank_details()\n",
    "print(b)"
   ]
  },
  {
   "cell_type": "markdown",
   "metadata": {},
   "source": [
    " <h2><font color='black'>Comparing between before and after using <font color='red'>\"deposit\"</font> and <font color='red'>\"withdraw\" </font> functions. Printing the <font color='red'>\"show_bank_details\"</font> 2 times before and after: </font></h2>"
   ]
  },
  {
   "cell_type": "code",
   "execution_count": 21,
   "metadata": {},
   "outputs": [
    {
     "name": "stdout",
     "output_type": "stream",
     "text": [
      "['Hadeel', 23, 'FEMALE', '29806072102707', 1000, 5000]\n",
      "['Hadeel', 23, 'FEMALE', '29806072102707', 1000, 5050]\n"
     ]
    }
   ],
   "source": [
    "print(a)\n",
    "print(b)\n",
    "### Just to compare the value of balance before and after changing"
   ]
  },
  {
   "cell_type": "markdown",
   "metadata": {},
   "source": [
    "<h1><center><font color='deeppink'>The main_function: </font></center></h1>"
   ]
  },
  {
   "cell_type": "code",
   "execution_count": 22,
   "metadata": {},
   "outputs": [],
   "source": [
    "def main_function() :\n",
    "    print(\"Welcome to ABC Bank.\")\n",
    "    print(\"PLEASE ENTER A NUMBER FROM 0 TO 2: \")\n",
    "    users = []\n",
    "    val = 0\n",
    "    while True :\n",
    "        login_found = False\n",
    "        user_entry =  input(\"Register press 1: \\nLogin press 2: \\nExit press 0: \\n\")\n",
    "        if user_entry == \"1\" :\n",
    "            new_user = Bank()\n",
    "            \n",
    "            new_user.set_id()\n",
    "            new_user.set_name()\n",
    "            new_user.set_password()\n",
    "            new_user.set_age()\n",
    "            new_user.set_gender()\n",
    "            new_user.set_balance()\n",
    "            print(\"CONGRATUALTIONS YOUR ACCOUNT IS DONE\")\n",
    "            print(\"If you want to login press 2. \\nIf you want to exit press 0. \\nIf you want to register another account press 1. \")\n",
    "            \n",
    "            users.append(new_user)\n",
    "            \n",
    "        if user_entry == \"2\" :\n",
    "            username = input(\"Please, enter your username: \")\n",
    "            password = input(\"Pease, enter your password: \")\n",
    "            \n",
    "            for i in range(0, len(users)) :\n",
    "                if username == users[i].get_name() and password == users[i].get_password() :\n",
    "                    val = i\n",
    "                    login_found = True\n",
    "            #print(\"Login block here\")\n",
    "            if login_found :\n",
    "                print(\"Welcome back to ABC Bank; Please choose the action you want to do from this menue.\")\n",
    "                while True :\n",
    "                    print(\"PLEASE ENTER A NUMBER FROM 0 TO 5: \")\n",
    "                    a = input(\"Press 1 if you want to see your account details: \\nPress 2 if you want to see your balance: \\nPress 3 if you want to withdraw: \\nPress 4 if you want to deposit: \\nPress 5 if you want to logout: \\nPress 0 if you want to exit: \\n\")\n",
    "                    if a == \"1\" :\n",
    "                        print(users[val].show_bank_details())\n",
    "                        \n",
    "                    if a == \"2\" :\n",
    "                        print(users[val].get_balance())\n",
    "                        \n",
    "                    if a == \"3\" :\n",
    "                        print(users[val].withdraw())\n",
    "                        \n",
    "                    if a == \"4\" :\n",
    "                        print(users[val].deposit())\n",
    "                        \n",
    "                    if a == \"5\" :\n",
    "                        break\n",
    "                        \n",
    "                    if a == \"0\" :\n",
    "                        return 0\n",
    "                        break\n",
    "            else :\n",
    "                print(\"YOU DON'T HAVE AN ACCOUNT YET PLEASE REGISTER ONE FIRST\")\n",
    "                continue\n",
    "                    \n",
    "        if user_entry == \"0\":\n",
    "            return 0"
   ]
  },
  {
   "cell_type": "markdown",
   "metadata": {},
   "source": [
    "<h2>Calling the <font color='deeppink'>main_function</font> :</h2>"
   ]
  },
  {
   "cell_type": "code",
   "execution_count": 23,
   "metadata": {},
   "outputs": [
    {
     "name": "stdout",
     "output_type": "stream",
     "text": [
      "Welcome to ABC Bank.\n",
      "PLEASE ENTER A NUMBER FROM 0 TO 2: \n",
      "Register press 1: \n",
      "Login press 2: \n",
      "Exit press 0: \n",
      "1\n",
      "Please, enter your national id that contains 14 digits: 1998\n",
      "PLEASE, ENTER YOUR ID IN NUMBERS ONLY!!; MAKE SURE THEY ARE 14 DIGITS\n",
      "Please, enter your national id that contains 14 digits: 29806072102707\n",
      "Thank you, your id entered correctly.\n",
      "Please, enter your name: Hadeel76\n",
      "PLEASE, ENTER YOUR NAME IN LETTERS ONLY!!\n",
      "Please, enter your name: Hadeel\n",
      "Thank you, your name entered correctly.\n",
      "Please, enter a strong password: H\n",
      "LENGTH SHOULD BE AT LEAST 6.\n",
      "PASSWORD SHOULD HAVE AT LEAST ONE NUMBER.\n",
      "PASSWORD SHOULD HAVE AT LEAST ONE LOWERCASE LETTER.\n",
      "PASSWORD SHOULD HAVE AT LEAST ONE OF THE SYMBOLS $@#.\n",
      "Please, enter a strong password: HadeelKhaled761998Gemini#\n",
      "LENGTH SHOULD BE NOT BE GREATER THAN 20.\n",
      "Please, enter a strong password: Hadeel98#\n",
      "Thank you, your password entered correctly.\n",
      "Please, enter your age: Twenty Three\n",
      "PLEASE, ENTER YOUR AGE IN NUMBERS ONLY!!\n",
      "Please, enter your age: 23\n",
      "Thank you, your age entered correctly.\n",
      "Please, enter your gender: 1\n",
      "PLEASE, ENTER YOUR GENDER IN LETTERS ONLY!!\n",
      "Please, enter your gender: f\n",
      "Thank you, your gender entered correctly.\n",
      "Please, enter your balance: Six Thousand\n",
      "PLEASE, ENTER YOUR BALANCE IN NUMBERS ONLY!!\n",
      "Please, enter your balance: 6000\n",
      "Thank you, your balance entered correctly.\n",
      "CONGRATUALTIONS YOUR ACCOUNT IS DONE\n",
      "If you want to login press 2. \n",
      "If you want to exit press 0. \n",
      "If you want to register another account press 1. \n",
      "Register press 1: \n",
      "Login press 2: \n",
      "Exit press 0: \n",
      "2\n",
      "Please, enter your username: Hadeeel\n",
      "Pease, enter your password: Hadeel98#\n",
      "YOU DON'T HAVE AN ACCOUNT YET PLEASE REGISTER ONE FIRST\n",
      "Register press 1: \n",
      "Login press 2: \n",
      "Exit press 0: \n",
      "2\n",
      "Please, enter your username: Hadeel\n",
      "Pease, enter your password: Hadeel98#\n",
      "Welcome back to ABC Bank; Please choose the action you want to do from this menue.\n",
      "PLEASE ENTER A NUMBER FROM 0 TO 5: \n",
      "Press 1 if you want to see your account details: \n",
      "Press 2 if you want to see your balance: \n",
      "Press 3 if you want to withdraw: \n",
      "Press 4 if you want to deposit: \n",
      "Press 5 if you want to logout: \n",
      "Press 0 if you want to exit: \n",
      "1\n",
      "['Hadeel', 23, 'F', '29806072102707', 1000, 6000]\n",
      "PLEASE ENTER A NUMBER FROM 0 TO 5: \n",
      "Press 1 if you want to see your account details: \n",
      "Press 2 if you want to see your balance: \n",
      "Press 3 if you want to withdraw: \n",
      "Press 4 if you want to deposit: \n",
      "Press 5 if you want to logout: \n",
      "Press 0 if you want to exit: \n",
      "2\n",
      "6000\n",
      "PLEASE ENTER A NUMBER FROM 0 TO 5: \n",
      "Press 1 if you want to see your account details: \n",
      "Press 2 if you want to see your balance: \n",
      "Press 3 if you want to withdraw: \n",
      "Press 4 if you want to deposit: \n",
      "Press 5 if you want to logout: \n",
      "Press 0 if you want to exit: \n",
      "3\n",
      "Please, enter your password: h\n",
      "RE-ENTER YOUR PASSWORD, THE PASSWORD YOU ENTERED IS WRONG!!\n",
      "Please, enter your password: Hadeel98#\n",
      "Please, enter the withdraw amount: Fifty\n",
      "PLEASE, ENTER THE WITHDRAW AMOUNT IN NUMBERS ONLY!!\n",
      "Please, enter your password: Hadeel98#\n",
      "Please, enter the withdraw amount: 60000\n",
      "OOPS WARNING!! THE AMOUNT YOU ENTERED IS MORE THAN YOUR BALANCE\n",
      "Please, enter your password: Hadeel98#\n",
      "Please, enter the withdraw amount: 50\n",
      "Thank you, Withdraw Done.\n",
      "Balance:  5950\n",
      "None\n",
      "PLEASE ENTER A NUMBER FROM 0 TO 5: \n",
      "Press 1 if you want to see your account details: \n",
      "Press 2 if you want to see your balance: \n",
      "Press 3 if you want to withdraw: \n",
      "Press 4 if you want to deposit: \n",
      "Press 5 if you want to logout: \n",
      "Press 0 if you want to exit: \n",
      "4\n",
      "Please, enter your password: Hadeel98#\n",
      "Please, enter the deposit amount: One Hundred\n",
      "PLEASE, ENTER THE DEPOSIT AMOUNT IN NUMBERS ONLY!!\n",
      "Please, enter your password: Hadeel98#\n",
      "Please, enter the deposit amount: 100\n",
      "Thank you, Deposit Done.\n",
      "Balance:  6050\n",
      "None\n",
      "PLEASE ENTER A NUMBER FROM 0 TO 5: \n",
      "Press 1 if you want to see your account details: \n",
      "Press 2 if you want to see your balance: \n",
      "Press 3 if you want to withdraw: \n",
      "Press 4 if you want to deposit: \n",
      "Press 5 if you want to logout: \n",
      "Press 0 if you want to exit: \n",
      "5\n",
      "Register press 1: \n",
      "Login press 2: \n",
      "Exit press 0: \n",
      "1\n",
      "Please, enter your national id that contains 14 digits: 00000000000000\n",
      "Thank you, your id entered correctly.\n",
      "Please, enter your name: Test\n",
      "Thank you, your name entered correctly.\n",
      "Please, enter a strong password: Test123#\n",
      "Thank you, your password entered correctly.\n",
      "Please, enter your age: 20\n",
      "Thank you, your age entered correctly.\n",
      "Please, enter your gender: m\n",
      "Thank you, your gender entered correctly.\n",
      "Please, enter your balance: 7000\n",
      "Thank you, your balance entered correctly.\n",
      "CONGRATUALTIONS YOUR ACCOUNT IS DONE\n",
      "If you want to login press 2. \n",
      "If you want to exit press 0. \n",
      "If you want to register another account press 1. \n",
      "Register press 1: \n",
      "Login press 2: \n",
      "Exit press 0: \n",
      "2\n",
      "Please, enter your username: Test\n",
      "Pease, enter your password: Test123#\n",
      "Welcome back to ABC Bank; Please choose the action you want to do from this menue.\n",
      "PLEASE ENTER A NUMBER FROM 0 TO 5: \n",
      "Press 1 if you want to see your account details: \n",
      "Press 2 if you want to see your balance: \n",
      "Press 3 if you want to withdraw: \n",
      "Press 4 if you want to deposit: \n",
      "Press 5 if you want to logout: \n",
      "Press 0 if you want to exit: \n",
      "1\n",
      "['Test', 20, 'M', '00000000000000', 1000, 7000]\n",
      "PLEASE ENTER A NUMBER FROM 0 TO 5: \n",
      "Press 1 if you want to see your account details: \n",
      "Press 2 if you want to see your balance: \n",
      "Press 3 if you want to withdraw: \n",
      "Press 4 if you want to deposit: \n",
      "Press 5 if you want to logout: \n",
      "Press 0 if you want to exit: \n",
      "2\n",
      "7000\n",
      "PLEASE ENTER A NUMBER FROM 0 TO 5: \n",
      "Press 1 if you want to see your account details: \n",
      "Press 2 if you want to see your balance: \n",
      "Press 3 if you want to withdraw: \n",
      "Press 4 if you want to deposit: \n",
      "Press 5 if you want to logout: \n",
      "Press 0 if you want to exit: \n",
      "3\n",
      "Please, enter your password: Test123#\n",
      "Please, enter the withdraw amount: 50\n",
      "Thank you, Withdraw Done.\n",
      "Balance:  6950\n",
      "None\n",
      "PLEASE ENTER A NUMBER FROM 0 TO 5: \n",
      "Press 1 if you want to see your account details: \n",
      "Press 2 if you want to see your balance: \n",
      "Press 3 if you want to withdraw: \n",
      "Press 4 if you want to deposit: \n",
      "Press 5 if you want to logout: \n",
      "Press 0 if you want to exit: \n",
      "4\n",
      "Please, enter your password: Test123#\n",
      "Please, enter the deposit amount: 150\n",
      "Thank you, Deposit Done.\n",
      "Balance:  7100\n",
      "None\n",
      "PLEASE ENTER A NUMBER FROM 0 TO 5: \n",
      "Press 1 if you want to see your account details: \n",
      "Press 2 if you want to see your balance: \n",
      "Press 3 if you want to withdraw: \n",
      "Press 4 if you want to deposit: \n",
      "Press 5 if you want to logout: \n",
      "Press 0 if you want to exit: \n",
      "0\n"
     ]
    },
    {
     "data": {
      "text/plain": [
       "0"
      ]
     },
     "execution_count": 23,
     "metadata": {},
     "output_type": "execute_result"
    }
   ],
   "source": [
    "main_function()"
   ]
  },
  {
   "cell_type": "code",
   "execution_count": null,
   "metadata": {},
   "outputs": [],
   "source": []
  }
 ],
 "metadata": {
  "kernelspec": {
   "display_name": "Python 3",
   "language": "python",
   "name": "python3"
  },
  "language_info": {
   "codemirror_mode": {
    "name": "ipython",
    "version": 3
   },
   "file_extension": ".py",
   "mimetype": "text/x-python",
   "name": "python",
   "nbconvert_exporter": "python",
   "pygments_lexer": "ipython3",
   "version": "3.7.6"
  }
 },
 "nbformat": 4,
 "nbformat_minor": 4
}
