{
 "cells": [
  {
   "cell_type": "code",
   "execution_count": 15,
   "metadata": {},
   "outputs": [
    {
     "name": "stdout",
     "output_type": "stream",
     "text": [
      "25.75\n"
     ]
    }
   ],
   "source": [
    "# calculating mean\n",
    "dataset=[1,3,55,66,3,66,3,9]\n",
    "sum=0\n",
    "for i in dataset :\n",
    "    sum+=i\n",
    "    \n",
    "print(sum/len(dataset))"
   ]
  },
  {
   "cell_type": "code",
   "execution_count": 22,
   "metadata": {},
   "outputs": [
    {
     "name": "stdout",
     "output_type": "stream",
     "text": [
      "median is : 6.0\n"
     ]
    }
   ],
   "source": [
    "# calculating median\n",
    "dataset=[1,3,55,66,3,66,3,9]\n",
    "n=len(dataset)\n",
    "dataset.sort()\n",
    "if n % 2==0 :\n",
    "    median1=dataset[n//2]\n",
    "    median2=dataset[n//2 - 1]\n",
    "    median= (median1 + median2) / 2\n",
    "else :\n",
    "    median = dataset[n//2]\n",
    "    \n",
    "print(\"median is :\",median)"
   ]
  },
  {
   "cell_type": "code",
   "execution_count": null,
   "metadata": {},
   "outputs": [],
   "source": []
  }
 ],
 "metadata": {
  "kernelspec": {
   "display_name": "Python 3",
   "language": "python",
   "name": "python3"
  },
  "language_info": {
   "codemirror_mode": {
    "name": "ipython",
    "version": 3
   },
   "file_extension": ".py",
   "mimetype": "text/x-python",
   "name": "python",
   "nbconvert_exporter": "python",
   "pygments_lexer": "ipython3",
   "version": "3.8.5"
  }
 },
 "nbformat": 4,
 "nbformat_minor": 4
}
