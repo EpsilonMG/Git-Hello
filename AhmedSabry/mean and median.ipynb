{
 "cells": [
  {
   "cell_type": "code",
   "execution_count": 1,
   "id": "f3b1a365",
   "metadata": {},
   "outputs": [
    {
     "name": "stdout",
     "output_type": "stream",
     "text": [
      "25.75\n"
     ]
    }
   ],
   "source": [
    "flist = [1,3,55,66,3,66,3,9]\n",
    "\n",
    "getMean = (sum(flist))/len(flist)\n",
    "\n",
    "print(getMean)"
   ]
  },
  {
   "cell_type": "code",
   "execution_count": 8,
   "id": "913edaa5",
   "metadata": {},
   "outputs": [
    {
     "name": "stdout",
     "output_type": "stream",
     "text": [
      "result :  6.0\n"
     ]
    }
   ],
   "source": [
    "slist = [1,3,55,66,3,66,3,9]\n",
    "\n",
    "slist.sort()\n",
    "\n",
    "if len(slist) % 2 == 0:\n",
    "    \n",
    "    med1 = slist[len(slist)//2]\n",
    "    \n",
    "    med2 = slist[len(slist)//2 - 1]\n",
    "    \n",
    "    med = (med1 + med2)/2\n",
    "    \n",
    "else:\n",
    "    \n",
    "    med = slist[len(slist)//2]\n",
    "    \n",
    "print(\"result : \" , med)"
   ]
  },
  {
   "cell_type": "code",
   "execution_count": null,
   "id": "ec9f1d10",
   "metadata": {},
   "outputs": [],
   "source": []
  }
 ],
 "metadata": {
  "kernelspec": {
   "display_name": "Python 3",
   "language": "python",
   "name": "python3"
  },
  "language_info": {
   "codemirror_mode": {
    "name": "ipython",
    "version": 3
   },
   "file_extension": ".py",
   "mimetype": "text/x-python",
   "name": "python",
   "nbconvert_exporter": "python",
   "pygments_lexer": "ipython3",
   "version": "3.8.8"
  }
 },
 "nbformat": 4,
 "nbformat_minor": 5
}
