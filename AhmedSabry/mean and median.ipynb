{
 "cells": [
  {
   "cell_type": "code",
   "execution_count": 1,
   "id": "21f5519d",
   "metadata": {},
   "outputs": [
    {
     "name": "stdout",
     "output_type": "stream",
     "text": [
      "25.75\n"
     ]
    }
   ],
   "source": [
    "flist = [1,3,55,66,3,66,3,9]\n",
    "\n",
    "getMean = (sum(flist))/len(flist)\n",
    "\n",
    "print(getMean)"
   ]
  },
  {
   "cell_type": "code",
   "execution_count": 5,
   "id": "a52902aa",
   "metadata": {},
   "outputs": [
    {
     "name": "stdout",
     "output_type": "stream",
     "text": [
      "result :  6.0\n"
     ]
    }
   ],
   "source": [
    "slist = [1,3,55,66,3,66,3,9]\n",
    "\n",
    "slist.sort()\n",
    "\n",
    "if len(slist) % 2 == 0:\n",
    "    \n",
    "    med1 = slist[len(slist)//2]\n",
    "    \n",
    "    med2 = slist[len(slist)//2 - 1]\n",
    "    \n",
    "    med = (med1 + med2)/2\n",
    "    \n",
    "else:\n",
    "    \n",
    "    median = sist[len(slist)//2]\n",
    "    \n",
    "print(\"result : \" , med)"
   ]
  },
  {
   "cell_type": "code",
   "execution_count": null,
   "id": "944fd575",
   "metadata": {},
   "outputs": [],
   "source": []
  }
 ],
 "metadata": {
  "kernelspec": {
   "display_name": "Python 3",
   "language": "python",
   "name": "python3"
  },
  "language_info": {
   "codemirror_mode": {
    "name": "ipython",
    "version": 3
   },
   "file_extension": ".py",
   "mimetype": "text/x-python",
   "name": "python",
   "nbconvert_exporter": "python",
   "pygments_lexer": "ipython3",
   "version": "3.8.8"
  }
 },
 "nbformat": 4,
 "nbformat_minor": 5
}
