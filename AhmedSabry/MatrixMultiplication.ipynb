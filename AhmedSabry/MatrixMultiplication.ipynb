{
 "cells": [
  {
   "cell_type": "code",
   "execution_count": 4,
   "id": "b7f3c0aa",
   "metadata": {},
   "outputs": [],
   "source": [
    "import numpy as np\n",
    "# two dimensional arrays\n",
    "m1 = np.array([[1,4,7],[2,5,8]])\n",
    "m2 = np.array([[1,4],[2,5],[3,6]])\n",
    "m3 = np.dot(m1,m2) \n",
    "\n",
    "# three dimensional arrays\n",
    "mm1 = ([1, 6, 5],[3 ,4, 8],[2, 12, 3]) \n",
    "mm2 = ([3, 4, 6],[5, 6, 7],[6,56, 7]) \n",
    "mm3 = np.dot(m1,m2) \n"
   ]
  },
  {
   "cell_type": "code",
   "execution_count": 5,
   "id": "be4c0f87",
   "metadata": {},
   "outputs": [
    {
     "name": "stdout",
     "output_type": "stream",
     "text": [
      "[[30 66]\n",
      " [36 81]]\n"
     ]
    }
   ],
   "source": [
    "print(m3)"
   ]
  },
  {
   "cell_type": "code",
   "execution_count": 7,
   "id": "ae4be62c",
   "metadata": {},
   "outputs": [
    {
     "name": "stdout",
     "output_type": "stream",
     "text": [
      "[[30 66]\n",
      " [36 81]]\n"
     ]
    }
   ],
   "source": [
    "print(mm3)"
   ]
  },
  {
   "cell_type": "code",
   "execution_count": null,
   "id": "0de94db5",
   "metadata": {},
   "outputs": [],
   "source": []
  }
 ],
 "metadata": {
  "kernelspec": {
   "display_name": "Python 3",
   "language": "python",
   "name": "python3"
  },
  "language_info": {
   "codemirror_mode": {
    "name": "ipython",
    "version": 3
   },
   "file_extension": ".py",
   "mimetype": "text/x-python",
   "name": "python",
   "nbconvert_exporter": "python",
   "pygments_lexer": "ipython3",
   "version": "3.8.8"
  }
 },
 "nbformat": 4,
 "nbformat_minor": 5
}
