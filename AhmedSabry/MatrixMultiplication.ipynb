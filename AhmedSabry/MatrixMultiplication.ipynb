{
 "cells": [
  {
   "cell_type": "code",
   "execution_count": 1,
   "id": "d956d196",
   "metadata": {},
   "outputs": [
    {
     "name": "stdout",
     "output_type": "stream",
     "text": [
      "[[30 66]\n",
      " [36 81]]\n",
      "[[ 63 320  83]\n",
      " [ 77 484 102]\n",
      " [ 84 248 117]]\n"
     ]
    }
   ],
   "source": [
    "import numpy as np\n",
    "# two dimensional arrays\n",
    "m1 = np.array([[1,4,7],[2,5,8]])\n",
    "m2 = np.array([[1,4],[2,5],[3,6]])\n",
    "m3 = np.dot(m1,m2) \n",
    "print(m3) \n",
    "\n",
    "# three dimensional arrays\n",
    "m1 = ([1, 6, 5],[3 ,4, 8],[2, 12, 3]) \n",
    "m2 = ([3, 4, 6],[5, 6, 7],[6,56, 7]) \n",
    "m3 = np.dot(m1,m2) \n",
    "print(m3) "
   ]
  },
  {
   "cell_type": "code",
   "execution_count": null,
   "id": "2441dc3b",
   "metadata": {},
   "outputs": [],
   "source": []
  }
 ],
 "metadata": {
  "kernelspec": {
   "display_name": "Python 3",
   "language": "python",
   "name": "python3"
  },
  "language_info": {
   "codemirror_mode": {
    "name": "ipython",
    "version": 3
   },
   "file_extension": ".py",
   "mimetype": "text/x-python",
   "name": "python",
   "nbconvert_exporter": "python",
   "pygments_lexer": "ipython3",
   "version": "3.8.8"
  }
 },
 "nbformat": 4,
 "nbformat_minor": 5
}
