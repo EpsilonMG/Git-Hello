{
 "cells": [
  {
   "cell_type": "code",
   "execution_count": 5,
   "id": "a5f4730b",
   "metadata": {},
   "outputs": [],
   "source": [
    "import numpy as np\n",
    "lst = [1, 3, 55, 66, 3, 66, 3, 9]"
   ]
  },
  {
   "cell_type": "code",
   "execution_count": 19,
   "id": "e683f766",
   "metadata": {},
   "outputs": [
    {
     "name": "stdout",
     "output_type": "stream",
     "text": [
      "Mean : 25.75\n"
     ]
    }
   ],
   "source": [
    "men = sum(lst) / len(lst)\n",
    "print(f\"Mean without liberary : {men}\")"
   ]
  },
  {
   "cell_type": "code",
   "execution_count": 20,
   "id": "c58b3623",
   "metadata": {},
   "outputs": [
    {
     "name": "stdout",
     "output_type": "stream",
     "text": [
      "Mean with loberary : 25.75\n"
     ]
    }
   ],
   "source": [
    "npmean = np.mean(lst)\n",
    "print(f\"Mean with loberary : {npmean}\")"
   ]
  },
  {
   "cell_type": "code",
   "execution_count": 14,
   "id": "e32a1d71",
   "metadata": {},
   "outputs": [
    {
     "data": {
      "text/plain": [
       "[1, 3, 3, 3, 9, 55, 66, 66]"
      ]
     },
     "execution_count": 14,
     "metadata": {},
     "output_type": "execute_result"
    }
   ],
   "source": [
    "lst.sort()\n",
    "lst"
   ]
  },
  {
   "cell_type": "code",
   "execution_count": 22,
   "id": "93829d07",
   "metadata": {},
   "outputs": [
    {
     "name": "stdout",
     "output_type": "stream",
     "text": [
      "Median without liberary: 6.0\n"
     ]
    }
   ],
   "source": [
    "if len(lst) % 2 != 0:\n",
    "    med = lst[len(lst) // 2]\n",
    "else:\n",
    "    med1 = lst[len(lst) //2]\n",
    "    med2 = lst[len(lst) // 2 -1]\n",
    "    med = (med1 + med2) /2\n",
    "    \n",
    "print(f\"Median without liberary: {med}\")"
   ]
  },
  {
   "cell_type": "code",
   "execution_count": 23,
   "id": "8fd49938",
   "metadata": {},
   "outputs": [
    {
     "name": "stdout",
     "output_type": "stream",
     "text": [
      "Median with liberary: 6.0\n"
     ]
    }
   ],
   "source": [
    "print(f\"Median with liberary: {np.median(lst)}\")"
   ]
  },
  {
   "cell_type": "code",
   "execution_count": 24,
   "id": "43652875",
   "metadata": {},
   "outputs": [
    {
     "data": {
      "text/plain": [
       "[1, 3, 3, 3, 9, 55, 66, 66]"
      ]
     },
     "execution_count": 24,
     "metadata": {},
     "output_type": "execute_result"
    }
   ],
   "source": [
    "lst"
   ]
  },
  {
   "cell_type": "code",
   "execution_count": null,
   "id": "460af4cd",
   "metadata": {},
   "outputs": [],
   "source": []
  },
  {
   "cell_type": "code",
   "execution_count": null,
   "id": "ccef8e1f",
   "metadata": {},
   "outputs": [],
   "source": []
  },
  {
   "cell_type": "code",
   "execution_count": 93,
   "id": "d9122697",
   "metadata": {},
   "outputs": [],
   "source": [
    "mod = {k : lst.count(k) for k in set(lst)}"
   ]
  },
  {
   "cell_type": "code",
   "execution_count": 94,
   "id": "9136893a",
   "metadata": {},
   "outputs": [
    {
     "data": {
      "text/plain": [
       "{1: 1, 66: 2, 3: 3, 9: 1, 55: 1}"
      ]
     },
     "execution_count": 94,
     "metadata": {},
     "output_type": "execute_result"
    }
   ],
   "source": [
    "mod"
   ]
  },
  {
   "cell_type": "code",
   "execution_count": 95,
   "id": "4078223c",
   "metadata": {},
   "outputs": [],
   "source": [
    "key_lst = list(mod.keys())\n",
    "value_lst = list(mod.values())"
   ]
  },
  {
   "cell_type": "code",
   "execution_count": 96,
   "id": "367dd770",
   "metadata": {},
   "outputs": [
    {
     "data": {
      "text/plain": [
       "2"
      ]
     },
     "execution_count": 96,
     "metadata": {},
     "output_type": "execute_result"
    }
   ],
   "source": [
    "position = value_lst.index(max(value_lst))\n",
    "position"
   ]
  },
  {
   "cell_type": "code",
   "execution_count": 97,
   "id": "17f06f42",
   "metadata": {},
   "outputs": [
    {
     "name": "stdout",
     "output_type": "stream",
     "text": [
      "mode without liberary: 3\n"
     ]
    }
   ],
   "source": [
    "print(f\"mode without liberary: {key_lst[position]}\")"
   ]
  },
  {
   "cell_type": "code",
   "execution_count": 98,
   "id": "39b239e6",
   "metadata": {},
   "outputs": [],
   "source": [
    "from collections import Counter"
   ]
  },
  {
   "cell_type": "code",
   "execution_count": 99,
   "id": "5c908fd0",
   "metadata": {},
   "outputs": [],
   "source": [
    "counter = Counter(lst)"
   ]
  },
  {
   "cell_type": "code",
   "execution_count": 101,
   "id": "fe5ff407",
   "metadata": {},
   "outputs": [
    {
     "data": {
      "text/plain": [
       "[(3, 3), (66, 2), (1, 1), (9, 1), (55, 1)]"
      ]
     },
     "execution_count": 101,
     "metadata": {},
     "output_type": "execute_result"
    }
   ],
   "source": [
    "mod = counter.most_common()\n",
    "mod"
   ]
  },
  {
   "cell_type": "code",
   "execution_count": 103,
   "id": "88546b1f",
   "metadata": {},
   "outputs": [
    {
     "name": "stdout",
     "output_type": "stream",
     "text": [
      "mode with liberary: 3\n"
     ]
    }
   ],
   "source": [
    "print(f\"mode with liberary: {mod[0][0]}\")"
   ]
  },
  {
   "cell_type": "code",
   "execution_count": 104,
   "id": "35cbc260",
   "metadata": {},
   "outputs": [],
   "source": [
    "variance = sum((i - men) ** 2 for i in lst) / len(lst)"
   ]
  },
  {
   "cell_type": "code",
   "execution_count": 105,
   "id": "538b901a",
   "metadata": {},
   "outputs": [
    {
     "name": "stdout",
     "output_type": "stream",
     "text": [
      "variance without liberary : 817.6875\n"
     ]
    }
   ],
   "source": [
    "print(f\"variance without liberary : {variance}\")"
   ]
  },
  {
   "cell_type": "code",
   "execution_count": 106,
   "id": "9385854b",
   "metadata": {},
   "outputs": [
    {
     "name": "stdout",
     "output_type": "stream",
     "text": [
      "variance with liberary: 817.6875\n"
     ]
    }
   ],
   "source": [
    "print(f\"variance with liberary: {np.var(lst)}\")"
   ]
  },
  {
   "cell_type": "code",
   "execution_count": null,
   "id": "ef1da00c",
   "metadata": {},
   "outputs": [],
   "source": []
  }
 ],
 "metadata": {
  "kernelspec": {
   "display_name": "Python 3",
   "language": "python",
   "name": "python3"
  },
  "language_info": {
   "codemirror_mode": {
    "name": "ipython",
    "version": 3
   },
   "file_extension": ".py",
   "mimetype": "text/x-python",
   "name": "python",
   "nbconvert_exporter": "python",
   "pygments_lexer": "ipython3",
   "version": "3.8.8"
  }
 },
 "nbformat": 4,
 "nbformat_minor": 5
}
