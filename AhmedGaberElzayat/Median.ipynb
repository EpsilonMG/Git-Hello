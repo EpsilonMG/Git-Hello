{
 "cells": [
  {
   "cell_type": "code",
   "execution_count": 29,
   "metadata": {},
   "outputs": [
    {
     "name": "stdout",
     "output_type": "stream",
     "text": [
      "[1, 3, 3, 3, 9, 55, 66, 66]\n",
      "6.0\n"
     ]
    }
   ],
   "source": [
    "my_list = [1,3,55,66,3,66,3,9]\n",
    "my_list.sort()\n",
    "if len(my_list)%2==0:\n",
    "    print(my_list)\n",
    "    term = int(len(my_list)/2)\n",
    "    mean =(my_list[term-1]+my_list[term])/2\n",
    "else:\n",
    "    print(my_list)\n",
    "    mean =(my_list[term])/2\n",
    "print(mean)"
   ]
  },
  {
   "cell_type": "code",
   "execution_count": null,
   "metadata": {},
   "outputs": [],
   "source": []
  }
 ],
 "metadata": {
  "kernelspec": {
   "display_name": "Python 3",
   "language": "python",
   "name": "python3"
  },
  "language_info": {
   "codemirror_mode": {
    "name": "ipython",
    "version": 3
   },
   "file_extension": ".py",
   "mimetype": "text/x-python",
   "name": "python",
   "nbconvert_exporter": "python",
   "pygments_lexer": "ipython3",
   "version": "3.7.6"
  }
 },
 "nbformat": 4,
 "nbformat_minor": 4
}
