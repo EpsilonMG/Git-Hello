{
 "cells": [
  {
   "cell_type": "code",
   "execution_count": 1,
   "metadata": {},
   "outputs": [
    {
     "name": "stdout",
     "output_type": "stream",
     "text": [
      "the mean without library is:  25.75\n"
     ]
    }
   ],
   "source": [
    "x=[1,3,55,66,3,66,3,9]\n",
    "total=0\n",
    "for i in range(len(x)):\n",
    "    total+=x[i]\n",
    "mean=total/len(x)\n",
    "print(\"the mean without library is: \",mean)"
   ]
  },
  {
   "cell_type": "code",
   "execution_count": 2,
   "metadata": {},
   "outputs": [
    {
     "name": "stdout",
     "output_type": "stream",
     "text": [
      "median is :  6\n"
     ]
    }
   ],
   "source": [
    "x.sort()\n",
    "if len(x)%2==0:\n",
    "    y=len(x)//2\n",
    "    median=(x[y]+x[y-1])//2\n",
    "    print(\"median is : \",median)\n",
    "else:\n",
    "    median=len(x)//2\n",
    "    print(\"median is : \",x[median])"
   ]
  },
  {
   "cell_type": "code",
   "execution_count": 3,
   "metadata": {},
   "outputs": [
    {
     "name": "stdout",
     "output_type": "stream",
     "text": [
      "{1: 1, 3: 3, 55: 1, 66: 2, 9: 1}\n",
      "3\n"
     ]
    }
   ],
   "source": [
    "x=[1,3,55,66,3,66,3,9]\n",
    "count={}\n",
    "for i in range(len(x)):\n",
    "    count[x[i]]=0\n",
    "    for z in range(len(x)):\n",
    "        if x[i]==x[z]:\n",
    "            count[x[z]]+=1\n",
    "print(count)\n",
    "for k,v in count.items():\n",
    "    n=max(list(count.values()))\n",
    "    if v==n:\n",
    "        print(n)"
   ]
  },
  {
   "cell_type": "code",
   "execution_count": 4,
   "metadata": {},
   "outputs": [
    {
     "name": "stdout",
     "output_type": "stream",
     "text": [
      "mean with library:  25.75\n"
     ]
    }
   ],
   "source": [
    "x=[1,3,55,66,3,66,3,9]\n",
    "import numpy as np\n",
    "mean=np.mean(x)\n",
    "print(\"mean with library: \",mean)"
   ]
  },
  {
   "cell_type": "code",
   "execution_count": 5,
   "metadata": {},
   "outputs": [
    {
     "name": "stdout",
     "output_type": "stream",
     "text": [
      "median with library:  6.0\n"
     ]
    }
   ],
   "source": [
    "median=np.median(x)\n",
    "print(\"median with library: \",median)"
   ]
  },
  {
   "cell_type": "code",
   "execution_count": 6,
   "metadata": {},
   "outputs": [
    {
     "name": "stdout",
     "output_type": "stream",
     "text": [
      "mode with library:  3\n"
     ]
    }
   ],
   "source": [
    "from statistics import mode\n",
    "print(\"mode with library: \",mode(x))"
   ]
  },
  {
   "cell_type": "code",
   "execution_count": 7,
   "metadata": {},
   "outputs": [
    {
     "name": "stdout",
     "output_type": "stream",
     "text": [
      "[(3, 3), (66, 2), (1, 1), (55, 1), (9, 1)]\n",
      "3\n"
     ]
    }
   ],
   "source": [
    "from collections import Counter\n",
    "c=Counter(x)\n",
    "print(c.most_common())\n",
    "print(c.most_common()[0][0])"
   ]
  },
  {
   "cell_type": "code",
   "execution_count": 13,
   "metadata": {},
   "outputs": [
    {
     "data": {
      "text/plain": [
       "[4.877379926913251,\n",
       " 4.483248215647534,\n",
       " 5.764176277261115,\n",
       " 7.93190068922256,\n",
       " 4.483248215647534,\n",
       " 7.93190068922256,\n",
       " 4.483248215647534,\n",
       " 3.300853081850382]"
      ]
     },
     "execution_count": 13,
     "metadata": {},
     "output_type": "execute_result"
    }
   ],
   "source": [
    "import numpy as np\n",
    "x=[1,3,55,66,3,66,3,9]\n",
    "y=[]\n",
    "for u in x:\n",
    "    mean=np.mean(x)\n",
    "    p=(u-mean)**2/mean\n",
    "    y.append(p**0.5)\n",
    "y"
   ]
  },
  {
   "cell_type": "code",
   "execution_count": 14,
   "metadata": {},
   "outputs": [],
   "source": [
    "import numpy as np\n",
    "x=np.array([1,3,55,66,3,66,3,9])\n",
    "for i in x:\n",
    "    m=np.var(i)\n",
    "    m"
   ]
  },
  {
   "cell_type": "code",
   "execution_count": null,
   "metadata": {},
   "outputs": [],
   "source": []
  }
 ],
 "metadata": {
  "kernelspec": {
   "display_name": "Python 3",
   "language": "python",
   "name": "python3"
  },
  "language_info": {
   "codemirror_mode": {
    "name": "ipython",
    "version": 3
   },
   "file_extension": ".py",
   "mimetype": "text/x-python",
   "name": "python",
   "nbconvert_exporter": "python",
   "pygments_lexer": "ipython3",
   "version": "3.7.6"
  }
 },
 "nbformat": 4,
 "nbformat_minor": 4
}
