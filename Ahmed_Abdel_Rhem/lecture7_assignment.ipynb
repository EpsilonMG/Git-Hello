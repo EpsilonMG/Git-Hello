{
 "cells": [
  {
   "cell_type": "code",
   "execution_count": null,
   "id": "7f3601c0",
   "metadata": {},
   "outputs": [],
   "source": [
    "Including a python file (calculating Mean, Median, mode and Variance value for [1,3,55,66,3,66,3,9])\n"
   ]
  },
  {
   "cell_type": "code",
   "execution_count": 6,
   "id": "799eb4c1",
   "metadata": {},
   "outputs": [
    {
     "name": "stdout",
     "output_type": "stream",
     "text": [
      "mean value =25.75\n"
     ]
    }
   ],
   "source": [
    "x = [1,3,55,66,3,66,3,9]\n",
    "summ=0\n",
    "for n in x:\n",
    "    summ+=n\n",
    "    mean=summ /(len(x))\n",
    "print (f\"mean value ={mean}\")\n",
    "\n"
   ]
  },
  {
   "cell_type": "code",
   "execution_count": 17,
   "id": "da02c066",
   "metadata": {},
   "outputs": [
    {
     "data": {
      "text/plain": [
       "6.0"
      ]
     },
     "execution_count": 17,
     "metadata": {},
     "output_type": "execute_result"
    }
   ],
   "source": [
    "x = [1,3,55,66,3,66,3,9]\n",
    "x.sort()\n",
    "if len (x)%2==0:\n",
    "    med1=x[len(x)//2]\n",
    "    med2=x[(len(x)//2)-1]\n",
    "    med=(med1+med2)/2\n",
    "else:\n",
    "    med=x[len(x)//2]\n",
    "med\n",
    "    \n"
   ]
  },
  {
   "cell_type": "code",
   "execution_count": 18,
   "id": "46f702a6",
   "metadata": {},
   "outputs": [
    {
     "data": {
      "text/plain": [
       "3"
      ]
     },
     "execution_count": 18,
     "metadata": {},
     "output_type": "execute_result"
    }
   ],
   "source": [
    "x = [1,3,55,66,3,66,3,9]\n",
    "counter={}\n",
    "for i in range(len(x)):\n",
    "    counter[x[i]]=0\n",
    "    for el in x:\n",
    "        if el==x[i]:\n",
    "            counter[x[i]]+=1\n",
    "\n",
    "\n",
    "            \n",
    "            \n",
    "mode=[k for k,v in counter.items() if v==max(list(counter.values()))]\n",
    "mode[0]"
   ]
  },
  {
   "cell_type": "code",
   "execution_count": 23,
   "id": "fe194b1e",
   "metadata": {},
   "outputs": [
    {
     "data": {
      "text/plain": [
       "817.6875"
      ]
     },
     "execution_count": 23,
     "metadata": {},
     "output_type": "execute_result"
    }
   ],
   "source": [
    "x = [1,3,55,66,3,66,3,9]\n",
    "summ=0\n",
    "for n in x:\n",
    "    summ+=n\n",
    "    mean=summ /(len(x))\n",
    "lst=[]\n",
    "for n in x:\n",
    "    j=(n-mean)**2\n",
    "    lst.append(j)\n",
    "summ=0\n",
    "for i in lst:\n",
    "    summ=i+summ\n",
    "    var=summ /(len(x))\n",
    "\n",
    "var"
   ]
  },
  {
   "cell_type": "code",
   "execution_count": 46,
   "id": "ce93e83a",
   "metadata": {},
   "outputs": [],
   "source": [
    "import numpy as np\n",
    "import statistics as st\n",
    "from statistics import mode\n",
    "from statistics import variance"
   ]
  },
  {
   "cell_type": "code",
   "execution_count": 47,
   "id": "dfc0c045",
   "metadata": {},
   "outputs": [
    {
     "name": "stdout",
     "output_type": "stream",
     "text": [
      "mean value =25.75\n",
      "median value =6.0\n",
      "mode value =3\n",
      "var value =817.6875\n"
     ]
    }
   ],
   "source": [
    "mean=np.mean(x)\n",
    "median=np.median(x)\n",
    "mode=mode(x)\n",
    "var=np.var(x)\n",
    "print (f\"mean value ={mean}\")\n",
    "print (f\"median value ={median}\")\n",
    "print (f\"mode value ={mode}\")\n",
    "print (f\"var value ={var}\")"
   ]
  },
  {
   "cell_type": "code",
   "execution_count": null,
   "id": "911a94ce",
   "metadata": {},
   "outputs": [],
   "source": []
  },
  {
   "cell_type": "code",
   "execution_count": null,
   "id": "ddd590d6",
   "metadata": {},
   "outputs": [],
   "source": []
  }
 ],
 "metadata": {
  "kernelspec": {
   "display_name": "Python 3",
   "language": "python",
   "name": "python3"
  },
  "language_info": {
   "codemirror_mode": {
    "name": "ipython",
    "version": 3
   },
   "file_extension": ".py",
   "mimetype": "text/x-python",
   "name": "python",
   "nbconvert_exporter": "python",
   "pygments_lexer": "ipython3",
   "version": "3.8.8"
  }
 },
 "nbformat": 4,
 "nbformat_minor": 5
}
