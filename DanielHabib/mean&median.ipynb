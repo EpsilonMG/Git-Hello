{
 "cells": [
  {
   "cell_type": "code",
   "execution_count": 2,
   "source": [
    "mylist = [1,3,55,66,3,66,3,9]\r\n",
    "mean = (sum(mylist))/len(mylist)\r\n",
    "print(mean)"
   ],
   "outputs": [
    {
     "output_type": "stream",
     "name": "stdout",
     "text": [
      "25.75\n"
     ]
    }
   ],
   "metadata": {}
  },
  {
   "cell_type": "code",
   "execution_count": 3,
   "source": [
    "mylist.sort()\r\n",
    "if len(mylist) % 2 == 0:\r\n",
    "    median1 = mylist[len(mylist)//2]\r\n",
    "    median2 = mylist[len(mylist)//2 - 1]\r\n",
    "    median = (median1 + median2)/2\r\n",
    "else:\r\n",
    "    median = mylist[len(mylist)//2]\r\n",
    "print(\"Median is: \" + str(median))\r\n"
   ],
   "outputs": [
    {
     "output_type": "stream",
     "name": "stdout",
     "text": [
      "Median is: 6.0\n"
     ]
    }
   ],
   "metadata": {}
  }
 ],
 "metadata": {
  "orig_nbformat": 4,
  "language_info": {
   "name": "python",
   "version": "3.7.6",
   "mimetype": "text/x-python",
   "codemirror_mode": {
    "name": "ipython",
    "version": 3
   },
   "pygments_lexer": "ipython3",
   "nbconvert_exporter": "python",
   "file_extension": ".py"
  },
  "kernelspec": {
   "name": "python3",
   "display_name": "Python 3.7.6 64-bit ('base': conda)"
  },
  "interpreter": {
   "hash": "ed225720166559e7176d3793db16a2fd8d295f725007103b21ac3099d2a89ee8"
  }
 },
 "nbformat": 4,
 "nbformat_minor": 2
}