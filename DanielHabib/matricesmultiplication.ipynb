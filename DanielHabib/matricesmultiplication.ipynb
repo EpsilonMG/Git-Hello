{
 "cells": [
  {
   "cell_type": "code",
   "execution_count": 7,
   "source": [
    "import numpy as np\r\n",
    "matrixA = np.array([ [4,6,6], [9,3,5] ])\r\n",
    "matrixB = np.array([ [6,2], [3,5], [8,1] ])\r\n",
    "dotproduct = matrixA.dot(matrixB)\r\n",
    "print(\"Matrix A:\\n\", matrixA, \"\\n Matrix B:\\n\", matrixB, \"\\n Result:\\n\", dotproduct)"
   ],
   "outputs": [
    {
     "output_type": "stream",
     "name": "stdout",
     "text": [
      "Matrix A:\n",
      " [[4 6 6]\n",
      " [9 3 5]] \n",
      " Matrix B:\n",
      " [[6 2]\n",
      " [3 5]\n",
      " [8 1]] \n",
      " Result:\n",
      " [[ 90  44]\n",
      " [103  38]]\n"
     ]
    }
   ],
   "metadata": {}
  },
  {
   "cell_type": "code",
   "execution_count": null,
   "source": [],
   "outputs": [],
   "metadata": {}
  }
 ],
 "metadata": {
  "kernelspec": {
   "name": "python3",
   "display_name": "Python 3.7.6 64-bit ('base': conda)"
  },
  "language_info": {
   "codemirror_mode": {
    "name": "ipython",
    "version": 3
   },
   "file_extension": ".py",
   "mimetype": "text/x-python",
   "name": "python",
   "nbconvert_exporter": "python",
   "pygments_lexer": "ipython3",
   "version": "3.7.6"
  },
  "interpreter": {
   "hash": "ed225720166559e7176d3793db16a2fd8d295f725007103b21ac3099d2a89ee8"
  }
 },
 "nbformat": 4,
 "nbformat_minor": 2
}