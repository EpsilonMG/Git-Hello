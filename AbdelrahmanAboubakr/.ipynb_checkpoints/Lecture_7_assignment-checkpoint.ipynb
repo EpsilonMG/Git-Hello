{
 "cells": [
  {
   "cell_type": "code",
   "execution_count": 3,
   "metadata": {},
   "outputs": [
    {
     "data": {
      "text/plain": [
       "25.75"
      ]
     },
     "execution_count": 3,
     "metadata": {},
     "output_type": "execute_result"
    }
   ],
   "source": [
    "x = [1,3,55,66,3,66,3,9]\n",
    "summ=0\n",
    "for n in x:\n",
    "    summ = n + summ\n",
    "mean = summ/len(x)\n",
    "mean"
   ]
  },
  {
   "cell_type": "code",
   "execution_count": 15,
   "metadata": {},
   "outputs": [
    {
     "data": {
      "text/plain": [
       "6.0"
      ]
     },
     "execution_count": 15,
     "metadata": {},
     "output_type": "execute_result"
    }
   ],
   "source": [
    "x = [1,3,55,66,3,66,3,9]\n",
    "x.sort()\n",
    "if len(x)%2 != 0:\n",
    "    median = x[(len(x)//2)]\n",
    "else:\n",
    "    m1 = x[len(x)//2]\n",
    "    m2 = x[(len(x)//2)-1]\n",
    "    median = (m1+m2)/2\n",
    "median\n"
   ]
  },
  {
   "cell_type": "code",
   "execution_count": 34,
   "metadata": {},
   "outputs": [
    {
     "data": {
      "text/plain": [
       "3"
      ]
     },
     "execution_count": 34,
     "metadata": {},
     "output_type": "execute_result"
    }
   ],
   "source": [
    "x = [1,3,55,66,3,66,3,9]\n",
    "counter={}\n",
    "for i in range(len(x)):\n",
    "    counter[x[i]]=0\n",
    "    for el in x:\n",
    "        if el==x[i]:\n",
    "            counter[x[i]]+=1\n",
    "\n",
    "\n",
    "            \n",
    "            \n",
    "mode=[k for k,v in counter.items() if v==max(list(counter.values()))]\n",
    "mode[0]"
   ]
  },
  {
   "cell_type": "code",
   "execution_count": 41,
   "metadata": {},
   "outputs": [
    {
     "data": {
      "text/plain": [
       "843.4375"
      ]
     },
     "execution_count": 41,
     "metadata": {},
     "output_type": "execute_result"
    }
   ],
   "source": [
    "x = [1,3,55,66,3,66,3,9]\n",
    "summ=0\n",
    "for n in x:\n",
    "    summ = n + summ\n",
    "mean = summ/len(x)\n",
    "mean\n",
    "lst = []\n",
    "for n in x:\n",
    "    m = (n-mean)**2\n",
    "    lst.append(m)\n",
    "lst\n",
    "for n in lst:\n",
    "    summ = n + summ\n",
    "variance = summ/len(lst)\n",
    "variance"
   ]
  },
  {
   "cell_type": "code",
   "execution_count": 48,
   "metadata": {},
   "outputs": [],
   "source": [
    "import numpy as np\n",
    "import statistics as st\n",
    "from statistics import mode\n",
    "from statistics import variance"
   ]
  },
  {
   "cell_type": "code",
   "execution_count": 49,
   "metadata": {},
   "outputs": [
    {
     "name": "stdout",
     "output_type": "stream",
     "text": [
      "mean = 25.75\n",
      "median = 6.0\n",
      "mode = 3\n",
      "variance = 817.6875\n"
     ]
    }
   ],
   "source": [
    "x = [1,3,55,66,3,66,3,9]\n",
    "mean = np.mean(x)\n",
    "median = np.median(x)\n",
    "mode = mode(x)\n",
    "var = np.var(x)\n",
    "print(f'mean = {mean}')\n",
    "print(f'median = {median}')\n",
    "print(f'mode = {mode}')\n",
    "print(f'variance = {var}')"
   ]
  },
  {
   "cell_type": "code",
   "execution_count": null,
   "metadata": {},
   "outputs": [],
   "source": []
  }
 ],
 "metadata": {
  "kernelspec": {
   "display_name": "Python 3",
   "language": "python",
   "name": "python3"
  },
  "language_info": {
   "codemirror_mode": {
    "name": "ipython",
    "version": 3
   },
   "file_extension": ".py",
   "mimetype": "text/x-python",
   "name": "python",
   "nbconvert_exporter": "python",
   "pygments_lexer": "ipython3",
   "version": "3.7.6"
  }
 },
 "nbformat": 4,
 "nbformat_minor": 4
}
