{
 "cells": [
  {
   "cell_type": "code",
   "execution_count": 9,
   "id": "b299e53e",
   "metadata": {},
   "outputs": [
    {
     "name": "stdout",
     "output_type": "stream",
     "text": [
      " 25.75 \n",
      " 6.0 \n",
      " ModeResult(mode=array([3]), count=array([3]))\n"
     ]
    }
   ],
   "source": [
    "import numpy\n",
    "from scipy import stats\n",
    "arr=[1,3,55,66,3,66,3,9]\n",
    "x=numpy.mean(arr)\n",
    "y=numpy.median(arr)\n",
    "z=stats.mode(arr)\n",
    "print(\"\",x,'\\n',y,'\\n',z)\n",
    "\n"
   ]
  }
 ],
 "metadata": {
  "kernelspec": {
   "display_name": "Python 3",
   "language": "python",
   "name": "python3"
  },
  "language_info": {
   "codemirror_mode": {
    "name": "ipython",
    "version": 3
   },
   "file_extension": ".py",
   "mimetype": "text/x-python",
   "name": "python",
   "nbconvert_exporter": "python",
   "pygments_lexer": "ipython3",
   "version": "3.8.8"
  }
 },
 "nbformat": 4,
 "nbformat_minor": 5
}
