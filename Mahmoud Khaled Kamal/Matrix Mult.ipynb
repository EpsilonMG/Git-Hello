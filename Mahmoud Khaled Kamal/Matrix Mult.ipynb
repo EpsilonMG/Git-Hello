{
 "cells": [
  {
   "cell_type": "code",
   "execution_count": 4,
   "metadata": {},
   "outputs": [
    {
     "data": {
      "text/plain": [
       "[[34, 143, 1204], [49, 203, 1714], [47, 210, 1734]]"
      ]
     },
     "execution_count": 4,
     "metadata": {},
     "output_type": "execute_result"
    }
   ],
   "source": [
    "mat1=[[5,2,3],[8,2,3],[3,10,2]]\n",
    "mat2=[[4,2,5],[3,1,3],[1,1,1]]\n",
    "mat3=mat1\n",
    "for i in range(len(mat1)):\n",
    "            for j in range(len(mat1)):\n",
    "                for l in range(len(mat1)):\n",
    "                    mat3[i][j]+=mat1[i][l]*mat2[l][j]\n",
    "mat3"
   ]
  }
 ],
 "metadata": {
  "kernelspec": {
   "display_name": "Python 3",
   "language": "python",
   "name": "python3"
  },
  "language_info": {
   "codemirror_mode": {
    "name": "ipython",
    "version": 3
   },
   "file_extension": ".py",
   "mimetype": "text/x-python",
   "name": "python",
   "nbconvert_exporter": "python",
   "pygments_lexer": "ipython3",
   "version": "3.7.6"
  }
 },
 "nbformat": 4,
 "nbformat_minor": 4
}
