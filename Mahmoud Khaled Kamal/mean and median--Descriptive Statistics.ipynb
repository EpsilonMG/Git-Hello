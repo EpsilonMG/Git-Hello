{
 "cells": [
  {
   "cell_type": "code",
   "execution_count": 11,
   "source": [
    "l1=[1,3,55,66,3,66,3,9]\r\n",
    "sum=0\r\n",
    "mean=0\r\n",
    "for i in range(len(l1)):\r\n",
    "    sum+=l1[i]\r\n",
    "mean= sum/len(l1)    \r\n",
    "print(f'Mean is {mean}')\r\n",
    "\r\n"
   ],
   "outputs": [
    {
     "output_type": "stream",
     "name": "stdout",
     "text": [
      "Mean is 25.75\n"
     ]
    }
   ],
   "metadata": {}
  },
  {
   "cell_type": "code",
   "execution_count": 12,
   "source": [
    "l1.sort()\r\n",
    "n=len(l1)\r\n",
    "if n%2 ==0:\r\n",
    "    median1=l1[n//2]\r\n",
    "    median2=l1[n//2]\r\n",
    "    median=(median1+median2)/2\r\n",
    "else:\r\n",
    "    median=l1[n/2]    \r\n",
    "print(l1)\r\n",
    "print(f'Median is {median}')"
   ],
   "outputs": [
    {
     "output_type": "stream",
     "name": "stdout",
     "text": [
      "[1, 3, 3, 3, 9, 55, 66, 66]\n",
      "Median is 9.0\n"
     ]
    }
   ],
   "metadata": {}
  }
 ],
 "metadata": {
  "orig_nbformat": 4,
  "language_info": {
   "name": "python",
   "version": "3.7.6",
   "mimetype": "text/x-python",
   "codemirror_mode": {
    "name": "ipython",
    "version": 3
   },
   "pygments_lexer": "ipython3",
   "nbconvert_exporter": "python",
   "file_extension": ".py"
  },
  "kernelspec": {
   "name": "python3",
   "display_name": "Python 3.7.6 64-bit ('base': conda)"
  },
  "interpreter": {
   "hash": "577b889b855cb05d76225ba78eaebb6d6aba735afacbe3cea881587ce9045452"
  }
 },
 "nbformat": 4,
 "nbformat_minor": 2
}