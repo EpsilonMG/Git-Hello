{
 "cells": [
  {
   "cell_type": "code",
   "execution_count": 1,
   "id": "76ced7e4",
   "metadata": {},
   "outputs": [
    {
     "name": "stdout",
     "output_type": "stream",
     "text": [
      "[[ 63 320  83]\n",
      " [ 77 484 102]\n",
      " [ 84 248 117]]\n"
     ]
    }
   ],
   "source": [
    "# We need install numpy in order to import it \n",
    "import numpy as np \n",
    "  \n",
    "# input two matrices \n",
    "mat1 = ([1, 6, 5],[3 ,4, 8],[2, 12, 3]) \n",
    "mat2 = ([3, 4, 6],[5, 6, 7],[6,56, 7]) \n",
    "  \n",
    "# This will return dot product \n",
    "res = np.dot(mat1,mat2) \n",
    "  \n",
    "  \n",
    "# print resulted matrix \n",
    "print(res) "
   ]
  },
  {
   "cell_type": "code",
   "execution_count": null,
   "id": "a6554444",
   "metadata": {},
   "outputs": [],
   "source": []
  }
 ],
 "metadata": {
  "kernelspec": {
   "display_name": "Python 3",
   "language": "python",
   "name": "python3"
  },
  "language_info": {
   "codemirror_mode": {
    "name": "ipython",
    "version": 3
   },
   "file_extension": ".py",
   "mimetype": "text/x-python",
   "name": "python",
   "nbconvert_exporter": "python",
   "pygments_lexer": "ipython3",
   "version": "3.8.8"
  }
 },
 "nbformat": 4,
 "nbformat_minor": 5
}
